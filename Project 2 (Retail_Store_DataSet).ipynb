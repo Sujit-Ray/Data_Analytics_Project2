{
 "cells": [
  {
   "cell_type": "markdown",
   "id": "97842e3a",
   "metadata": {},
   "source": [
    "# Project Title: Retail Store Data Analysis"
   ]
  },
  {
   "cell_type": "markdown",
   "id": "15a64c19",
   "metadata": {},
   "source": [
    "## Dataset Information : -\n",
    "   - The data is related with Analyzing of Retail Stores like D-Mart, Star bazaar etc... \n",
    "   - The Analyzing were based on Branch ,city ,Customertype ,gender ,productline ,Unitprice ,Quantity ,Tax5% ,Total ,Date ,Time ,Payment ,cogs ,gross margin percentage ,gross income, Rating etc .... \n",
    "     \n",
    "      \n",
    "   - The name of the dataset : - Retail_Stores.csv"
   ]
  },
  {
   "cell_type": "markdown",
   "id": "55eac2cb",
   "metadata": {},
   "source": [
    "## Loading Of Dataset & Packages"
   ]
  },
  {
   "cell_type": "code",
   "execution_count": 40,
   "id": "e8c74470",
   "metadata": {},
   "outputs": [],
   "source": [
    "import pandas as pd\n",
    "import matplotlib.pyplot as plt\n",
    "import seaborn as sns\n",
    "import plotly.express as px\n",
    "import plotly.subplots as sp\n",
    "import plotly.graph_objects as go\n",
    "from itertools import cycle\n",
    "import warnings\n",
    "warnings.filterwarnings(\"ignore\")"
   ]
  },
  {
   "cell_type": "code",
   "execution_count": 41,
   "id": "98ce52fa",
   "metadata": {},
   "outputs": [
    {
     "data": {
      "text/html": [
       "<div>\n",
       "<style scoped>\n",
       "    .dataframe tbody tr th:only-of-type {\n",
       "        vertical-align: middle;\n",
       "    }\n",
       "\n",
       "    .dataframe tbody tr th {\n",
       "        vertical-align: top;\n",
       "    }\n",
       "\n",
       "    .dataframe thead th {\n",
       "        text-align: right;\n",
       "    }\n",
       "</style>\n",
       "<table border=\"1\" class=\"dataframe\">\n",
       "  <thead>\n",
       "    <tr style=\"text-align: right;\">\n",
       "      <th></th>\n",
       "      <th>Invoice ID</th>\n",
       "      <th>Branch</th>\n",
       "      <th>City</th>\n",
       "      <th>Customer type</th>\n",
       "      <th>Gender</th>\n",
       "      <th>Product line</th>\n",
       "      <th>Unit price</th>\n",
       "      <th>Quantity</th>\n",
       "      <th>Tax 5%</th>\n",
       "      <th>Total</th>\n",
       "      <th>Date</th>\n",
       "      <th>Time</th>\n",
       "      <th>Payment</th>\n",
       "      <th>cogs</th>\n",
       "      <th>gross margin percentage</th>\n",
       "      <th>gross income</th>\n",
       "      <th>Rating</th>\n",
       "    </tr>\n",
       "  </thead>\n",
       "  <tbody>\n",
       "    <tr>\n",
       "      <th>0</th>\n",
       "      <td>750-67-8428</td>\n",
       "      <td>A</td>\n",
       "      <td>Yangon</td>\n",
       "      <td>Member</td>\n",
       "      <td>Female</td>\n",
       "      <td>Health and beauty</td>\n",
       "      <td>74.69</td>\n",
       "      <td>7</td>\n",
       "      <td>26.1415</td>\n",
       "      <td>548.9715</td>\n",
       "      <td>1/5/2019</td>\n",
       "      <td>13:08</td>\n",
       "      <td>Ewallet</td>\n",
       "      <td>522.83</td>\n",
       "      <td>4.761905</td>\n",
       "      <td>26.1415</td>\n",
       "      <td>9.1</td>\n",
       "    </tr>\n",
       "    <tr>\n",
       "      <th>1</th>\n",
       "      <td>226-31-3081</td>\n",
       "      <td>C</td>\n",
       "      <td>Naypyitaw</td>\n",
       "      <td>Normal</td>\n",
       "      <td>Female</td>\n",
       "      <td>Electronic accessories</td>\n",
       "      <td>15.28</td>\n",
       "      <td>5</td>\n",
       "      <td>3.8200</td>\n",
       "      <td>80.2200</td>\n",
       "      <td>3/8/2019</td>\n",
       "      <td>10:29</td>\n",
       "      <td>Cash</td>\n",
       "      <td>76.40</td>\n",
       "      <td>4.761905</td>\n",
       "      <td>3.8200</td>\n",
       "      <td>9.6</td>\n",
       "    </tr>\n",
       "    <tr>\n",
       "      <th>2</th>\n",
       "      <td>631-41-3108</td>\n",
       "      <td>A</td>\n",
       "      <td>Yangon</td>\n",
       "      <td>Normal</td>\n",
       "      <td>Male</td>\n",
       "      <td>Home and lifestyle</td>\n",
       "      <td>46.33</td>\n",
       "      <td>7</td>\n",
       "      <td>16.2155</td>\n",
       "      <td>340.5255</td>\n",
       "      <td>3/3/2019</td>\n",
       "      <td>13:23</td>\n",
       "      <td>Credit card</td>\n",
       "      <td>324.31</td>\n",
       "      <td>4.761905</td>\n",
       "      <td>16.2155</td>\n",
       "      <td>7.4</td>\n",
       "    </tr>\n",
       "    <tr>\n",
       "      <th>3</th>\n",
       "      <td>123-19-1176</td>\n",
       "      <td>A</td>\n",
       "      <td>Yangon</td>\n",
       "      <td>Member</td>\n",
       "      <td>Male</td>\n",
       "      <td>Health and beauty</td>\n",
       "      <td>58.22</td>\n",
       "      <td>8</td>\n",
       "      <td>23.2880</td>\n",
       "      <td>489.0480</td>\n",
       "      <td>1/27/2019</td>\n",
       "      <td>20:33</td>\n",
       "      <td>Ewallet</td>\n",
       "      <td>465.76</td>\n",
       "      <td>4.761905</td>\n",
       "      <td>23.2880</td>\n",
       "      <td>8.4</td>\n",
       "    </tr>\n",
       "    <tr>\n",
       "      <th>4</th>\n",
       "      <td>373-73-7910</td>\n",
       "      <td>A</td>\n",
       "      <td>Yangon</td>\n",
       "      <td>Normal</td>\n",
       "      <td>Male</td>\n",
       "      <td>Sports and travel</td>\n",
       "      <td>86.31</td>\n",
       "      <td>7</td>\n",
       "      <td>30.2085</td>\n",
       "      <td>634.3785</td>\n",
       "      <td>2/8/2019</td>\n",
       "      <td>10:37</td>\n",
       "      <td>Ewallet</td>\n",
       "      <td>604.17</td>\n",
       "      <td>4.761905</td>\n",
       "      <td>30.2085</td>\n",
       "      <td>5.3</td>\n",
       "    </tr>\n",
       "  </tbody>\n",
       "</table>\n",
       "</div>"
      ],
      "text/plain": [
       "    Invoice ID Branch       City Customer type  Gender  \\\n",
       "0  750-67-8428      A     Yangon        Member  Female   \n",
       "1  226-31-3081      C  Naypyitaw        Normal  Female   \n",
       "2  631-41-3108      A     Yangon        Normal    Male   \n",
       "3  123-19-1176      A     Yangon        Member    Male   \n",
       "4  373-73-7910      A     Yangon        Normal    Male   \n",
       "\n",
       "             Product line  Unit price  Quantity   Tax 5%     Total       Date  \\\n",
       "0       Health and beauty       74.69         7  26.1415  548.9715   1/5/2019   \n",
       "1  Electronic accessories       15.28         5   3.8200   80.2200   3/8/2019   \n",
       "2      Home and lifestyle       46.33         7  16.2155  340.5255   3/3/2019   \n",
       "3       Health and beauty       58.22         8  23.2880  489.0480  1/27/2019   \n",
       "4       Sports and travel       86.31         7  30.2085  634.3785   2/8/2019   \n",
       "\n",
       "    Time      Payment    cogs  gross margin percentage  gross income  Rating  \n",
       "0  13:08      Ewallet  522.83                 4.761905       26.1415     9.1  \n",
       "1  10:29         Cash   76.40                 4.761905        3.8200     9.6  \n",
       "2  13:23  Credit card  324.31                 4.761905       16.2155     7.4  \n",
       "3  20:33      Ewallet  465.76                 4.761905       23.2880     8.4  \n",
       "4  10:37      Ewallet  604.17                 4.761905       30.2085     5.3  "
      ]
     },
     "execution_count": 41,
     "metadata": {},
     "output_type": "execute_result"
    }
   ],
   "source": [
    "data = pd.read_csv(\"C:\\Imp Folder\\WorkstatioN\\DATA_ANALYTICS\\DataSets\\Retail_Stores\\Retail_Stores.csv\")\n",
    "data.head()"
   ]
  },
  {
   "cell_type": "code",
   "execution_count": 42,
   "id": "0b5db177",
   "metadata": {},
   "outputs": [
    {
     "data": {
      "text/html": [
       "<div>\n",
       "<style scoped>\n",
       "    .dataframe tbody tr th:only-of-type {\n",
       "        vertical-align: middle;\n",
       "    }\n",
       "\n",
       "    .dataframe tbody tr th {\n",
       "        vertical-align: top;\n",
       "    }\n",
       "\n",
       "    .dataframe thead th {\n",
       "        text-align: right;\n",
       "    }\n",
       "</style>\n",
       "<table border=\"1\" class=\"dataframe\">\n",
       "  <thead>\n",
       "    <tr style=\"text-align: right;\">\n",
       "      <th></th>\n",
       "      <th>Invoice ID</th>\n",
       "      <th>Branch</th>\n",
       "      <th>City</th>\n",
       "      <th>Customer type</th>\n",
       "      <th>Gender</th>\n",
       "      <th>Product line</th>\n",
       "      <th>Unit price</th>\n",
       "      <th>Quantity</th>\n",
       "      <th>Tax 5%</th>\n",
       "      <th>Total</th>\n",
       "      <th>Date</th>\n",
       "      <th>Time</th>\n",
       "      <th>Payment</th>\n",
       "      <th>cogs</th>\n",
       "      <th>gross margin percentage</th>\n",
       "      <th>gross income</th>\n",
       "      <th>Rating</th>\n",
       "    </tr>\n",
       "  </thead>\n",
       "  <tbody>\n",
       "    <tr>\n",
       "      <th>995</th>\n",
       "      <td>233-67-5758</td>\n",
       "      <td>C</td>\n",
       "      <td>Naypyitaw</td>\n",
       "      <td>Normal</td>\n",
       "      <td>Male</td>\n",
       "      <td>Health and beauty</td>\n",
       "      <td>40.35</td>\n",
       "      <td>1</td>\n",
       "      <td>2.0175</td>\n",
       "      <td>42.3675</td>\n",
       "      <td>1/29/2019</td>\n",
       "      <td>13:46</td>\n",
       "      <td>Ewallet</td>\n",
       "      <td>40.35</td>\n",
       "      <td>4.761905</td>\n",
       "      <td>2.0175</td>\n",
       "      <td>6.2</td>\n",
       "    </tr>\n",
       "    <tr>\n",
       "      <th>996</th>\n",
       "      <td>303-96-2227</td>\n",
       "      <td>B</td>\n",
       "      <td>Mandalay</td>\n",
       "      <td>Normal</td>\n",
       "      <td>Female</td>\n",
       "      <td>Home and lifestyle</td>\n",
       "      <td>97.38</td>\n",
       "      <td>10</td>\n",
       "      <td>48.6900</td>\n",
       "      <td>1022.4900</td>\n",
       "      <td>3/2/2019</td>\n",
       "      <td>17:16</td>\n",
       "      <td>Ewallet</td>\n",
       "      <td>973.80</td>\n",
       "      <td>4.761905</td>\n",
       "      <td>48.6900</td>\n",
       "      <td>4.4</td>\n",
       "    </tr>\n",
       "    <tr>\n",
       "      <th>997</th>\n",
       "      <td>727-02-1313</td>\n",
       "      <td>A</td>\n",
       "      <td>Yangon</td>\n",
       "      <td>Member</td>\n",
       "      <td>Male</td>\n",
       "      <td>Food and beverages</td>\n",
       "      <td>31.84</td>\n",
       "      <td>1</td>\n",
       "      <td>1.5920</td>\n",
       "      <td>33.4320</td>\n",
       "      <td>2/9/2019</td>\n",
       "      <td>13:22</td>\n",
       "      <td>Cash</td>\n",
       "      <td>31.84</td>\n",
       "      <td>4.761905</td>\n",
       "      <td>1.5920</td>\n",
       "      <td>7.7</td>\n",
       "    </tr>\n",
       "    <tr>\n",
       "      <th>998</th>\n",
       "      <td>347-56-2442</td>\n",
       "      <td>A</td>\n",
       "      <td>Yangon</td>\n",
       "      <td>Normal</td>\n",
       "      <td>Male</td>\n",
       "      <td>Home and lifestyle</td>\n",
       "      <td>65.82</td>\n",
       "      <td>1</td>\n",
       "      <td>3.2910</td>\n",
       "      <td>69.1110</td>\n",
       "      <td>2/22/2019</td>\n",
       "      <td>15:33</td>\n",
       "      <td>Cash</td>\n",
       "      <td>65.82</td>\n",
       "      <td>4.761905</td>\n",
       "      <td>3.2910</td>\n",
       "      <td>4.1</td>\n",
       "    </tr>\n",
       "    <tr>\n",
       "      <th>999</th>\n",
       "      <td>849-09-3807</td>\n",
       "      <td>A</td>\n",
       "      <td>Yangon</td>\n",
       "      <td>Member</td>\n",
       "      <td>Female</td>\n",
       "      <td>Fashion accessories</td>\n",
       "      <td>88.34</td>\n",
       "      <td>7</td>\n",
       "      <td>30.9190</td>\n",
       "      <td>649.2990</td>\n",
       "      <td>2/18/2019</td>\n",
       "      <td>13:28</td>\n",
       "      <td>Cash</td>\n",
       "      <td>618.38</td>\n",
       "      <td>4.761905</td>\n",
       "      <td>30.9190</td>\n",
       "      <td>6.6</td>\n",
       "    </tr>\n",
       "  </tbody>\n",
       "</table>\n",
       "</div>"
      ],
      "text/plain": [
       "      Invoice ID Branch       City Customer type  Gender         Product line  \\\n",
       "995  233-67-5758      C  Naypyitaw        Normal    Male    Health and beauty   \n",
       "996  303-96-2227      B   Mandalay        Normal  Female   Home and lifestyle   \n",
       "997  727-02-1313      A     Yangon        Member    Male   Food and beverages   \n",
       "998  347-56-2442      A     Yangon        Normal    Male   Home and lifestyle   \n",
       "999  849-09-3807      A     Yangon        Member  Female  Fashion accessories   \n",
       "\n",
       "     Unit price  Quantity   Tax 5%      Total       Date   Time  Payment  \\\n",
       "995       40.35         1   2.0175    42.3675  1/29/2019  13:46  Ewallet   \n",
       "996       97.38        10  48.6900  1022.4900   3/2/2019  17:16  Ewallet   \n",
       "997       31.84         1   1.5920    33.4320   2/9/2019  13:22     Cash   \n",
       "998       65.82         1   3.2910    69.1110  2/22/2019  15:33     Cash   \n",
       "999       88.34         7  30.9190   649.2990  2/18/2019  13:28     Cash   \n",
       "\n",
       "       cogs  gross margin percentage  gross income  Rating  \n",
       "995   40.35                 4.761905        2.0175     6.2  \n",
       "996  973.80                 4.761905       48.6900     4.4  \n",
       "997   31.84                 4.761905        1.5920     7.7  \n",
       "998   65.82                 4.761905        3.2910     4.1  \n",
       "999  618.38                 4.761905       30.9190     6.6  "
      ]
     },
     "execution_count": 42,
     "metadata": {},
     "output_type": "execute_result"
    }
   ],
   "source": [
    "data.tail()"
   ]
  },
  {
   "cell_type": "code",
   "execution_count": 43,
   "id": "1524773d",
   "metadata": {},
   "outputs": [
    {
     "data": {
      "text/plain": [
       "(1000, 17)"
      ]
     },
     "execution_count": 43,
     "metadata": {},
     "output_type": "execute_result"
    }
   ],
   "source": [
    "data.shape"
   ]
  },
  {
   "cell_type": "markdown",
   "id": "d47f6b9f",
   "metadata": {},
   "source": [
    "## EDA Part :--"
   ]
  },
  {
   "cell_type": "code",
   "execution_count": 44,
   "id": "1c9fddb4",
   "metadata": {},
   "outputs": [
    {
     "data": {
      "text/html": [
       "<div>\n",
       "<style scoped>\n",
       "    .dataframe tbody tr th:only-of-type {\n",
       "        vertical-align: middle;\n",
       "    }\n",
       "\n",
       "    .dataframe tbody tr th {\n",
       "        vertical-align: top;\n",
       "    }\n",
       "\n",
       "    .dataframe thead th {\n",
       "        text-align: right;\n",
       "    }\n",
       "</style>\n",
       "<table border=\"1\" class=\"dataframe\">\n",
       "  <thead>\n",
       "    <tr style=\"text-align: right;\">\n",
       "      <th></th>\n",
       "      <th>Unit price</th>\n",
       "      <th>Quantity</th>\n",
       "      <th>Tax 5%</th>\n",
       "      <th>Total</th>\n",
       "      <th>cogs</th>\n",
       "      <th>gross margin percentage</th>\n",
       "      <th>gross income</th>\n",
       "      <th>Rating</th>\n",
       "    </tr>\n",
       "  </thead>\n",
       "  <tbody>\n",
       "    <tr>\n",
       "      <th>count</th>\n",
       "      <td>1000.000000</td>\n",
       "      <td>1000.000000</td>\n",
       "      <td>1000.000000</td>\n",
       "      <td>1000.000000</td>\n",
       "      <td>1000.00000</td>\n",
       "      <td>1.000000e+03</td>\n",
       "      <td>1000.000000</td>\n",
       "      <td>1000.00000</td>\n",
       "    </tr>\n",
       "    <tr>\n",
       "      <th>mean</th>\n",
       "      <td>55.672130</td>\n",
       "      <td>5.510000</td>\n",
       "      <td>15.379369</td>\n",
       "      <td>322.966749</td>\n",
       "      <td>307.58738</td>\n",
       "      <td>4.761905e+00</td>\n",
       "      <td>15.379369</td>\n",
       "      <td>6.97270</td>\n",
       "    </tr>\n",
       "    <tr>\n",
       "      <th>std</th>\n",
       "      <td>26.494628</td>\n",
       "      <td>2.923431</td>\n",
       "      <td>11.708825</td>\n",
       "      <td>245.885335</td>\n",
       "      <td>234.17651</td>\n",
       "      <td>6.131498e-14</td>\n",
       "      <td>11.708825</td>\n",
       "      <td>1.71858</td>\n",
       "    </tr>\n",
       "    <tr>\n",
       "      <th>min</th>\n",
       "      <td>10.080000</td>\n",
       "      <td>1.000000</td>\n",
       "      <td>0.508500</td>\n",
       "      <td>10.678500</td>\n",
       "      <td>10.17000</td>\n",
       "      <td>4.761905e+00</td>\n",
       "      <td>0.508500</td>\n",
       "      <td>4.00000</td>\n",
       "    </tr>\n",
       "    <tr>\n",
       "      <th>25%</th>\n",
       "      <td>32.875000</td>\n",
       "      <td>3.000000</td>\n",
       "      <td>5.924875</td>\n",
       "      <td>124.422375</td>\n",
       "      <td>118.49750</td>\n",
       "      <td>4.761905e+00</td>\n",
       "      <td>5.924875</td>\n",
       "      <td>5.50000</td>\n",
       "    </tr>\n",
       "    <tr>\n",
       "      <th>50%</th>\n",
       "      <td>55.230000</td>\n",
       "      <td>5.000000</td>\n",
       "      <td>12.088000</td>\n",
       "      <td>253.848000</td>\n",
       "      <td>241.76000</td>\n",
       "      <td>4.761905e+00</td>\n",
       "      <td>12.088000</td>\n",
       "      <td>7.00000</td>\n",
       "    </tr>\n",
       "    <tr>\n",
       "      <th>75%</th>\n",
       "      <td>77.935000</td>\n",
       "      <td>8.000000</td>\n",
       "      <td>22.445250</td>\n",
       "      <td>471.350250</td>\n",
       "      <td>448.90500</td>\n",
       "      <td>4.761905e+00</td>\n",
       "      <td>22.445250</td>\n",
       "      <td>8.50000</td>\n",
       "    </tr>\n",
       "    <tr>\n",
       "      <th>max</th>\n",
       "      <td>99.960000</td>\n",
       "      <td>10.000000</td>\n",
       "      <td>49.650000</td>\n",
       "      <td>1042.650000</td>\n",
       "      <td>993.00000</td>\n",
       "      <td>4.761905e+00</td>\n",
       "      <td>49.650000</td>\n",
       "      <td>10.00000</td>\n",
       "    </tr>\n",
       "  </tbody>\n",
       "</table>\n",
       "</div>"
      ],
      "text/plain": [
       "        Unit price     Quantity       Tax 5%        Total        cogs  \\\n",
       "count  1000.000000  1000.000000  1000.000000  1000.000000  1000.00000   \n",
       "mean     55.672130     5.510000    15.379369   322.966749   307.58738   \n",
       "std      26.494628     2.923431    11.708825   245.885335   234.17651   \n",
       "min      10.080000     1.000000     0.508500    10.678500    10.17000   \n",
       "25%      32.875000     3.000000     5.924875   124.422375   118.49750   \n",
       "50%      55.230000     5.000000    12.088000   253.848000   241.76000   \n",
       "75%      77.935000     8.000000    22.445250   471.350250   448.90500   \n",
       "max      99.960000    10.000000    49.650000  1042.650000   993.00000   \n",
       "\n",
       "       gross margin percentage  gross income      Rating  \n",
       "count             1.000000e+03   1000.000000  1000.00000  \n",
       "mean              4.761905e+00     15.379369     6.97270  \n",
       "std               6.131498e-14     11.708825     1.71858  \n",
       "min               4.761905e+00      0.508500     4.00000  \n",
       "25%               4.761905e+00      5.924875     5.50000  \n",
       "50%               4.761905e+00     12.088000     7.00000  \n",
       "75%               4.761905e+00     22.445250     8.50000  \n",
       "max               4.761905e+00     49.650000    10.00000  "
      ]
     },
     "execution_count": 44,
     "metadata": {},
     "output_type": "execute_result"
    }
   ],
   "source": [
    "data.describe()"
   ]
  },
  {
   "cell_type": "code",
   "execution_count": 45,
   "id": "1d51dc52",
   "metadata": {},
   "outputs": [
    {
     "name": "stdout",
     "output_type": "stream",
     "text": [
      "<class 'pandas.core.frame.DataFrame'>\n",
      "RangeIndex: 1000 entries, 0 to 999\n",
      "Data columns (total 17 columns):\n",
      " #   Column                   Non-Null Count  Dtype  \n",
      "---  ------                   --------------  -----  \n",
      " 0   Invoice ID               1000 non-null   object \n",
      " 1   Branch                   1000 non-null   object \n",
      " 2   City                     1000 non-null   object \n",
      " 3   Customer type            1000 non-null   object \n",
      " 4   Gender                   1000 non-null   object \n",
      " 5   Product line             1000 non-null   object \n",
      " 6   Unit price               1000 non-null   float64\n",
      " 7   Quantity                 1000 non-null   int64  \n",
      " 8   Tax 5%                   1000 non-null   float64\n",
      " 9   Total                    1000 non-null   float64\n",
      " 10  Date                     1000 non-null   object \n",
      " 11  Time                     1000 non-null   object \n",
      " 12  Payment                  1000 non-null   object \n",
      " 13  cogs                     1000 non-null   float64\n",
      " 14  gross margin percentage  1000 non-null   float64\n",
      " 15  gross income             1000 non-null   float64\n",
      " 16  Rating                   1000 non-null   float64\n",
      "dtypes: float64(7), int64(1), object(9)\n",
      "memory usage: 132.9+ KB\n"
     ]
    }
   ],
   "source": [
    "data.info()"
   ]
  },
  {
   "cell_type": "code",
   "execution_count": 46,
   "id": "72c8a8b4",
   "metadata": {},
   "outputs": [
    {
     "data": {
      "text/plain": [
       "Invoice ID                 0\n",
       "Branch                     0\n",
       "City                       0\n",
       "Customer type              0\n",
       "Gender                     0\n",
       "Product line               0\n",
       "Unit price                 0\n",
       "Quantity                   0\n",
       "Tax 5%                     0\n",
       "Total                      0\n",
       "Date                       0\n",
       "Time                       0\n",
       "Payment                    0\n",
       "cogs                       0\n",
       "gross margin percentage    0\n",
       "gross income               0\n",
       "Rating                     0\n",
       "dtype: int64"
      ]
     },
     "execution_count": 46,
     "metadata": {},
     "output_type": "execute_result"
    }
   ],
   "source": [
    "data.isnull().sum()"
   ]
  },
  {
   "cell_type": "code",
   "execution_count": 47,
   "id": "2da7581e",
   "metadata": {},
   "outputs": [
    {
     "data": {
      "text/plain": [
       "0      False\n",
       "1      False\n",
       "2      False\n",
       "3      False\n",
       "4      False\n",
       "       ...  \n",
       "995    False\n",
       "996    False\n",
       "997    False\n",
       "998    False\n",
       "999    False\n",
       "Length: 1000, dtype: bool"
      ]
     },
     "execution_count": 47,
     "metadata": {},
     "output_type": "execute_result"
    }
   ],
   "source": [
    "data.duplicated()"
   ]
  },
  {
   "cell_type": "code",
   "execution_count": 48,
   "id": "076b41b6",
   "metadata": {},
   "outputs": [
    {
     "data": {
      "text/plain": [
       "Index(['Invoice ID', 'Branch', 'City', 'Customer type', 'Gender',\n",
       "       'Product line', 'Unit price', 'Quantity', 'Tax 5%', 'Total', 'Date',\n",
       "       'Time', 'Payment', 'cogs', 'gross margin percentage', 'gross income',\n",
       "       'Rating'],\n",
       "      dtype='object')"
      ]
     },
     "execution_count": 48,
     "metadata": {},
     "output_type": "execute_result"
    }
   ],
   "source": [
    "data.columns"
   ]
  },
  {
   "cell_type": "code",
   "execution_count": 49,
   "id": "701f60db",
   "metadata": {},
   "outputs": [
    {
     "name": "stdout",
     "output_type": "stream",
     "text": [
      "Invoice ID 1000\n",
      "***************\n",
      "Branch 3\n",
      "***************\n",
      "City 3\n",
      "***************\n",
      "Customer type 2\n",
      "***************\n",
      "Gender 2\n",
      "***************\n",
      "Product line 6\n",
      "***************\n",
      "Unit price 943\n",
      "***************\n",
      "Quantity 10\n",
      "***************\n",
      "Tax 5% 990\n",
      "***************\n",
      "Total 990\n",
      "***************\n",
      "Date 89\n",
      "***************\n",
      "Time 506\n",
      "***************\n",
      "Payment 3\n",
      "***************\n",
      "cogs 990\n",
      "***************\n",
      "gross margin percentage 1\n",
      "***************\n",
      "gross income 990\n",
      "***************\n",
      "Rating 61\n",
      "***************\n"
     ]
    }
   ],
   "source": [
    "for col in ['Invoice ID', 'Branch', 'City', 'Customer type', 'Gender',\n",
    "       'Product line', 'Unit price', 'Quantity', 'Tax 5%', 'Total', 'Date',\n",
    "       'Time', 'Payment', 'cogs', 'gross margin percentage', 'gross income',\n",
    "       'Rating']:\n",
    "    print(col,len(data[col].unique()))\n",
    "    print('*'*15)"
   ]
  },
  {
   "cell_type": "code",
   "execution_count": 50,
   "id": "6659c8ad",
   "metadata": {},
   "outputs": [
    {
     "data": {
      "image/png": "[encoded data removed]",
      "text/plain": [
       "<Figure size 720x720 with 1 Axes>"
      ]
     },
     "metadata": {
      "needs_background": "light"
     },
     "output_type": "display_data"
    }
   ],
   "source": [
    "sns.countplot(x = 'Rating', data = data)\n",
    "plt.rcParams['figure.figsize']=(20,10)\n",
    "plt.show()"
   ]
  },
  {
   "cell_type": "code",
   "execution_count": 51,
   "id": "7a3d8d22",
   "metadata": {},
   "outputs": [
    {
     "data": {
      "image/png": "[encoded data removed]",
      "text/plain": [
       "<Figure size 1440x720 with 1 Axes>"
      ]
     },
     "metadata": {
      "needs_background": "light"
     },
     "output_type": "display_data"
    }
   ],
   "source": [
    "sns.countplot( x = 'Product line' ,hue = 'Customer type' ,data = data)\n",
    "plt.show()"
   ]
  },
  {
   "cell_type": "code",
   "execution_count": 52,
   "id": "dcb2250b",
   "metadata": {},
   "outputs": [
    {
     "data": {
      "image/png": "[encoded data removed]",
      "text/plain": [
       "<Figure size 1440x720 with 1 Axes>"
      ]
     },
     "metadata": {
      "needs_background": "light"
     },
     "output_type": "display_data"
    }
   ],
   "source": [
    "sns.countplot( x = 'Product line' ,hue = 'Gender' ,data = data)\n",
    "plt.show()"
   ]
  },
  {
   "cell_type": "code",
   "execution_count": 53,
   "id": "863ca14e",
   "metadata": {},
   "outputs": [
    {
     "data": {
      "image/png": "[encoded data removed]",
      "text/plain": [
       "<Figure size 1440x720 with 1 Axes>"
      ]
     },
     "metadata": {
      "needs_background": "light"
     },
     "output_type": "display_data"
    }
   ],
   "source": [
    "sns.countplot( x = 'Product line' ,hue = 'City' ,data = data)\n",
    "plt.show()"
   ]
  },
  {
   "cell_type": "code",
   "execution_count": 54,
   "id": "5e660fe5",
   "metadata": {},
   "outputs": [
    {
     "data": {
      "image/png": "[encoded data removed]",
      "text/plain": [
       "<Figure size 1440x720 with 1 Axes>"
      ]
     },
     "metadata": {
      "needs_background": "light"
     },
     "output_type": "display_data"
    }
   ],
   "source": [
    "sns.countplot( x = 'Product line' ,hue = 'Quantity' ,data = data)\n",
    "plt.show()"
   ]
  },
  {
   "cell_type": "code",
   "execution_count": 55,
   "id": "6780d0e6",
   "metadata": {},
   "outputs": [
    {
     "data": {
      "image/png": "[encoded data removed]",
      "text/plain": [
       "<Figure size 1440x720 with 1 Axes>"
      ]
     },
     "metadata": {
      "needs_background": "light"
     },
     "output_type": "display_data"
    }
   ],
   "source": [
    "sns.countplot( x = 'City' ,hue = 'Payment' ,data = data)\n",
    "plt.show()"
   ]
  },
  {
   "cell_type": "code",
   "execution_count": 56,
   "id": "56e60e15",
   "metadata": {},
   "outputs": [
    {
     "data": {
      "image/png": "[encoded data removed]",
      "text/plain": [
       "<Figure size 1440x720 with 1 Axes>"
      ]
     },
     "metadata": {
      "needs_background": "light"
     },
     "output_type": "display_data"
    }
   ],
   "source": [
    "sns.countplot( x = 'Rating' ,hue = 'City' ,data = data)\n",
    "plt.show()"
   ]
  },
  {
   "cell_type": "markdown",
   "id": "b5dc4fa3",
   "metadata": {},
   "source": [
    "### We can see the distribution of features : --"
   ]
  },
  {
   "cell_type": "code",
   "execution_count": 57,
   "id": "65a369b2",
   "metadata": {},
   "outputs": [],
   "source": [
    "def countplot(label, data):\n",
    "  plt.figure(figsize=(20,10))\n",
    "  ax=sns.countplot(x=label,data=data,palette = \"Set3\")\n",
    "  ax.set_title(f\"Distribution of feature {label.upper()}\", fontsize=22,pad=10)\n",
    "  plt.show()"
   ]
  },
  {
   "cell_type": "code",
   "execution_count": 58,
   "id": "25a7d83c",
   "metadata": {},
   "outputs": [
    {
     "data": {
      "image/png": "[encoded data removed]",
      "text/plain": [
       "<Figure size 1440x720 with 1 Axes>"
      ]
     },
     "metadata": {
      "needs_background": "light"
     },
     "output_type": "display_data"
    }
   ],
   "source": [
    "countplot(\"Branch\",data)"
   ]
  },
  {
   "cell_type": "code",
   "execution_count": 59,
   "id": "a2a8c2f6",
   "metadata": {},
   "outputs": [
    {
     "data": {
      "image/png": "[encoded data removed]",
      "text/plain": [
       "<Figure size 1440x720 with 1 Axes>"
      ]
     },
     "metadata": {
      "needs_background": "light"
     },
     "output_type": "display_data"
    }
   ],
   "source": [
    "countplot(\"Customer type\",data)"
   ]
  },
  {
   "cell_type": "code",
   "execution_count": 60,
   "id": "74ca2cc8",
   "metadata": {},
   "outputs": [
    {
     "data": {
      "image/png": "[encoded data removed]",
      "text/plain": [
       "<Figure size 1440x720 with 1 Axes>"
      ]
     },
     "metadata": {
      "needs_background": "light"
     },
     "output_type": "display_data"
    }
   ],
   "source": [
    "#sns.countplot(data = data,x = 'City',color = 'darkred')\n",
    "countplot(\"City\",data)"
   ]
  },
  {
   "cell_type": "code",
   "execution_count": 61,
   "id": "7c88bddf",
   "metadata": {},
   "outputs": [
    {
     "data": {
      "image/png": "[encoded data removed]",
      "text/plain": [
       "<Figure size 1440x720 with 1 Axes>"
      ]
     },
     "metadata": {
      "needs_background": "light"
     },
     "output_type": "display_data"
    }
   ],
   "source": [
    "countplot(\"Product line\",data)"
   ]
  },
  {
   "cell_type": "code",
   "execution_count": 62,
   "id": "8ce23177",
   "metadata": {},
   "outputs": [
    {
     "data": {
      "image/png": "[encoded data removed]",
      "text/plain": [
       "<Figure size 1440x720 with 1 Axes>"
      ]
     },
     "metadata": {
      "needs_background": "light"
     },
     "output_type": "display_data"
    }
   ],
   "source": [
    "countplot(\"Gender\",data)"
   ]
  },
  {
   "cell_type": "code",
   "execution_count": 63,
   "id": "20b884e3",
   "metadata": {},
   "outputs": [
    {
     "data": {
      "image/png": "[encoded data removed]",
      "text/plain": [
       "<Figure size 1440x720 with 1 Axes>"
      ]
     },
     "metadata": {
      "needs_background": "light"
     },
     "output_type": "display_data"
    }
   ],
   "source": [
    "countplot(\"Quantity\",data)"
   ]
  },
  {
   "cell_type": "code",
   "execution_count": 64,
   "id": "fdad0d44",
   "metadata": {},
   "outputs": [
    {
     "data": {
      "image/png": "[encoded data removed]",
      "text/plain": [
       "<Figure size 1440x720 with 1 Axes>"
      ]
     },
     "metadata": {
      "needs_background": "light"
     },
     "output_type": "display_data"
    }
   ],
   "source": [
    "countplot(\"Payment\",data)"
   ]
  },
  {
   "cell_type": "markdown",
   "id": "b0742c66",
   "metadata": {},
   "source": [
    "### We can check the boxplot : --"
   ]
  },
  {
   "cell_type": "code",
   "execution_count": 73,
   "id": "f72924d3",
   "metadata": {},
   "outputs": [
    {
     "data": {
      "image/png": "[encoded data removed]",
      "text/plain": [
       "<Figure size 720x720 with 10 Axes>"
      ]
     },
     "metadata": {
      "needs_background": "light"
     },
     "output_type": "display_data"
    }
   ],
   "source": [
    "data.plot( kind = 'box', subplots = True,layout = (5,2),color =\"red\")\n",
    "plt.rcParams['figure.figsize']=(10,10)\n",
    "plt.show()"
   ]
  },
  {
   "cell_type": "markdown",
   "id": "7263dd18",
   "metadata": {},
   "source": [
    "### We can check the Histogram : --"
   ]
  },
  {
   "cell_type": "code",
   "execution_count": 66,
   "id": "7dc1181b",
   "metadata": {},
   "outputs": [
    {
     "data": {
      "image/png": "[encoded data removed]",
      "text/plain": [
       "<Figure size 720x720 with 9 Axes>"
      ]
     },
     "metadata": {
      "needs_background": "light"
     },
     "output_type": "display_data"
    },
    {
     "data": {
      "text/plain": [
       "<Figure size 0x0 with 0 Axes>"
      ]
     },
     "metadata": {},
     "output_type": "display_data"
    }
   ],
   "source": [
    "data.hist()\n",
    "plt.tight_layout(pad=0)\n",
    "plt.figure(figsize = (0,0))\n",
    "plt.show()"
   ]
  },
  {
   "cell_type": "markdown",
   "id": "860b3c26",
   "metadata": {},
   "source": [
    "### We can check the correlation between the features we have by the using of Heatmap ."
   ]
  },
  {
   "cell_type": "code",
   "execution_count": 67,
   "id": "139cf11e",
   "metadata": {},
   "outputs": [
    {
     "data": {
      "image/png": "[encoded data removed]",
      "text/plain": [
       "<Figure size 1440x720 with 2 Axes>"
      ]
     },
     "metadata": {
      "needs_background": "light"
     },
     "output_type": "display_data"
    }
   ],
   "source": [
    "plt.figure(figsize=(20,10))\n",
    "ax=sns.heatmap(data.corr(),annot=True,fmt='.2%', cmap='OrRd_r')"
   ]
  },
  {
   "cell_type": "markdown",
   "id": "84b5b92b",
   "metadata": {},
   "source": [
    "## Checking for null values :--"
   ]
  },
  {
   "cell_type": "code",
   "execution_count": 68,
   "id": "a40efb54",
   "metadata": {},
   "outputs": [
    {
     "data": {
      "image/png": "[encoded data removed]",
      "text/plain": [
       "<Figure size 720x720 with 2 Axes>"
      ]
     },
     "metadata": {
      "needs_background": "light"
     },
     "output_type": "display_data"
    }
   ],
   "source": [
    "sns.heatmap(data.isnull(), yticklabels=False,cmap= 'Dark2')\n",
    "plt.rcParams['figure.figsize']=(5,5)"
   ]
  },
  {
   "cell_type": "markdown",
   "id": "53f22d1b",
   "metadata": {},
   "source": [
    "### Here we can see there is no null value present ."
   ]
  },
  {
   "cell_type": "code",
   "execution_count": 69,
   "id": "02fc5903",
   "metadata": {},
   "outputs": [
    {
     "data": {
      "application/vnd.plotly.v1+json": {
       "config": {
        "plotlyServerURL": "https://plot.ly"
       },
       "data": [
        {
         "domain": {
          "x": [
           0,
           0.46
          ],
          "y": [
           0.55,
           1
          ]
         },
         "hoverinfo": "label+value+percent",
         "labels": [
          "A",
          "B",
          "C"
         ],
         "legendgroup": "Branch",
         "legendgrouptitle": {
          "text": "Branch"
         },
         "marker": {
          "colors": [
           "rgb(3, 35, 51)",
           "rgb(13, 48, 100)",
           "rgb(53, 50, 155)"
          ]
         },
         "name": "Branch",
         "textinfo": "percent+label",
         "type": "pie",
         "values": [
          340,
          332,
          328
         ]
        },
        {
         "domain": {
          "x": [
           0.54,
           1
          ],
          "y": [
           0.55,
           1
          ]
         },
         "hoverinfo": "label+value+percent",
         "labels": [
          "Yangon",
          "Mandalay",
          "Naypyitaw"
         ],
         "legendgroup": "City",
         "legendgrouptitle": {
          "text": "City"
         },
         "marker": {
          "colors": [
           "rgb(93, 62, 153)",
           "rgb(126, 77, 143)",
           "rgb(158, 89, 135)"
          ]
         },
         "name": "City",
         "textinfo": "percent+label",
         "type": "pie",
         "values": [
          340,
          332,
          328
         ]
        },
        {
         "domain": {
          "x": [
           0,
           0.46
          ],
          "y": [
           0,
           0.45
          ]
         },
         "hoverinfo": "label+value+percent",
         "labels": [
          "Female",
          "Male"
         ],
         "legendgroup": "Gender",
         "legendgrouptitle": {
          "text": "Gender"
         },
         "marker": {
          "colors": [
           "rgb(193, 100, 121)",
           "rgb(225, 113, 97)"
          ]
         },
         "name": "Gender",
         "textinfo": "percent+label",
         "type": "pie",
         "values": [
          501,
          499
         ]
        },
        {
         "domain": {
          "x": [
           0.54,
           1
          ],
          "y": [
           0,
           0.45
          ]
         },
         "hoverinfo": "label+value+percent",
         "labels": [
          "Ewallet",
          "Cash",
          "Credit card"
         ],
         "legendgroup": "Payment",
         "legendgrouptitle": {
          "text": "Payment"
         },
         "marker": {
          "colors": [
           "rgb(246, 139, 69)",
           "rgb(251, 173, 60)",
           "rgb(246, 211, 70)"
          ]
         },
         "name": "Payment",
         "textinfo": "percent+label",
         "type": "pie",
         "values": [
          345,
          344,
          311
         ]
        }
       ],
       "layout": {
        "annotations": [
         {
          "font": {
           "size": 16
          },
          "showarrow": false,
          "text": "Branch",
          "x": 0.23,
          "xanchor": "center",
          "xref": "paper",
          "y": 1,
          "yanchor": "bottom",
          "yref": "paper"
         },
         {
          "font": {
           "size": 16
          },
          "showarrow": false,
          "text": "City",
          "x": 0.77,
          "xanchor": "center",
          "xref": "paper",
          "y": 1,
          "yanchor": "bottom",
          "yref": "paper"
         },
         {
          "font": {
           "size": 16
          },
          "showarrow": false,
          "text": "Gender",
          "x": 0.23,
          "xanchor": "center",
          "xref": "paper",
          "y": 0.45,
          "yanchor": "bottom",
          "yref": "paper"
         },
         {
          "font": {
           "size": 16
          },
          "showarrow": false,
          "text": "Payment",
          "x": 0.77,
          "xanchor": "center",
          "xref": "paper",
          "y": 0.45,
          "yanchor": "bottom",
          "yref": "paper"
         }
        ],
        "height": 800,
        "paper_bgcolor": "rgb(229, 237, 247)",
        "plot_bgcolor": "rgb(229, 237, 247)",
        "template": {
         "data": {
          "bar": [
           {
            "error_x": {
             "color": "#2a3f5f"
            },
            "error_y": {
             "color": "#2a3f5f"
            },
            "marker": {
             "line": {
              "color": "#E5ECF6",
              "width": 0.5
             },
             "pattern": {
              "fillmode": "overlay",
              "size": 10,
              "solidity": 0.2
             }
            },
            "type": "bar"
           }
          ],
          "barpolar": [
           {
            "marker": {
             "line": {
              "color": "#E5ECF6",
              "width": 0.5
             },
             "pattern": {
              "fillmode": "overlay",
              "size": 10,
              "solidity": 0.2
             }
            },
            "type": "barpolar"
           }
          ],
          "carpet": [
           {
            "aaxis": {
             "endlinecolor": "#2a3f5f",
             "gridcolor": "white",
             "linecolor": "white",
             "minorgridcolor": "white",
             "startlinecolor": "#2a3f5f"
            },
            "baxis": {
             "endlinecolor": "#2a3f5f",
             "gridcolor": "white",
             "linecolor": "white",
             "minorgridcolor": "white",
             "startlinecolor": "#2a3f5f"
            },
            "type": "carpet"
           }
          ],
          "choropleth": [
           {
            "colorbar": {
             "outlinewidth": 0,
             "ticks": ""
            },
            "type": "choropleth"
           }
          ],
          "contour": [
           {
            "colorbar": {
             "outlinewidth": 0,
             "ticks": ""
            },
            "colorscale": [
             [
              0,
              "#0d0887"
             ],
             [
              0.1111111111111111,
              "#46039f"
             ],
             [
              0.2222222222222222,
              "#7201a8"
             ],
             [
              0.3333333333333333,
              "#9c179e"
             ],
             [
              0.4444444444444444,
              "#bd3786"
             ],
             [
              0.5555555555555556,
              "#d8576b"
             ],
             [
              0.6666666666666666,
              "#ed7953"
             ],
             [
              0.7777777777777778,
              "#fb9f3a"
             ],
             [
              0.8888888888888888,
              "#fdca26"
             ],
             [
              1,
              "#f0f921"
             ]
            ],
            "type": "contour"
           }
          ],
          "contourcarpet": [
           {
            "colorbar": {
             "outlinewidth": 0,
             "ticks": ""
            },
            "type": "contourcarpet"
           }
          ],
          "heatmap": [
           {
            "colorbar": {
             "outlinewidth": 0,
             "ticks": ""
            },
            "colorscale": [
             [
              0,
              "#0d0887"
             ],
             [
              0.1111111111111111,
              "#46039f"
             ],
             [
              0.2222222222222222,
              "#7201a8"
             ],
             [
              0.3333333333333333,
              "#9c179e"
             ],
             [
              0.4444444444444444,
              "#bd3786"
             ],
             [
              0.5555555555555556,
              "#d8576b"
             ],
             [
              0.6666666666666666,
              "#ed7953"
             ],
             [
              0.7777777777777778,
              "#fb9f3a"
             ],
             [
              0.8888888888888888,
              "#fdca26"
             ],
             [
              1,
              "#f0f921"
             ]
            ],
            "type": "heatmap"
           }
          ],
          "heatmapgl": [
           {
            "colorbar": {
             "outlinewidth": 0,
             "ticks": ""
            },
            "colorscale": [
             [
              0,
              "#0d0887"
             ],
             [
              0.1111111111111111,
              "#46039f"
             ],
             [
              0.2222222222222222,
              "#7201a8"
             ],
             [
              0.3333333333333333,
              "#9c179e"
             ],
             [
              0.4444444444444444,
              "#bd3786"
             ],
             [
              0.5555555555555556,
              "#d8576b"
             ],
             [
              0.6666666666666666,
              "#ed7953"
             ],
             [
              0.7777777777777778,
              "#fb9f3a"
             ],
             [
              0.8888888888888888,
              "#fdca26"
             ],
             [
              1,
              "#f0f921"
             ]
            ],
            "type": "heatmapgl"
           }
          ],
          "histogram": [
           {
            "marker": {
             "pattern": {
              "fillmode": "overlay",
              "size": 10,
              "solidity": 0.2
             }
            },
            "type": "histogram"
           }
          ],
          "histogram2d": [
           {
            "colorbar": {
             "outlinewidth": 0,
             "ticks": ""
            },
            "colorscale": [
             [
              0,
              "#0d0887"
             ],
             [
              0.1111111111111111,
              "#46039f"
             ],
             [
              0.2222222222222222,
              "#7201a8"
             ],
             [
              0.3333333333333333,
              "#9c179e"
             ],
             [
              0.4444444444444444,
              "#bd3786"
             ],
             [
              0.5555555555555556,
              "#d8576b"
             ],
             [
              0.6666666666666666,
              "#ed7953"
             ],
             [
              0.7777777777777778,
              "#fb9f3a"
             ],
             [
              0.8888888888888888,
              "#fdca26"
             ],
             [
              1,
              "#f0f921"
             ]
            ],
            "type": "histogram2d"
           }
          ],
          "histogram2dcontour": [
           {
            "colorbar": {
             "outlinewidth": 0,
             "ticks": ""
            },
            "colorscale": [
             [
              0,
              "#0d0887"
             ],
             [
              0.1111111111111111,
              "#46039f"
             ],
             [
              0.2222222222222222,
              "#7201a8"
             ],
             [
              0.3333333333333333,
              "#9c179e"
             ],
             [
              0.4444444444444444,
              "#bd3786"
             ],
             [
              0.5555555555555556,
              "#d8576b"
             ],
             [
              0.6666666666666666,
              "#ed7953"
             ],
             [
              0.7777777777777778,
              "#fb9f3a"
             ],
             [
              0.8888888888888888,
              "#fdca26"
             ],
             [
              1,
              "#f0f921"
             ]
            ],
            "type": "histogram2dcontour"
           }
          ],
          "mesh3d": [
           {
            "colorbar": {
             "outlinewidth": 0,
             "ticks": ""
            },
            "type": "mesh3d"
           }
          ],
          "parcoords": [
           {
            "line": {
             "colorbar": {
              "outlinewidth": 0,
              "ticks": ""
             }
            },
            "type": "parcoords"
           }
          ],
          "pie": [
           {
            "automargin": true,
            "type": "pie"
           }
          ],
          "scatter": [
           {
            "marker": {
             "colorbar": {
              "outlinewidth": 0,
              "ticks": ""
             }
            },
            "type": "scatter"
           }
          ],
          "scatter3d": [
           {
            "line": {
             "colorbar": {
              "outlinewidth": 0,
              "ticks": ""
             }
            },
            "marker": {
             "colorbar": {
              "outlinewidth": 0,
              "ticks": ""
             }
            },
            "type": "scatter3d"
           }
          ],
          "scattercarpet": [
           {
            "marker": {
             "colorbar": {
              "outlinewidth": 0,
              "ticks": ""
             }
            },
            "type": "scattercarpet"
           }
          ],
          "scattergeo": [
           {
            "marker": {
             "colorbar": {
              "outlinewidth": 0,
              "ticks": ""
             }
            },
            "type": "scattergeo"
           }
          ],
          "scattergl": [
           {
            "marker": {
             "colorbar": {
              "outlinewidth": 0,
              "ticks": ""
             }
            },
            "type": "scattergl"
           }
          ],
          "scattermapbox": [
           {
            "marker": {
             "colorbar": {
              "outlinewidth": 0,
              "ticks": ""
             }
            },
            "type": "scattermapbox"
           }
          ],
          "scatterpolar": [
           {
            "marker": {
             "colorbar": {
              "outlinewidth": 0,
              "ticks": ""
             }
            },
            "type": "scatterpolar"
           }
          ],
          "scatterpolargl": [
           {
            "marker": {
             "colorbar": {
              "outlinewidth": 0,
              "ticks": ""
             }
            },
            "type": "scatterpolargl"
           }
          ],
          "scatterternary": [
           {
            "marker": {
             "colorbar": {
              "outlinewidth": 0,
              "ticks": ""
             }
            },
            "type": "scatterternary"
           }
          ],
          "surface": [
           {
            "colorbar": {
             "outlinewidth": 0,
             "ticks": ""
            },
            "colorscale": [
             [
              0,
              "#0d0887"
             ],
             [
              0.1111111111111111,
              "#46039f"
             ],
             [
              0.2222222222222222,
              "#7201a8"
             ],
             [
              0.3333333333333333,
              "#9c179e"
             ],
             [
              0.4444444444444444,
              "#bd3786"
             ],
             [
              0.5555555555555556,
              "#d8576b"
             ],
             [
              0.6666666666666666,
              "#ed7953"
             ],
             [
              0.7777777777777778,
              "#fb9f3a"
             ],
             [
              0.8888888888888888,
              "#fdca26"
             ],
             [
              1,
              "#f0f921"
             ]
            ],
            "type": "surface"
           }
          ],
          "table": [
           {
            "cells": {
             "fill": {
              "color": "#EBF0F8"
             },
             "line": {
              "color": "white"
             }
            },
            "header": {
             "fill": {
              "color": "#C8D4E3"
             },
             "line": {
              "color": "white"
             }
            },
            "type": "table"
           }
          ]
         },
         "layout": {
          "annotationdefaults": {
           "arrowcolor": "#2a3f5f",
           "arrowhead": 0,
           "arrowwidth": 1
          },
          "autotypenumbers": "strict",
          "coloraxis": {
           "colorbar": {
            "outlinewidth": 0,
            "ticks": ""
           }
          },
          "colorscale": {
           "diverging": [
            [
             0,
             "#8e0152"
            ],
            [
             0.1,
             "#c51b7d"
            ],
            [
             0.2,
             "#de77ae"
            ],
            [
             0.3,
             "#f1b6da"
            ],
            [
             0.4,
             "#fde0ef"
            ],
            [
             0.5,
             "#f7f7f7"
            ],
            [
             0.6,
             "#e6f5d0"
            ],
            [
             0.7,
             "#b8e186"
            ],
            [
             0.8,
             "#7fbc41"
            ],
            [
             0.9,
             "#4d9221"
            ],
            [
             1,
             "#276419"
            ]
           ],
           "sequential": [
            [
             0,
             "#0d0887"
            ],
            [
             0.1111111111111111,
             "#46039f"
            ],
            [
             0.2222222222222222,
             "#7201a8"
            ],
            [
             0.3333333333333333,
             "#9c179e"
            ],
            [
             0.4444444444444444,
             "#bd3786"
            ],
            [
             0.5555555555555556,
             "#d8576b"
            ],
            [
             0.6666666666666666,
             "#ed7953"
            ],
            [
             0.7777777777777778,
             "#fb9f3a"
            ],
            [
             0.8888888888888888,
             "#fdca26"
            ],
            [
             1,
             "#f0f921"
            ]
           ],
           "sequentialminus": [
            [
             0,
             "#0d0887"
            ],
            [
             0.1111111111111111,
             "#46039f"
            ],
            [
             0.2222222222222222,
             "#7201a8"
            ],
            [
             0.3333333333333333,
             "#9c179e"
            ],
            [
             0.4444444444444444,
             "#bd3786"
            ],
            [
             0.5555555555555556,
             "#d8576b"
            ],
            [
             0.6666666666666666,
             "#ed7953"
            ],
            [
             0.7777777777777778,
             "#fb9f3a"
            ],
            [
             0.8888888888888888,
             "#fdca26"
            ],
            [
             1,
             "#f0f921"
            ]
           ]
          },
          "colorway": [
           "#636efa",
           "#EF553B",
           "#00cc96",
           "#ab63fa",
           "#FFA15A",
           "#19d3f3",
           "#FF6692",
           "#B6E880",
           "#FF97FF",
           "#FECB52"
          ],
          "font": {
           "color": "#2a3f5f"
          },
          "geo": {
           "bgcolor": "white",
           "lakecolor": "white",
           "landcolor": "#E5ECF6",
           "showlakes": true,
           "showland": true,
           "subunitcolor": "white"
          },
          "hoverlabel": {
           "align": "left"
          },
          "hovermode": "closest",
          "mapbox": {
           "style": "light"
          },
          "paper_bgcolor": "white",
          "plot_bgcolor": "#E5ECF6",
          "polar": {
           "angularaxis": {
            "gridcolor": "white",
            "linecolor": "white",
            "ticks": ""
           },
           "bgcolor": "#E5ECF6",
           "radialaxis": {
            "gridcolor": "white",
            "linecolor": "white",
            "ticks": ""
           }
          },
          "scene": {
           "xaxis": {
            "backgroundcolor": "#E5ECF6",
            "gridcolor": "white",
            "gridwidth": 2,
            "linecolor": "white",
            "showbackground": true,
            "ticks": "",
            "zerolinecolor": "white"
           },
           "yaxis": {
            "backgroundcolor": "#E5ECF6",
            "gridcolor": "white",
            "gridwidth": 2,
            "linecolor": "white",
            "showbackground": true,
            "ticks": "",
            "zerolinecolor": "white"
           },
           "zaxis": {
            "backgroundcolor": "#E5ECF6",
            "gridcolor": "white",
            "gridwidth": 2,
            "linecolor": "white",
            "showbackground": true,
            "ticks": "",
            "zerolinecolor": "white"
           }
          },
          "shapedefaults": {
           "line": {
            "color": "#2a3f5f"
           }
          },
          "ternary": {
           "aaxis": {
            "gridcolor": "white",
            "linecolor": "white",
            "ticks": ""
           },
           "baxis": {
            "gridcolor": "white",
            "linecolor": "white",
            "ticks": ""
           },
           "bgcolor": "#E5ECF6",
           "caxis": {
            "gridcolor": "white",
            "linecolor": "white",
            "ticks": ""
           }
          },
          "title": {
           "x": 0.05
          },
          "xaxis": {
           "automargin": true,
           "gridcolor": "white",
           "linecolor": "white",
           "ticks": "",
           "title": {
            "standoff": 15
           },
           "zerolinecolor": "white",
           "zerolinewidth": 2
          },
          "yaxis": {
           "automargin": true,
           "gridcolor": "white",
           "linecolor": "white",
           "ticks": "",
           "title": {
            "standoff": 15
           },
           "zerolinecolor": "white",
           "zerolinewidth": 2
          }
         }
        },
        "title": {
         "font": {
          "size": 30
         },
         "text": "Customer Characteristics",
         "x": 0.5
        }
       }
      },
      "text/html": [
       "<div>                            <div id=\"ea1dbf72-bf35-44e7-844f-1e86b9f4fc8e\" class=\"plotly-graph-div\" style=\"height:800px; width:100%;\"></div>            <script type=\"text/javascript\">                require([\"plotly\"], function(Plotly) {                    window.PLOTLYENV=window.PLOTLYENV || {};                                    if (document.getElementById(\"ea1dbf72-bf35-44e7-844f-1e86b9f4fc8e\")) {                    Plotly.newPlot(                        \"ea1dbf72-bf35-44e7-844f-1e86b9f4fc8e\",                        [{\"hoverinfo\":\"label+value+percent\",\"labels\":[\"A\",\"B\",\"C\"],\"legendgroup\":\"Branch\",\"legendgrouptitle\":{\"text\":\"Branch\"},\"marker\":{\"colors\":[\"rgb(3, 35, 51)\",\"rgb(13, 48, 100)\",\"rgb(53, 50, 155)\"]},\"name\":\"Branch\",\"textinfo\":\"percent+label\",\"values\":[340,332,328],\"type\":\"pie\",\"domain\":{\"x\":[0.0,0.46],\"y\":[0.55,1.0]}},{\"hoverinfo\":\"label+value+percent\",\"labels\":[\"Yangon\",\"Mandalay\",\"Naypyitaw\"],\"legendgroup\":\"City\",\"legendgrouptitle\":{\"text\":\"City\"},\"marker\":{\"colors\":[\"rgb(93, 62, 153)\",\"rgb(126, 77, 143)\",\"rgb(158, 89, 135)\"]},\"name\":\"City\",\"textinfo\":\"percent+label\",\"values\":[340,332,328],\"type\":\"pie\",\"domain\":{\"x\":[0.54,1.0],\"y\":[0.55,1.0]}},{\"hoverinfo\":\"label+value+percent\",\"labels\":[\"Female\",\"Male\"],\"legendgroup\":\"Gender\",\"legendgrouptitle\":{\"text\":\"Gender\"},\"marker\":{\"colors\":[\"rgb(193, 100, 121)\",\"rgb(225, 113, 97)\"]},\"name\":\"Gender\",\"textinfo\":\"percent+label\",\"values\":[501,499],\"type\":\"pie\",\"domain\":{\"x\":[0.0,0.46],\"y\":[0.0,0.45]}},{\"hoverinfo\":\"label+value+percent\",\"labels\":[\"Ewallet\",\"Cash\",\"Credit card\"],\"legendgroup\":\"Payment\",\"legendgrouptitle\":{\"text\":\"Payment\"},\"marker\":{\"colors\":[\"rgb(246, 139, 69)\",\"rgb(251, 173, 60)\",\"rgb(246, 211, 70)\"]},\"name\":\"Payment\",\"textinfo\":\"percent+label\",\"values\":[345,344,311],\"type\":\"pie\",\"domain\":{\"x\":[0.54,1.0],\"y\":[0.0,0.45]}}],                        {\"template\":{\"data\":{\"bar\":[{\"error_x\":{\"color\":\"#2a3f5f\"},\"error_y\":{\"color\":\"#2a3f5f\"},\"marker\":{\"line\":{\"color\":\"#E5ECF6\",\"width\":0.5},\"pattern\":{\"fillmode\":\"overlay\",\"size\":10,\"solidity\":0.2}},\"type\":\"bar\"}],\"barpolar\":[{\"marker\":{\"line\":{\"color\":\"#E5ECF6\",\"width\":0.5},\"pattern\":{\"fillmode\":\"overlay\",\"size\":10,\"solidity\":0.2}},\"type\":\"barpolar\"}],\"carpet\":[{\"aaxis\":{\"endlinecolor\":\"#2a3f5f\",\"gridcolor\":\"white\",\"linecolor\":\"white\",\"minorgridcolor\":\"white\",\"startlinecolor\":\"#2a3f5f\"},\"baxis\":{\"endlinecolor\":\"#2a3f5f\",\"gridcolor\":\"white\",\"linecolor\":\"white\",\"minorgridcolor\":\"white\",\"startlinecolor\":\"#2a3f5f\"},\"type\":\"carpet\"}],\"choropleth\":[{\"colorbar\":{\"outlinewidth\":0,\"ticks\":\"\"},\"type\":\"choropleth\"}],\"contour\":[{\"colorbar\":{\"outlinewidth\":0,\"ticks\":\"\"},\"colorscale\":[[0.0,\"#0d0887\"],[0.1111111111111111,\"#46039f\"],[0.2222222222222222,\"#7201a8\"],[0.3333333333333333,\"#9c179e\"],[0.4444444444444444,\"#bd3786\"],[0.5555555555555556,\"#d8576b\"],[0.6666666666666666,\"#ed7953\"],[0.7777777777777778,\"#fb9f3a\"],[0.8888888888888888,\"#fdca26\"],[1.0,\"#f0f921\"]],\"type\":\"contour\"}],\"contourcarpet\":[{\"colorbar\":{\"outlinewidth\":0,\"ticks\":\"\"},\"type\":\"contourcarpet\"}],\"heatmap\":[{\"colorbar\":{\"outlinewidth\":0,\"ticks\":\"\"},\"colorscale\":[[0.0,\"#0d0887\"],[0.1111111111111111,\"#46039f\"],[0.2222222222222222,\"#7201a8\"],[0.3333333333333333,\"#9c179e\"],[0.4444444444444444,\"#bd3786\"],[0.5555555555555556,\"#d8576b\"],[0.6666666666666666,\"#ed7953\"],[0.7777777777777778,\"#fb9f3a\"],[0.8888888888888888,\"#fdca26\"],[1.0,\"#f0f921\"]],\"type\":\"heatmap\"}],\"heatmapgl\":[{\"colorbar\":{\"outlinewidth\":0,\"ticks\":\"\"},\"colorscale\":[[0.0,\"#0d0887\"],[0.1111111111111111,\"#46039f\"],[0.2222222222222222,\"#7201a8\"],[0.3333333333333333,\"#9c179e\"],[0.4444444444444444,\"#bd3786\"],[0.5555555555555556,\"#d8576b\"],[0.6666666666666666,\"#ed7953\"],[0.7777777777777778,\"#fb9f3a\"],[0.8888888888888888,\"#fdca26\"],[1.0,\"#f0f921\"]],\"type\":\"heatmapgl\"}],\"histogram\":[{\"marker\":{\"pattern\":{\"fillmode\":\"overlay\",\"size\":10,\"solidity\":0.2}},\"type\":\"histogram\"}],\"histogram2d\":[{\"colorbar\":{\"outlinewidth\":0,\"ticks\":\"\"},\"colorscale\":[[0.0,\"#0d0887\"],[0.1111111111111111,\"#46039f\"],[0.2222222222222222,\"#7201a8\"],[0.3333333333333333,\"#9c179e\"],[0.4444444444444444,\"#bd3786\"],[0.5555555555555556,\"#d8576b\"],[0.6666666666666666,\"#ed7953\"],[0.7777777777777778,\"#fb9f3a\"],[0.8888888888888888,\"#fdca26\"],[1.0,\"#f0f921\"]],\"type\":\"histogram2d\"}],\"histogram2dcontour\":[{\"colorbar\":{\"outlinewidth\":0,\"ticks\":\"\"},\"colorscale\":[[0.0,\"#0d0887\"],[0.1111111111111111,\"#46039f\"],[0.2222222222222222,\"#7201a8\"],[0.3333333333333333,\"#9c179e\"],[0.4444444444444444,\"#bd3786\"],[0.5555555555555556,\"#d8576b\"],[0.6666666666666666,\"#ed7953\"],[0.7777777777777778,\"#fb9f3a\"],[0.8888888888888888,\"#fdca26\"],[1.0,\"#f0f921\"]],\"type\":\"histogram2dcontour\"}],\"mesh3d\":[{\"colorbar\":{\"outlinewidth\":0,\"ticks\":\"\"},\"type\":\"mesh3d\"}],\"parcoords\":[{\"line\":{\"colorbar\":{\"outlinewidth\":0,\"ticks\":\"\"}},\"type\":\"parcoords\"}],\"pie\":[{\"automargin\":true,\"type\":\"pie\"}],\"scatter\":[{\"marker\":{\"colorbar\":{\"outlinewidth\":0,\"ticks\":\"\"}},\"type\":\"scatter\"}],\"scatter3d\":[{\"line\":{\"colorbar\":{\"outlinewidth\":0,\"ticks\":\"\"}},\"marker\":{\"colorbar\":{\"outlinewidth\":0,\"ticks\":\"\"}},\"type\":\"scatter3d\"}],\"scattercarpet\":[{\"marker\":{\"colorbar\":{\"outlinewidth\":0,\"ticks\":\"\"}},\"type\":\"scattercarpet\"}],\"scattergeo\":[{\"marker\":{\"colorbar\":{\"outlinewidth\":0,\"ticks\":\"\"}},\"type\":\"scattergeo\"}],\"scattergl\":[{\"marker\":{\"colorbar\":{\"outlinewidth\":0,\"ticks\":\"\"}},\"type\":\"scattergl\"}],\"scattermapbox\":[{\"marker\":{\"colorbar\":{\"outlinewidth\":0,\"ticks\":\"\"}},\"type\":\"scattermapbox\"}],\"scatterpolar\":[{\"marker\":{\"colorbar\":{\"outlinewidth\":0,\"ticks\":\"\"}},\"type\":\"scatterpolar\"}],\"scatterpolargl\":[{\"marker\":{\"colorbar\":{\"outlinewidth\":0,\"ticks\":\"\"}},\"type\":\"scatterpolargl\"}],\"scatterternary\":[{\"marker\":{\"colorbar\":{\"outlinewidth\":0,\"ticks\":\"\"}},\"type\":\"scatterternary\"}],\"surface\":[{\"colorbar\":{\"outlinewidth\":0,\"ticks\":\"\"},\"colorscale\":[[0.0,\"#0d0887\"],[0.1111111111111111,\"#46039f\"],[0.2222222222222222,\"#7201a8\"],[0.3333333333333333,\"#9c179e\"],[0.4444444444444444,\"#bd3786\"],[0.5555555555555556,\"#d8576b\"],[0.6666666666666666,\"#ed7953\"],[0.7777777777777778,\"#fb9f3a\"],[0.8888888888888888,\"#fdca26\"],[1.0,\"#f0f921\"]],\"type\":\"surface\"}],\"table\":[{\"cells\":{\"fill\":{\"color\":\"#EBF0F8\"},\"line\":{\"color\":\"white\"}},\"header\":{\"fill\":{\"color\":\"#C8D4E3\"},\"line\":{\"color\":\"white\"}},\"type\":\"table\"}]},\"layout\":{\"annotationdefaults\":{\"arrowcolor\":\"#2a3f5f\",\"arrowhead\":0,\"arrowwidth\":1},\"autotypenumbers\":\"strict\",\"coloraxis\":{\"colorbar\":{\"outlinewidth\":0,\"ticks\":\"\"}},\"colorscale\":{\"diverging\":[[0,\"#8e0152\"],[0.1,\"#c51b7d\"],[0.2,\"#de77ae\"],[0.3,\"#f1b6da\"],[0.4,\"#fde0ef\"],[0.5,\"#f7f7f7\"],[0.6,\"#e6f5d0\"],[0.7,\"#b8e186\"],[0.8,\"#7fbc41\"],[0.9,\"#4d9221\"],[1,\"#276419\"]],\"sequential\":[[0.0,\"#0d0887\"],[0.1111111111111111,\"#46039f\"],[0.2222222222222222,\"#7201a8\"],[0.3333333333333333,\"#9c179e\"],[0.4444444444444444,\"#bd3786\"],[0.5555555555555556,\"#d8576b\"],[0.6666666666666666,\"#ed7953\"],[0.7777777777777778,\"#fb9f3a\"],[0.8888888888888888,\"#fdca26\"],[1.0,\"#f0f921\"]],\"sequentialminus\":[[0.0,\"#0d0887\"],[0.1111111111111111,\"#46039f\"],[0.2222222222222222,\"#7201a8\"],[0.3333333333333333,\"#9c179e\"],[0.4444444444444444,\"#bd3786\"],[0.5555555555555556,\"#d8576b\"],[0.6666666666666666,\"#ed7953\"],[0.7777777777777778,\"#fb9f3a\"],[0.8888888888888888,\"#fdca26\"],[1.0,\"#f0f921\"]]},\"colorway\":[\"#636efa\",\"#EF553B\",\"#00cc96\",\"#ab63fa\",\"#FFA15A\",\"#19d3f3\",\"#FF6692\",\"#B6E880\",\"#FF97FF\",\"#FECB52\"],\"font\":{\"color\":\"#2a3f5f\"},\"geo\":{\"bgcolor\":\"white\",\"lakecolor\":\"white\",\"landcolor\":\"#E5ECF6\",\"showlakes\":true,\"showland\":true,\"subunitcolor\":\"white\"},\"hoverlabel\":{\"align\":\"left\"},\"hovermode\":\"closest\",\"mapbox\":{\"style\":\"light\"},\"paper_bgcolor\":\"white\",\"plot_bgcolor\":\"#E5ECF6\",\"polar\":{\"angularaxis\":{\"gridcolor\":\"white\",\"linecolor\":\"white\",\"ticks\":\"\"},\"bgcolor\":\"#E5ECF6\",\"radialaxis\":{\"gridcolor\":\"white\",\"linecolor\":\"white\",\"ticks\":\"\"}},\"scene\":{\"xaxis\":{\"backgroundcolor\":\"#E5ECF6\",\"gridcolor\":\"white\",\"gridwidth\":2,\"linecolor\":\"white\",\"showbackground\":true,\"ticks\":\"\",\"zerolinecolor\":\"white\"},\"yaxis\":{\"backgroundcolor\":\"#E5ECF6\",\"gridcolor\":\"white\",\"gridwidth\":2,\"linecolor\":\"white\",\"showbackground\":true,\"ticks\":\"\",\"zerolinecolor\":\"white\"},\"zaxis\":{\"backgroundcolor\":\"#E5ECF6\",\"gridcolor\":\"white\",\"gridwidth\":2,\"linecolor\":\"white\",\"showbackground\":true,\"ticks\":\"\",\"zerolinecolor\":\"white\"}},\"shapedefaults\":{\"line\":{\"color\":\"#2a3f5f\"}},\"ternary\":{\"aaxis\":{\"gridcolor\":\"white\",\"linecolor\":\"white\",\"ticks\":\"\"},\"baxis\":{\"gridcolor\":\"white\",\"linecolor\":\"white\",\"ticks\":\"\"},\"bgcolor\":\"#E5ECF6\",\"caxis\":{\"gridcolor\":\"white\",\"linecolor\":\"white\",\"ticks\":\"\"}},\"title\":{\"x\":0.05},\"xaxis\":{\"automargin\":true,\"gridcolor\":\"white\",\"linecolor\":\"white\",\"ticks\":\"\",\"title\":{\"standoff\":15},\"zerolinecolor\":\"white\",\"zerolinewidth\":2},\"yaxis\":{\"automargin\":true,\"gridcolor\":\"white\",\"linecolor\":\"white\",\"ticks\":\"\",\"title\":{\"standoff\":15},\"zerolinecolor\":\"white\",\"zerolinewidth\":2}}},\"annotations\":[{\"font\":{\"size\":16},\"showarrow\":false,\"text\":\"Branch\",\"x\":0.23,\"xanchor\":\"center\",\"xref\":\"paper\",\"y\":1.0,\"yanchor\":\"bottom\",\"yref\":\"paper\"},{\"font\":{\"size\":16},\"showarrow\":false,\"text\":\"City\",\"x\":0.77,\"xanchor\":\"center\",\"xref\":\"paper\",\"y\":1.0,\"yanchor\":\"bottom\",\"yref\":\"paper\"},{\"font\":{\"size\":16},\"showarrow\":false,\"text\":\"Gender\",\"x\":0.23,\"xanchor\":\"center\",\"xref\":\"paper\",\"y\":0.45,\"yanchor\":\"bottom\",\"yref\":\"paper\"},{\"font\":{\"size\":16},\"showarrow\":false,\"text\":\"Payment\",\"x\":0.77,\"xanchor\":\"center\",\"xref\":\"paper\",\"y\":0.45,\"yanchor\":\"bottom\",\"yref\":\"paper\"}],\"height\":800,\"title\":{\"font\":{\"size\":30},\"text\":\"Customer Characteristics\",\"x\":0.5},\"paper_bgcolor\":\"rgb(229, 237, 247)\",\"plot_bgcolor\":\"rgb(229, 237, 247)\"},                        {\"responsive\": true}                    ).then(function(){\n",
       "                            \n",
       "var gd = document.getElementById('ea1dbf72-bf35-44e7-844f-1e86b9f4fc8e');\n",
       "var x = new MutationObserver(function (mutations, observer) {{\n",
       "        var display = window.getComputedStyle(gd).display;\n",
       "        if (!display || display === 'none') {{\n",
       "            console.log([gd, 'removed!']);\n",
       "            Plotly.purge(gd);\n",
       "            observer.disconnect();\n",
       "        }}\n",
       "}});\n",
       "\n",
       "// Listen for the removal of the full notebook cells\n",
       "var notebookContainer = gd.closest('#notebook-container');\n",
       "if (notebookContainer) {{\n",
       "    x.observe(notebookContainer, {childList: true});\n",
       "}}\n",
       "\n",
       "// Listen for the clearing of the current output cell\n",
       "var outputEl = gd.closest('.output');\n",
       "if (outputEl) {{\n",
       "    x.observe(outputEl, {childList: true});\n",
       "}}\n",
       "\n",
       "                        })                };                });            </script>        </div>"
      ]
     },
     "metadata": {},
     "output_type": "display_data"
    }
   ],
   "source": [
    "palette = cycle(px.colors.sequential.thermal)\n",
    "\n",
    "fig = sp.make_subplots(\n",
    "    rows=2, \n",
    "    cols=2,\n",
    "    horizontal_spacing=0.08,\n",
    "    subplot_titles=[\n",
    "        \"Branch\",\n",
    "        \"City\",\n",
    "        \"Gender\",\n",
    "        \"Payment\" ], \n",
    "    specs=[[{\"type\": \"pie\"}, {\"type\": \"pie\"}],\n",
    "          [{\"type\": \"pie\"}, {\"type\": \"pie\"}]],\n",
    "        vertical_spacing = 0.1\n",
    ")\n",
    "\n",
    "branch_counts = data.Branch.value_counts()\n",
    "\n",
    "branch = go.Pie(\n",
    "    labels=branch_counts.index,\n",
    "    values=branch_counts,\n",
    "    name=\"Branch\",\n",
    "    textinfo='percent+label',\n",
    "    hoverinfo=\"label+value+percent\",\n",
    "    marker_colors=[next(palette) for i in range(len(branch_counts))],\n",
    "    legendgroup=\"Branch\",\n",
    "    legendgrouptitle_text=\"Branch\",\n",
    ")\n",
    "\n",
    "city_counts = data.City.value_counts()\n",
    "\n",
    "city = go.Pie(\n",
    "    labels=city_counts.index,\n",
    "    values=city_counts,\n",
    "    name=\"City\",\n",
    "    textinfo='percent+label',\n",
    "    hoverinfo=\"label+value+percent\",\n",
    "    marker_colors=[next(palette) for i in range(len(city_counts))],\n",
    "    legendgroup=\"City\",\n",
    "    legendgrouptitle_text=\"City\",\n",
    ")\n",
    "\n",
    "gender_counts = data.Gender.value_counts()\n",
    "\n",
    "gender = go.Pie(\n",
    "    labels=gender_counts.index,\n",
    "    values=gender_counts,\n",
    "    name=\"Gender\",\n",
    "    textinfo='percent+label',\n",
    "    hoverinfo=\"label+value+percent\",\n",
    "    marker_colors=[next(palette) for i in range(len(gender_counts))],\n",
    "    legendgroup=\"Gender\",\n",
    "    legendgrouptitle_text=\"Gender\",\n",
    ")\n",
    "\n",
    "payment_counts = data.Payment.value_counts()\n",
    "\n",
    "payment = go.Pie(\n",
    "    labels=payment_counts.index,\n",
    "    values=payment_counts,\n",
    "    name=\"Payment\",\n",
    "    textinfo='percent+label',\n",
    "    hoverinfo=\"label+value+percent\",\n",
    "    marker_colors=[next(palette) for i in range(len(payment_counts))],\n",
    "    legendgroup=\"Payment\",\n",
    "    legendgrouptitle_text=\"Payment\",\n",
    ")\n",
    "\n",
    "\n",
    "fig.add_trace(branch, row=1, col=1)\n",
    "fig.add_trace(city, row=1, col=2)\n",
    "\n",
    "fig.add_trace(gender, row=2, col=1)\n",
    "fig.add_trace(payment, row=2, col=2)\n",
    "\n",
    "fig.update_layout(\n",
    "    template=\"plotly\",\n",
    "    height=800,\n",
    ")\n",
    "\n",
    "fig.update(\n",
    "    layout_title_text=\"Customer Characteristics\",\n",
    "    layout_title_font_size=30,\n",
    "    layout_title_x=0.5,\n",
    "    layout_paper_bgcolor='rgb(229, 237, 247)',\n",
    "    layout_plot_bgcolor='rgb(229, 237, 247)',\n",
    ")\n",
    "\n",
    "fig.show()"
   ]
  },
  {
   "cell_type": "markdown",
   "id": "3b00ec29",
   "metadata": {},
   "source": [
    "### Product according to the City : --"
   ]
  },
  {
   "cell_type": "code",
   "execution_count": 70,
   "id": "0e49746a",
   "metadata": {},
   "outputs": [
    {
     "data": {
      "application/vnd.plotly.v1+json": {
       "config": {
        "plotlyServerURL": "https://plot.ly"
       },
       "data": [
        {
         "alignmentgroup": "True",
         "bingroup": "x",
         "histfunc": "sum",
         "hovertemplate": "City=Yangon<br>Product line=%{x}<br>sum of Total=%{y}<extra></extra>",
         "legendgroup": "Yangon",
         "marker": {
          "color": "#f6d346",
          "pattern": {
           "shape": ""
          }
         },
         "name": "Yangon",
         "offsetgroup": "Yangon",
         "orientation": "v",
         "showlegend": true,
         "type": "histogram",
         "x": [
          "Health and beauty",
          "Home and lifestyle",
          "Health and beauty",
          "Sports and travel",
          "Electronic accessories",
          "Health and beauty",
          "Electronic accessories",
          "Food and beverages",
          "Health and beauty",
          "Health and beauty",
          "Sports and travel",
          "Food and beverages",
          "Electronic accessories",
          "Sports and travel",
          "Home and lifestyle",
          "Fashion accessories",
          "Health and beauty",
          "Health and beauty",
          "Sports and travel",
          "Electronic accessories",
          "Food and beverages",
          "Home and lifestyle",
          "Health and beauty",
          "Home and lifestyle",
          "Sports and travel",
          "Health and beauty",
          "Sports and travel",
          "Health and beauty",
          "Home and lifestyle",
          "Fashion accessories",
          "Food and beverages",
          "Sports and travel",
          "Sports and travel",
          "Electronic accessories",
          "Food and beverages",
          "Food and beverages",
          "Electronic accessories",
          "Sports and travel",
          "Home and lifestyle",
          "Food and beverages",
          "Electronic accessories",
          "Home and lifestyle",
          "Sports and travel",
          "Sports and travel",
          "Electronic accessories",
          "Home and lifestyle",
          "Sports and travel",
          "Home and lifestyle",
          "Fashion accessories",
          "Health and beauty",
          "Fashion accessories",
          "Food and beverages",
          "Sports and travel",
          "Food and beverages",
          "Fashion accessories",
          "Food and beverages",
          "Sports and travel",
          "Health and beauty",
          "Home and lifestyle",
          "Food and beverages",
          "Food and beverages",
          "Sports and travel",
          "Sports and travel",
          "Home and lifestyle",
          "Electronic accessories",
          "Home and lifestyle",
          "Health and beauty",
          "Electronic accessories",
          "Home and lifestyle",
          "Electronic accessories",
          "Food and beverages",
          "Home and lifestyle",
          "Health and beauty",
          "Sports and travel",
          "Fashion accessories",
          "Food and beverages",
          "Health and beauty",
          "Home and lifestyle",
          "Home and lifestyle",
          "Fashion accessories",
          "Electronic accessories",
          "Home and lifestyle",
          "Home and lifestyle",
          "Electronic accessories",
          "Home and lifestyle",
          "Electronic accessories",
          "Electronic accessories",
          "Sports and travel",
          "Sports and travel",
          "Home and lifestyle",
          "Home and lifestyle",
          "Home and lifestyle",
          "Home and lifestyle",
          "Sports and travel",
          "Home and lifestyle",
          "Sports and travel",
          "Health and beauty",
          "Health and beauty",
          "Home and lifestyle",
          "Electronic accessories",
          "Food and beverages",
          "Home and lifestyle",
          "Home and lifestyle",
          "Electronic accessories",
          "Electronic accessories",
          "Sports and travel",
          "Home and lifestyle",
          "Electronic accessories",
          "Fashion accessories",
          "Food and beverages",
          "Health and beauty",
          "Health and beauty",
          "Fashion accessories",
          "Home and lifestyle",
          "Food and beverages",
          "Electronic accessories",
          "Food and beverages",
          "Fashion accessories",
          "Food and beverages",
          "Electronic accessories",
          "Fashion accessories",
          "Sports and travel",
          "Fashion accessories",
          "Electronic accessories",
          "Electronic accessories",
          "Electronic accessories",
          "Food and beverages",
          "Home and lifestyle",
          "Home and lifestyle",
          "Electronic accessories",
          "Home and lifestyle",
          "Fashion accessories",
          "Sports and travel",
          "Food and beverages",
          "Health and beauty",
          "Electronic accessories",
          "Sports and travel",
          "Health and beauty",
          "Health and beauty",
          "Food and beverages",
          "Sports and travel",
          "Food and beverages",
          "Home and lifestyle",
          "Health and beauty",
          "Sports and travel",
          "Home and lifestyle",
          "Electronic accessories",
          "Health and beauty",
          "Home and lifestyle",
          "Electronic accessories",
          "Home and lifestyle",
          "Home and lifestyle",
          "Sports and travel",
          "Food and beverages",
          "Health and beauty",
          "Electronic accessories",
          "Food and beverages",
          "Sports and travel",
          "Fashion accessories",
          "Electronic accessories",
          "Health and beauty",
          "Sports and travel",
          "Electronic accessories",
          "Sports and travel",
          "Fashion accessories",
          "Fashion accessories",
          "Sports and travel",
          "Electronic accessories",
          "Home and lifestyle",
          "Fashion accessories",
          "Electronic accessories",
          "Home and lifestyle",
          "Home and lifestyle",
          "Food and beverages",
          "Sports and travel",
          "Sports and travel",
          "Health and beauty",
          "Fashion accessories",
          "Home and lifestyle",
          "Home and lifestyle",
          "Fashion accessories",
          "Home and lifestyle",
          "Fashion accessories",
          "Sports and travel",
          "Electronic accessories",
          "Electronic accessories",
          "Food and beverages",
          "Home and lifestyle",
          "Electronic accessories",
          "Food and beverages",
          "Fashion accessories",
          "Food and beverages",
          "Sports and travel",
          "Health and beauty",
          "Health and beauty",
          "Health and beauty",
          "Food and beverages",
          "Sports and travel",
          "Health and beauty",
          "Sports and travel",
          "Sports and travel",
          "Food and beverages",
          "Home and lifestyle",
          "Fashion accessories",
          "Fashion accessories",
          "Electronic accessories",
          "Food and beverages",
          "Sports and travel",
          "Food and beverages",
          "Food and beverages",
          "Food and beverages",
          "Sports and travel",
          "Home and lifestyle",
          "Fashion accessories",
          "Sports and travel",
          "Electronic accessories",
          "Food and beverages",
          "Health and beauty",
          "Home and lifestyle",
          "Home and lifestyle",
          "Electronic accessories",
          "Fashion accessories",
          "Sports and travel",
          "Fashion accessories",
          "Fashion accessories",
          "Fashion accessories",
          "Electronic accessories",
          "Food and beverages",
          "Food and beverages",
          "Fashion accessories",
          "Home and lifestyle",
          "Food and beverages",
          "Health and beauty",
          "Home and lifestyle",
          "Sports and travel",
          "Electronic accessories",
          "Sports and travel",
          "Food and beverages",
          "Health and beauty",
          "Fashion accessories",
          "Electronic accessories",
          "Fashion accessories",
          "Fashion accessories",
          "Health and beauty",
          "Fashion accessories",
          "Home and lifestyle",
          "Sports and travel",
          "Home and lifestyle",
          "Food and beverages",
          "Electronic accessories",
          "Fashion accessories",
          "Home and lifestyle",
          "Food and beverages",
          "Food and beverages",
          "Fashion accessories",
          "Health and beauty",
          "Health and beauty",
          "Home and lifestyle",
          "Sports and travel",
          "Fashion accessories",
          "Electronic accessories",
          "Sports and travel",
          "Fashion accessories",
          "Electronic accessories",
          "Electronic accessories",
          "Sports and travel",
          "Fashion accessories",
          "Home and lifestyle",
          "Sports and travel",
          "Electronic accessories",
          "Electronic accessories",
          "Electronic accessories",
          "Electronic accessories",
          "Food and beverages",
          "Home and lifestyle",
          "Health and beauty",
          "Sports and travel",
          "Fashion accessories",
          "Electronic accessories",
          "Electronic accessories",
          "Health and beauty",
          "Fashion accessories",
          "Fashion accessories",
          "Fashion accessories",
          "Sports and travel",
          "Fashion accessories",
          "Electronic accessories",
          "Electronic accessories",
          "Fashion accessories",
          "Fashion accessories",
          "Fashion accessories",
          "Health and beauty",
          "Home and lifestyle",
          "Food and beverages",
          "Sports and travel",
          "Electronic accessories",
          "Sports and travel",
          "Food and beverages",
          "Sports and travel",
          "Home and lifestyle",
          "Electronic accessories",
          "Home and lifestyle",
          "Food and beverages",
          "Sports and travel",
          "Food and beverages",
          "Electronic accessories",
          "Sports and travel",
          "Food and beverages",
          "Health and beauty",
          "Food and beverages",
          "Food and beverages",
          "Home and lifestyle",
          "Fashion accessories",
          "Food and beverages",
          "Fashion accessories",
          "Health and beauty",
          "Food and beverages",
          "Sports and travel",
          "Health and beauty",
          "Food and beverages",
          "Home and lifestyle",
          "Health and beauty",
          "Health and beauty",
          "Electronic accessories",
          "Fashion accessories",
          "Food and beverages",
          "Electronic accessories",
          "Fashion accessories",
          "Home and lifestyle",
          "Home and lifestyle",
          "Health and beauty",
          "Home and lifestyle",
          "Food and beverages",
          "Health and beauty",
          "Sports and travel",
          "Food and beverages",
          "Electronic accessories",
          "Food and beverages",
          "Home and lifestyle",
          "Fashion accessories"
         ],
         "xaxis": "x",
         "y": [
          548.9715,
          340.5255,
          489.048,
          634.3785,
          433.692,
          76.146,
          246.4875,
          453.495,
          749.49,
          506.6355,
          457.443,
          172.2105,
          181.44,
          279.1845,
          441.756,
          184.107,
          235.2105,
          202.818,
          328.755,
          575.316,
          234.0975,
          93.114,
          752.64,
          759.675,
          166.005,
          166.635,
          827.085,
          19.2465,
          705.6315,
          189.0945,
          362.943,
          44.5935,
          161.553,
          102.018,
          166.1625,
          367.038,
          931.035,
          391.419,
          548.7615,
          115.08,
          836.304,
          688.6215,
          169.3125,
          580.419,
          138.1275,
          216.846,
          609,
          491.085,
          316.47,
          272.664,
          786.618,
          484.5225,
          66.8745,
          336.5565,
          1039.29,
          323.064,
          510.972,
          367.5525,
          319.788,
          186.228,
          465.444,
          162.75,
          90.699,
          77.7735,
          171.7275,
          26.5545,
          217.6335,
          247.8735,
          19.194,
          298.116,
          90.825,
          532.728,
          545.37,
          195.594,
          94.1745,
          235.683,
          125.517,
          263.13,
          399.756,
          94.185,
          326.424,
          99.75,
          494.76,
          69.6675,
          163.233,
          135.45,
          709.317,
          233.52,
          723.24,
          297.108,
          373.17,
          203.553,
          25.263,
          462.21,
          587.664,
          16.107,
          628.929,
          200.214,
          697.368,
          65.604,
          76.356,
          493.794,
          252.042,
          214.998,
          530.67,
          295.6905,
          745.836,
          83.412,
          172.011,
          74.7075,
          146.9475,
          96.138,
          324.2925,
          135.576,
          523.845,
          152.712,
          103.635,
          404.355,
          49.308,
          149.3625,
          721.98,
          140.6475,
          736.4385,
          75.5475,
          191.247,
          379.9215,
          680.064,
          461.286,
          276.948,
          203.175,
          352.2225,
          507.675,
          345.786,
          214.935,
          339.36,
          80.661,
          548.73,
          83.727,
          406.875,
          284.9175,
          282.492,
          72.3975,
          237.426,
          110.0925,
          81.396,
          427.812,
          185.367,
          390.7995,
          951.825,
          147.798,
          214.137,
          843.0345,
          140.385,
          333.9525,
          26.25,
          87.234,
          269.535,
          168.21,
          452.865,
          338.31,
          205.317,
          174.615,
          40.53,
          194.985,
          156.03,
          206.43,
          432.768,
          203.112,
          225.2775,
          398.958,
          731.6925,
          72.933,
          235.872,
          514.773,
          479.9025,
          926.9505,
          160.209,
          728.112,
          148.68,
          102.837,
          306.81,
          96.642,
          308.91,
          575.9775,
          416.178,
          142.002,
          262.458,
          228.123,
          469.413,
          852.705,
          621.243,
          74.4555,
          451.0275,
          269.934,
          326.256,
          217.182,
          164.871,
          226.065,
          76.755,
          47.859,
          236.88,
          164.43,
          147.672,
          394.3275,
          32.1405,
          30.408,
          708.225,
          365.904,
          620.739,
          225.792,
          96.1905,
          127.827,
          167.895,
          12.6945,
          673.995,
          246.6765,
          175.917,
          212.7825,
          182.952,
          764.19,
          49.4235,
          277.6725,
          146.6325,
          58.2225,
          204.246,
          588.42,
          477.54,
          308.574,
          305.55,
          45.108,
          667.38,
          211.365,
          510.615,
          458.6925,
          113.568,
          657.531,
          80.955,
          507.906,
          187.32,
          525.231,
          37.611,
          142.947,
          93.744,
          176.4,
          20.685,
          887.922,
          150.423,
          79.149,
          143.22,
          182.91,
          817.236,
          608.076,
          197.925,
          232.638,
          536.592,
          56.1225,
          233.1,
          72.009,
          397.992,
          32.151,
          548.163,
          432.9885,
          48.7305,
          680.61,
          97.881,
          257.145,
          462.672,
          325.374,
          195.678,
          210.966,
          422.73,
          99.9075,
          408.408,
          284.592,
          100.128,
          216.4365,
          92.442,
          130.032,
          779.31,
          88.704,
          95.865,
          54.999,
          202.335,
          163.611,
          82.887,
          22.386,
          295.407,
          76.923,
          624.33,
          77.805,
          206.808,
          503.7375,
          118.902,
          450.1035,
          26.796,
          250.7085,
          271.278,
          182.427,
          561.078,
          97.818,
          756.168,
          216.846,
          175.014,
          335.013,
          92.295,
          771.435,
          807.66,
          331.128,
          145.5825,
          84.7455,
          167.034,
          782.208,
          431.256,
          313.74,
          397.614,
          374.409,
          781.62,
          469.77,
          290.0835,
          279.384,
          479.64,
          266.6475,
          74.088,
          690.018,
          312.8895,
          932.337,
          43.869,
          16.275,
          314.685,
          255.1815,
          49.77,
          252.252,
          313.572,
          244.23,
          921.186,
          296.94,
          121.863,
          33.432,
          69.111,
          649.299
         ],
         "yaxis": "y"
        },
        {
         "alignmentgroup": "True",
         "bingroup": "x",
         "histfunc": "sum",
         "hovertemplate": "City=Naypyitaw<br>Product line=%{x}<br>sum of Total=%{y}<extra></extra>",
         "legendgroup": "Naypyitaw",
         "marker": {
          "color": "#35329b",
          "pattern": {
           "shape": ""
          }
         },
         "name": "Naypyitaw",
         "offsetgroup": "Naypyitaw",
         "orientation": "v",
         "showlegend": true,
         "type": "histogram",
         "x": [
          "Electronic accessories",
          "Electronic accessories",
          "Home and lifestyle",
          "Electronic accessories",
          "Food and beverages",
          "Sports and travel",
          "Health and beauty",
          "Home and lifestyle",
          "Food and beverages",
          "Health and beauty",
          "Fashion accessories",
          "Food and beverages",
          "Fashion accessories",
          "Electronic accessories",
          "Electronic accessories",
          "Sports and travel",
          "Home and lifestyle",
          "Health and beauty",
          "Food and beverages",
          "Fashion accessories",
          "Electronic accessories",
          "Electronic accessories",
          "Fashion accessories",
          "Food and beverages",
          "Health and beauty",
          "Health and beauty",
          "Food and beverages",
          "Food and beverages",
          "Sports and travel",
          "Sports and travel",
          "Fashion accessories",
          "Home and lifestyle",
          "Sports and travel",
          "Health and beauty",
          "Electronic accessories",
          "Fashion accessories",
          "Fashion accessories",
          "Electronic accessories",
          "Fashion accessories",
          "Food and beverages",
          "Electronic accessories",
          "Health and beauty",
          "Home and lifestyle",
          "Fashion accessories",
          "Sports and travel",
          "Home and lifestyle",
          "Fashion accessories",
          "Food and beverages",
          "Health and beauty",
          "Fashion accessories",
          "Sports and travel",
          "Health and beauty",
          "Health and beauty",
          "Food and beverages",
          "Health and beauty",
          "Health and beauty",
          "Sports and travel",
          "Food and beverages",
          "Sports and travel",
          "Food and beverages",
          "Sports and travel",
          "Home and lifestyle",
          "Electronic accessories",
          "Fashion accessories",
          "Health and beauty",
          "Fashion accessories",
          "Food and beverages",
          "Health and beauty",
          "Home and lifestyle",
          "Food and beverages",
          "Fashion accessories",
          "Health and beauty",
          "Health and beauty",
          "Food and beverages",
          "Sports and travel",
          "Electronic accessories",
          "Electronic accessories",
          "Home and lifestyle",
          "Food and beverages",
          "Electronic accessories",
          "Fashion accessories",
          "Sports and travel",
          "Electronic accessories",
          "Health and beauty",
          "Fashion accessories",
          "Fashion accessories",
          "Fashion accessories",
          "Sports and travel",
          "Electronic accessories",
          "Fashion accessories",
          "Home and lifestyle",
          "Health and beauty",
          "Home and lifestyle",
          "Fashion accessories",
          "Fashion accessories",
          "Home and lifestyle",
          "Home and lifestyle",
          "Sports and travel",
          "Electronic accessories",
          "Electronic accessories",
          "Electronic accessories",
          "Home and lifestyle",
          "Fashion accessories",
          "Food and beverages",
          "Fashion accessories",
          "Electronic accessories",
          "Food and beverages",
          "Food and beverages",
          "Electronic accessories",
          "Health and beauty",
          "Health and beauty",
          "Food and beverages",
          "Health and beauty",
          "Food and beverages",
          "Sports and travel",
          "Electronic accessories",
          "Food and beverages",
          "Home and lifestyle",
          "Fashion accessories",
          "Electronic accessories",
          "Fashion accessories",
          "Sports and travel",
          "Food and beverages",
          "Food and beverages",
          "Food and beverages",
          "Fashion accessories",
          "Electronic accessories",
          "Sports and travel",
          "Home and lifestyle",
          "Fashion accessories",
          "Sports and travel",
          "Fashion accessories",
          "Electronic accessories",
          "Food and beverages",
          "Food and beverages",
          "Fashion accessories",
          "Fashion accessories",
          "Food and beverages",
          "Home and lifestyle",
          "Home and lifestyle",
          "Fashion accessories",
          "Fashion accessories",
          "Home and lifestyle",
          "Health and beauty",
          "Food and beverages",
          "Electronic accessories",
          "Fashion accessories",
          "Fashion accessories",
          "Food and beverages",
          "Sports and travel",
          "Sports and travel",
          "Food and beverages",
          "Electronic accessories",
          "Food and beverages",
          "Fashion accessories",
          "Food and beverages",
          "Fashion accessories",
          "Electronic accessories",
          "Food and beverages",
          "Food and beverages",
          "Sports and travel",
          "Food and beverages",
          "Sports and travel",
          "Health and beauty",
          "Food and beverages",
          "Electronic accessories",
          "Home and lifestyle",
          "Electronic accessories",
          "Food and beverages",
          "Electronic accessories",
          "Sports and travel",
          "Home and lifestyle",
          "Home and lifestyle",
          "Electronic accessories",
          "Food and beverages",
          "Fashion accessories",
          "Home and lifestyle",
          "Home and lifestyle",
          "Sports and travel",
          "Fashion accessories",
          "Home and lifestyle",
          "Sports and travel",
          "Home and lifestyle",
          "Health and beauty",
          "Food and beverages",
          "Home and lifestyle",
          "Food and beverages",
          "Health and beauty",
          "Electronic accessories",
          "Electronic accessories",
          "Food and beverages",
          "Food and beverages",
          "Sports and travel",
          "Sports and travel",
          "Food and beverages",
          "Food and beverages",
          "Fashion accessories",
          "Fashion accessories",
          "Health and beauty",
          "Home and lifestyle",
          "Sports and travel",
          "Fashion accessories",
          "Electronic accessories",
          "Fashion accessories",
          "Food and beverages",
          "Fashion accessories",
          "Food and beverages",
          "Food and beverages",
          "Sports and travel",
          "Electronic accessories",
          "Fashion accessories",
          "Electronic accessories",
          "Electronic accessories",
          "Food and beverages",
          "Electronic accessories",
          "Health and beauty",
          "Sports and travel",
          "Electronic accessories",
          "Electronic accessories",
          "Sports and travel",
          "Food and beverages",
          "Sports and travel",
          "Health and beauty",
          "Health and beauty",
          "Health and beauty",
          "Fashion accessories",
          "Sports and travel",
          "Sports and travel",
          "Food and beverages",
          "Fashion accessories",
          "Food and beverages",
          "Home and lifestyle",
          "Fashion accessories",
          "Food and beverages",
          "Fashion accessories",
          "Home and lifestyle",
          "Electronic accessories",
          "Health and beauty",
          "Fashion accessories",
          "Sports and travel",
          "Food and beverages",
          "Health and beauty",
          "Home and lifestyle",
          "Fashion accessories",
          "Health and beauty",
          "Home and lifestyle",
          "Electronic accessories",
          "Home and lifestyle",
          "Food and beverages",
          "Sports and travel",
          "Food and beverages",
          "Home and lifestyle",
          "Health and beauty",
          "Fashion accessories",
          "Fashion accessories",
          "Health and beauty",
          "Sports and travel",
          "Food and beverages",
          "Food and beverages",
          "Health and beauty",
          "Sports and travel",
          "Health and beauty",
          "Home and lifestyle",
          "Health and beauty",
          "Electronic accessories",
          "Health and beauty",
          "Health and beauty",
          "Health and beauty",
          "Home and lifestyle",
          "Home and lifestyle",
          "Electronic accessories",
          "Fashion accessories",
          "Fashion accessories",
          "Sports and travel",
          "Fashion accessories",
          "Sports and travel",
          "Electronic accessories",
          "Electronic accessories",
          "Sports and travel",
          "Food and beverages",
          "Sports and travel",
          "Food and beverages",
          "Health and beauty",
          "Home and lifestyle",
          "Health and beauty",
          "Health and beauty",
          "Food and beverages",
          "Fashion accessories",
          "Home and lifestyle",
          "Fashion accessories",
          "Fashion accessories",
          "Fashion accessories",
          "Health and beauty",
          "Fashion accessories",
          "Fashion accessories",
          "Food and beverages",
          "Health and beauty",
          "Electronic accessories",
          "Health and beauty",
          "Home and lifestyle",
          "Health and beauty",
          "Electronic accessories",
          "Electronic accessories",
          "Sports and travel",
          "Home and lifestyle",
          "Home and lifestyle",
          "Sports and travel",
          "Sports and travel",
          "Fashion accessories",
          "Health and beauty",
          "Home and lifestyle",
          "Health and beauty",
          "Food and beverages",
          "Fashion accessories",
          "Electronic accessories",
          "Home and lifestyle",
          "Food and beverages",
          "Food and beverages",
          "Home and lifestyle",
          "Fashion accessories",
          "Electronic accessories",
          "Fashion accessories",
          "Food and beverages",
          "Health and beauty",
          "Electronic accessories",
          "Electronic accessories",
          "Electronic accessories",
          "Health and beauty"
         ],
         "xaxis": "x",
         "y": [
          80.22,
          627.6165,
          772.38,
          451.71,
          417.564,
          71.526,
          461.328,
          117.831,
          829.08,
          32.277,
          867.615,
          671.79,
          16.2015,
          722.232,
          192.843,
          77.931,
          351.099,
          70.287,
          939.54,
          652.26,
          478.233,
          437.325,
          463.428,
          822.255,
          106.995,
          624.897,
          161.7,
          337.512,
          256.7775,
          610.491,
          401.73,
          198.996,
          471.03,
          94.2375,
          78.435,
          51.1455,
          742.2975,
          218.0115,
          172.494,
          321.111,
          860.685,
          309.3615,
          763.4655,
          85.113,
          419.832,
          536.844,
          299.8485,
          575.736,
          512.19,
          284.193,
          942.9,
          950.25,
          720.3,
          31.9305,
          291.438,
          277.788,
          254.016,
          103.824,
          680.148,
          362.712,
          160.44,
          1003.59,
          175.14,
          165.4485,
          273.42,
          472.311,
          323.148,
          288.204,
          293.202,
          829.71,
          78.0045,
          91.77,
          174.3,
          374.7975,
          120.645,
          451.3635,
          629.8425,
          299.565,
          881.307,
          62.0025,
          13.167,
          183.036,
          155.652,
          91.4025,
          232.155,
          195.72,
          369.495,
          30.219,
          276.948,
          69.09,
          148.974,
          44.352,
          229.11,
          400.764,
          745.395,
          38.85,
          78.603,
          224.4375,
          204.6975,
          272.58,
          121.128,
          93.0405,
          209.622,
          51.0405,
          145.593,
          820.365,
          208.677,
          66.402,
          392.6475,
          218.0745,
          185.094,
          216.6885,
          41.391,
          395.892,
          77.175,
          150.0975,
          509.4075,
          749.7,
          1042.65,
          31.752,
          394.275,
          1002.12,
          793.548,
          209.559,
          173.208,
          343.056,
          484.974,
          150.78,
          441.693,
          265.104,
          701.8515,
          407.316,
          55.881,
          314.538,
          294.651,
          510.9615,
          253.512,
          248.409,
          194.124,
          14.679,
          718.7565,
          125.055,
          190.596,
          85.5855,
          121.59,
          264.7575,
          1020.705,
          17.094,
          90.867,
          937.818,
          348.306,
          71.568,
          343.224,
          91.56,
          13.419,
          290.43,
          144.081,
          488.985,
          37.6845,
          212.73,
          310.59,
          23.751,
          572.775,
          273.0525,
          22.659,
          103.782,
          527.751,
          353.094,
          554.148,
          344.4,
          388.29,
          24.108,
          127.26,
          132.762,
          568.512,
          33.495,
          145.74,
          100.485,
          429.1665,
          54.0435,
          206.7975,
          377.58,
          523.971,
          132.027,
          154.1295,
          122.5245,
          551.124,
          79.674,
          118.251,
          139.923,
          1034.46,
          936.6,
          517.965,
          543.753,
          133.434,
          85.743,
          195.258,
          625.905,
          293.139,
          178.164,
          440.937,
          193.4625,
          87.234,
          68.2395,
          814.38,
          381.3915,
          209.118,
          935.2665,
          84.9765,
          461.5275,
          273.798,
          48.51,
          743.82,
          609.168,
          63.2625,
          442.323,
          32.529,
          259.77,
          104.6745,
          125.979,
          914.55,
          207.48,
          300.573,
          282.576,
          618.975,
          310.716,
          153.048,
          663.2955,
          404.544,
          539.343,
          497.07,
          1023.75,
          507.444,
          72.429,
          131.208,
          317.226,
          733.6035,
          130.8825,
          829.08,
          856.4535,
          270.2595,
          239.4,
          175.0455,
          408.492,
          860.475,
          596.82,
          616.98,
          408.7335,
          89.0715,
          266.028,
          40.341,
          55.2825,
          597.0405,
          267.3405,
          239.589,
          631.1445,
          499.7265,
          55.041,
          137.865,
          480.0285,
          132.5625,
          183.12,
          369.684,
          53.34,
          603.876,
          57.6975,
          190.4805,
          287.91,
          63.9135,
          455.1225,
          253.68,
          495.3165,
          652.89,
          341.0925,
          333.984,
          10.6785,
          681.975,
          586.635,
          184.086,
          31.227,
          23.499,
          688.716,
          390.9465,
          90.5835,
          106.5015,
          131.922,
          76.5765,
          59.325,
          548.184,
          54.9675,
          85.512,
          102.396,
          439.215,
          485.5725,
          446.439,
          297.801,
          629.16,
          423.738,
          122.472,
          329.196,
          888.405,
          235.746,
          223.587,
          44.9925,
          338.2155,
          26.733,
          611.079,
          221.886,
          175.035,
          470.988,
          270.018,
          579.8415,
          360.927,
          943.299,
          176.925,
          188.0025,
          88.368,
          477.1305,
          165.9,
          96.579,
          304.983,
          180.873,
          250.278,
          734.706,
          708.3195,
          864.57,
          63.9975,
          42.3675
         ],
         "yaxis": "y"
        },
        {
         "alignmentgroup": "True",
         "bingroup": "x",
         "histfunc": "sum",
         "hovertemplate": "City=Mandalay<br>Product line=%{x}<br>sum of Total=%{y}<extra></extra>",
         "legendgroup": "Mandalay",
         "marker": {
          "color": "#c16479",
          "pattern": {
           "shape": ""
          }
         },
         "name": "Mandalay",
         "offsetgroup": "Mandalay",
         "orientation": "v",
         "showlegend": true,
         "type": "histogram",
         "x": [
          "Food and beverages",
          "Fashion accessories",
          "Electronic accessories",
          "Sports and travel",
          "Home and lifestyle",
          "Health and beauty",
          "Home and lifestyle",
          "Fashion accessories",
          "Food and beverages",
          "Fashion accessories",
          "Sports and travel",
          "Sports and travel",
          "Home and lifestyle",
          "Home and lifestyle",
          "Sports and travel",
          "Electronic accessories",
          "Health and beauty",
          "Food and beverages",
          "Electronic accessories",
          "Fashion accessories",
          "Home and lifestyle",
          "Sports and travel",
          "Health and beauty",
          "Fashion accessories",
          "Food and beverages",
          "Food and beverages",
          "Health and beauty",
          "Health and beauty",
          "Health and beauty",
          "Home and lifestyle",
          "Health and beauty",
          "Sports and travel",
          "Fashion accessories",
          "Fashion accessories",
          "Fashion accessories",
          "Home and lifestyle",
          "Sports and travel",
          "Fashion accessories",
          "Sports and travel",
          "Fashion accessories",
          "Sports and travel",
          "Electronic accessories",
          "Sports and travel",
          "Home and lifestyle",
          "Fashion accessories",
          "Electronic accessories",
          "Home and lifestyle",
          "Health and beauty",
          "Sports and travel",
          "Food and beverages",
          "Health and beauty",
          "Food and beverages",
          "Electronic accessories",
          "Food and beverages",
          "Food and beverages",
          "Home and lifestyle",
          "Home and lifestyle",
          "Home and lifestyle",
          "Fashion accessories",
          "Home and lifestyle",
          "Electronic accessories",
          "Health and beauty",
          "Home and lifestyle",
          "Fashion accessories",
          "Electronic accessories",
          "Home and lifestyle",
          "Sports and travel",
          "Sports and travel",
          "Sports and travel",
          "Fashion accessories",
          "Food and beverages",
          "Electronic accessories",
          "Food and beverages",
          "Health and beauty",
          "Electronic accessories",
          "Fashion accessories",
          "Electronic accessories",
          "Health and beauty",
          "Fashion accessories",
          "Electronic accessories",
          "Home and lifestyle",
          "Electronic accessories",
          "Food and beverages",
          "Food and beverages",
          "Fashion accessories",
          "Fashion accessories",
          "Sports and travel",
          "Food and beverages",
          "Sports and travel",
          "Health and beauty",
          "Fashion accessories",
          "Health and beauty",
          "Food and beverages",
          "Electronic accessories",
          "Health and beauty",
          "Health and beauty",
          "Electronic accessories",
          "Sports and travel",
          "Sports and travel",
          "Health and beauty",
          "Home and lifestyle",
          "Sports and travel",
          "Food and beverages",
          "Electronic accessories",
          "Health and beauty",
          "Health and beauty",
          "Health and beauty",
          "Fashion accessories",
          "Home and lifestyle",
          "Food and beverages",
          "Electronic accessories",
          "Sports and travel",
          "Electronic accessories",
          "Fashion accessories",
          "Home and lifestyle",
          "Electronic accessories",
          "Food and beverages",
          "Sports and travel",
          "Food and beverages",
          "Fashion accessories",
          "Home and lifestyle",
          "Health and beauty",
          "Electronic accessories",
          "Fashion accessories",
          "Fashion accessories",
          "Health and beauty",
          "Sports and travel",
          "Health and beauty",
          "Health and beauty",
          "Fashion accessories",
          "Fashion accessories",
          "Food and beverages",
          "Sports and travel",
          "Fashion accessories",
          "Fashion accessories",
          "Fashion accessories",
          "Sports and travel",
          "Health and beauty",
          "Health and beauty",
          "Sports and travel",
          "Electronic accessories",
          "Electronic accessories",
          "Fashion accessories",
          "Food and beverages",
          "Electronic accessories",
          "Food and beverages",
          "Sports and travel",
          "Health and beauty",
          "Sports and travel",
          "Home and lifestyle",
          "Sports and travel",
          "Fashion accessories",
          "Home and lifestyle",
          "Fashion accessories",
          "Health and beauty",
          "Fashion accessories",
          "Sports and travel",
          "Sports and travel",
          "Sports and travel",
          "Sports and travel",
          "Sports and travel",
          "Sports and travel",
          "Food and beverages",
          "Health and beauty",
          "Sports and travel",
          "Health and beauty",
          "Electronic accessories",
          "Fashion accessories",
          "Fashion accessories",
          "Food and beverages",
          "Electronic accessories",
          "Fashion accessories",
          "Sports and travel",
          "Food and beverages",
          "Home and lifestyle",
          "Sports and travel",
          "Fashion accessories",
          "Fashion accessories",
          "Health and beauty",
          "Home and lifestyle",
          "Fashion accessories",
          "Electronic accessories",
          "Electronic accessories",
          "Fashion accessories",
          "Fashion accessories",
          "Home and lifestyle",
          "Sports and travel",
          "Food and beverages",
          "Fashion accessories",
          "Food and beverages",
          "Health and beauty",
          "Fashion accessories",
          "Sports and travel",
          "Sports and travel",
          "Health and beauty",
          "Sports and travel",
          "Home and lifestyle",
          "Food and beverages",
          "Fashion accessories",
          "Sports and travel",
          "Home and lifestyle",
          "Fashion accessories",
          "Fashion accessories",
          "Food and beverages",
          "Health and beauty",
          "Home and lifestyle",
          "Food and beverages",
          "Health and beauty",
          "Food and beverages",
          "Fashion accessories",
          "Food and beverages",
          "Electronic accessories",
          "Fashion accessories",
          "Electronic accessories",
          "Health and beauty",
          "Sports and travel",
          "Fashion accessories",
          "Sports and travel",
          "Fashion accessories",
          "Food and beverages",
          "Health and beauty",
          "Sports and travel",
          "Food and beverages",
          "Health and beauty",
          "Fashion accessories",
          "Sports and travel",
          "Electronic accessories",
          "Sports and travel",
          "Sports and travel",
          "Home and lifestyle",
          "Sports and travel",
          "Home and lifestyle",
          "Food and beverages",
          "Fashion accessories",
          "Health and beauty",
          "Home and lifestyle",
          "Health and beauty",
          "Electronic accessories",
          "Fashion accessories",
          "Fashion accessories",
          "Home and lifestyle",
          "Food and beverages",
          "Sports and travel",
          "Home and lifestyle",
          "Electronic accessories",
          "Food and beverages",
          "Electronic accessories",
          "Fashion accessories",
          "Home and lifestyle",
          "Fashion accessories",
          "Home and lifestyle",
          "Electronic accessories",
          "Food and beverages",
          "Electronic accessories",
          "Home and lifestyle",
          "Sports and travel",
          "Electronic accessories",
          "Sports and travel",
          "Food and beverages",
          "Sports and travel",
          "Electronic accessories",
          "Home and lifestyle",
          "Fashion accessories",
          "Health and beauty",
          "Sports and travel",
          "Electronic accessories",
          "Health and beauty",
          "Health and beauty",
          "Food and beverages",
          "Health and beauty",
          "Food and beverages",
          "Electronic accessories",
          "Sports and travel",
          "Health and beauty",
          "Health and beauty",
          "Sports and travel",
          "Home and lifestyle",
          "Sports and travel",
          "Electronic accessories",
          "Electronic accessories",
          "Fashion accessories",
          "Food and beverages",
          "Health and beauty",
          "Home and lifestyle",
          "Home and lifestyle",
          "Sports and travel",
          "Electronic accessories",
          "Electronic accessories",
          "Electronic accessories",
          "Food and beverages",
          "Sports and travel",
          "Electronic accessories",
          "Electronic accessories",
          "Electronic accessories",
          "Health and beauty",
          "Home and lifestyle",
          "Health and beauty",
          "Home and lifestyle",
          "Food and beverages",
          "Home and lifestyle",
          "Electronic accessories",
          "Home and lifestyle",
          "Electronic accessories",
          "Sports and travel",
          "Electronic accessories",
          "Sports and travel",
          "Home and lifestyle",
          "Home and lifestyle",
          "Fashion accessories",
          "Food and beverages",
          "Health and beauty",
          "Home and lifestyle",
          "Food and beverages",
          "Home and lifestyle",
          "Electronic accessories",
          "Food and beverages",
          "Electronic accessories",
          "Electronic accessories",
          "Food and beverages",
          "Home and lifestyle",
          "Electronic accessories",
          "Fashion accessories",
          "Food and beverages",
          "Electronic accessories",
          "Food and beverages",
          "Fashion accessories",
          "Health and beauty",
          "Health and beauty",
          "Health and beauty",
          "Sports and travel",
          "Fashion accessories",
          "Home and lifestyle"
         ],
         "xaxis": "x",
         "y": [
          172.746,
          60.816,
          107.142,
          590.436,
          84.63,
          277.137,
          69.72,
          35.196,
          463.89,
          494.1825,
          737.7615,
          703.752,
          253.008,
          91.056,
          435.456,
          394.632,
          535.7205,
          189.0945,
          119.259,
          75.054,
          33.936,
          520.4115,
          318.108,
          614.943,
          152.838,
          304.542,
          485.037,
          608.202,
          922.635,
          521.01,
          223.0725,
          34.629,
          535.374,
          115.185,
          53.928,
          112.224,
          944.622,
          474.348,
          853.146,
          291.207,
          146.328,
          550.935,
          545.055,
          603.624,
          384.468,
          75.7785,
          263.97,
          918.729,
          588.357,
          418.95,
          357.588,
          420.2625,
          333.207,
          166.236,
          56.952,
          793.716,
          195.174,
          242.676,
          154.392,
          107.31,
          241.458,
          271.95,
          93.2925,
          95.6655,
          942.4485,
          484.89,
          146.223,
          217.6335,
          130.0425,
          796.908,
          180.621,
          285.705,
          456.288,
          655.5465,
          571.41,
          170.877,
          33.3585,
          794.6505,
          310.044,
          69.405,
          788.508,
          256.41,
          536.991,
          439.8975,
          137.004,
          160.86,
          57.1725,
          783.3,
          354.0075,
          628.173,
          352.5795,
          350.07,
          356.5485,
          423.15,
          190.155,
          40.9605,
          125.664,
          503.559,
          410.508,
          214.746,
          208.089,
          365.085,
          404.649,
          151.4835,
          411.3795,
          565.215,
          141.75,
          402.2655,
          255.15,
          374.388,
          86.625,
          78.7185,
          193.011,
          128.016,
          334.341,
          99.33,
          523.3725,
          79.611,
          133.917,
          398.475,
          128.4255,
          258.678,
          181.818,
          208.6875,
          288.582,
          359.205,
          45.927,
          100.9155,
          120.162,
          213.528,
          383.7645,
          65.7405,
          353.1675,
          145.068,
          702.219,
          49.812,
          742.812,
          20.1075,
          28.4235,
          41.076,
          470.673,
          138.663,
          155.19,
          731.43,
          833.595,
          767.025,
          233.226,
          609.588,
          360.885,
          633.99,
          207.858,
          431.445,
          734.076,
          72.87,
          212.688,
          209.769,
          637.728,
          103.0365,
          77.6685,
          195.951,
          92.8725,
          152.775,
          529.515,
          321.7725,
          666.939,
          288.015,
          143.9865,
          164.682,
          125.706,
          570.78,
          240.975,
          77.658,
          84.756,
          74.76,
          163.002,
          270.585,
          180.4005,
          513.2295,
          550.368,
          118.062,
          151.284,
          203.931,
          356.328,
          208.425,
          586.971,
          430.71,
          280.035,
          152.019,
          597.6285,
          253.26,
          145.971,
          75.936,
          198.639,
          304.92,
          46.683,
          343.413,
          133.35,
          121.569,
          293.643,
          457.38,
          695.2365,
          874.125,
          95.9175,
          165.648,
          867.09,
          314.055,
          251.7165,
          697.935,
          92.5575,
          165.123,
          311.1885,
          116.907,
          35.3115,
          397.215,
          351.603,
          352.674,
          252.756,
          135.3555,
          370.125,
          181.881,
          75.474,
          85.302,
          196.14,
          231.2415,
          175.917,
          470.988,
          41.454,
          36.5505,
          145.404,
          103.11,
          136.143,
          261.198,
          101.808,
          207.585,
          760.4415,
          835.2855,
          527.5095,
          180.6,
          110.124,
          187.866,
          138.978,
          98.028,
          732.27,
          383.523,
          557.718,
          56.406,
          769.104,
          684.915,
          116.1405,
          93.744,
          384.72,
          300.216,
          810.6,
          757.365,
          801.864,
          86.247,
          401.688,
          401.268,
          151.515,
          98.049,
          830.3715,
          1022.385,
          57.078,
          97.419,
          144.963,
          714.3255,
          18.6375,
          90.3,
          446.964,
          403.872,
          247.59,
          222.138,
          441.588,
          681.4395,
          262.794,
          99.54,
          299.3655,
          281.169,
          63.315,
          554.295,
          345.0195,
          177.408,
          362.817,
          106.596,
          375.3645,
          760.452,
          225.015,
          41.7375,
          101.64,
          348.705,
          335.895,
          486.444,
          148.995,
          317.835,
          832.944,
          193.074,
          435.12,
          514.605,
          91.8225,
          217.2555,
          82.719,
          103.131,
          57.876,
          92.7255,
          833.9625,
          53.151,
          629.496,
          397.845,
          56.469,
          222.012,
          125.7165,
          68.985,
          263.97,
          415.233,
          289.926,
          69.993,
          80.367,
          181.0725,
          888.615,
          271.2885,
          640.038,
          104.832,
          167.58,
          26.7225,
          71.1585,
          334.4775,
          30.996,
          520.8,
          633.108,
          804.3,
          183.645,
          1022.49
         ],
         "yaxis": "y"
        }
       ],
       "layout": {
        "barmode": "group",
        "height": 400,
        "legend": {
         "title": {
          "text": "City"
         },
         "tracegroupgap": 0
        },
        "margin": {
         "t": 60
        },
        "paper_bgcolor": "rgb(229, 237, 247)",
        "plot_bgcolor": "rgb(229, 237, 247)",
        "template": {
         "data": {
          "bar": [
           {
            "error_x": {
             "color": "#2a3f5f"
            },
            "error_y": {
             "color": "#2a3f5f"
            },
            "marker": {
             "line": {
              "color": "#E5ECF6",
              "width": 0.5
             },
             "pattern": {
              "fillmode": "overlay",
              "size": 10,
              "solidity": 0.2
             }
            },
            "type": "bar"
           }
          ],
          "barpolar": [
           {
            "marker": {
             "line": {
              "color": "#E5ECF6",
              "width": 0.5
             },
             "pattern": {
              "fillmode": "overlay",
              "size": 10,
              "solidity": 0.2
             }
            },
            "type": "barpolar"
           }
          ],
          "carpet": [
           {
            "aaxis": {
             "endlinecolor": "#2a3f5f",
             "gridcolor": "white",
             "linecolor": "white",
             "minorgridcolor": "white",
             "startlinecolor": "#2a3f5f"
            },
            "baxis": {
             "endlinecolor": "#2a3f5f",
             "gridcolor": "white",
             "linecolor": "white",
             "minorgridcolor": "white",
             "startlinecolor": "#2a3f5f"
            },
            "type": "carpet"
           }
          ],
          "choropleth": [
           {
            "colorbar": {
             "outlinewidth": 0,
             "ticks": ""
            },
            "type": "choropleth"
           }
          ],
          "contour": [
           {
            "colorbar": {
             "outlinewidth": 0,
             "ticks": ""
            },
            "colorscale": [
             [
              0,
              "#0d0887"
             ],
             [
              0.1111111111111111,
              "#46039f"
             ],
             [
              0.2222222222222222,
              "#7201a8"
             ],
             [
              0.3333333333333333,
              "#9c179e"
             ],
             [
              0.4444444444444444,
              "#bd3786"
             ],
             [
              0.5555555555555556,
              "#d8576b"
             ],
             [
              0.6666666666666666,
              "#ed7953"
             ],
             [
              0.7777777777777778,
              "#fb9f3a"
             ],
             [
              0.8888888888888888,
              "#fdca26"
             ],
             [
              1,
              "#f0f921"
             ]
            ],
            "type": "contour"
           }
          ],
          "contourcarpet": [
           {
            "colorbar": {
             "outlinewidth": 0,
             "ticks": ""
            },
            "type": "contourcarpet"
           }
          ],
          "heatmap": [
           {
            "colorbar": {
             "outlinewidth": 0,
             "ticks": ""
            },
            "colorscale": [
             [
              0,
              "#0d0887"
             ],
             [
              0.1111111111111111,
              "#46039f"
             ],
             [
              0.2222222222222222,
              "#7201a8"
             ],
             [
              0.3333333333333333,
              "#9c179e"
             ],
             [
              0.4444444444444444,
              "#bd3786"
             ],
             [
              0.5555555555555556,
              "#d8576b"
             ],
             [
              0.6666666666666666,
              "#ed7953"
             ],
             [
              0.7777777777777778,
              "#fb9f3a"
             ],
             [
              0.8888888888888888,
              "#fdca26"
             ],
             [
              1,
              "#f0f921"
             ]
            ],
            "type": "heatmap"
           }
          ],
          "heatmapgl": [
           {
            "colorbar": {
             "outlinewidth": 0,
             "ticks": ""
            },
            "colorscale": [
             [
              0,
              "#0d0887"
             ],
             [
              0.1111111111111111,
              "#46039f"
             ],
             [
              0.2222222222222222,
              "#7201a8"
             ],
             [
              0.3333333333333333,
              "#9c179e"
             ],
             [
              0.4444444444444444,
              "#bd3786"
             ],
             [
              0.5555555555555556,
              "#d8576b"
             ],
             [
              0.6666666666666666,
              "#ed7953"
             ],
             [
              0.7777777777777778,
              "#fb9f3a"
             ],
             [
              0.8888888888888888,
              "#fdca26"
             ],
             [
              1,
              "#f0f921"
             ]
            ],
            "type": "heatmapgl"
           }
          ],
          "histogram": [
           {
            "marker": {
             "pattern": {
              "fillmode": "overlay",
              "size": 10,
              "solidity": 0.2
             }
            },
            "type": "histogram"
           }
          ],
          "histogram2d": [
           {
            "colorbar": {
             "outlinewidth": 0,
             "ticks": ""
            },
            "colorscale": [
             [
              0,
              "#0d0887"
             ],
             [
              0.1111111111111111,
              "#46039f"
             ],
             [
              0.2222222222222222,
              "#7201a8"
             ],
             [
              0.3333333333333333,
              "#9c179e"
             ],
             [
              0.4444444444444444,
              "#bd3786"
             ],
             [
              0.5555555555555556,
              "#d8576b"
             ],
             [
              0.6666666666666666,
              "#ed7953"
             ],
             [
              0.7777777777777778,
              "#fb9f3a"
             ],
             [
              0.8888888888888888,
              "#fdca26"
             ],
             [
              1,
              "#f0f921"
             ]
            ],
            "type": "histogram2d"
           }
          ],
          "histogram2dcontour": [
           {
            "colorbar": {
             "outlinewidth": 0,
             "ticks": ""
            },
            "colorscale": [
             [
              0,
              "#0d0887"
             ],
             [
              0.1111111111111111,
              "#46039f"
             ],
             [
              0.2222222222222222,
              "#7201a8"
             ],
             [
              0.3333333333333333,
              "#9c179e"
             ],
             [
              0.4444444444444444,
              "#bd3786"
             ],
             [
              0.5555555555555556,
              "#d8576b"
             ],
             [
              0.6666666666666666,
              "#ed7953"
             ],
             [
              0.7777777777777778,
              "#fb9f3a"
             ],
             [
              0.8888888888888888,
              "#fdca26"
             ],
             [
              1,
              "#f0f921"
             ]
            ],
            "type": "histogram2dcontour"
           }
          ],
          "mesh3d": [
           {
            "colorbar": {
             "outlinewidth": 0,
             "ticks": ""
            },
            "type": "mesh3d"
           }
          ],
          "parcoords": [
           {
            "line": {
             "colorbar": {
              "outlinewidth": 0,
              "ticks": ""
             }
            },
            "type": "parcoords"
           }
          ],
          "pie": [
           {
            "automargin": true,
            "type": "pie"
           }
          ],
          "scatter": [
           {
            "marker": {
             "colorbar": {
              "outlinewidth": 0,
              "ticks": ""
             }
            },
            "type": "scatter"
           }
          ],
          "scatter3d": [
           {
            "line": {
             "colorbar": {
              "outlinewidth": 0,
              "ticks": ""
             }
            },
            "marker": {
             "colorbar": {
              "outlinewidth": 0,
              "ticks": ""
             }
            },
            "type": "scatter3d"
           }
          ],
          "scattercarpet": [
           {
            "marker": {
             "colorbar": {
              "outlinewidth": 0,
              "ticks": ""
             }
            },
            "type": "scattercarpet"
           }
          ],
          "scattergeo": [
           {
            "marker": {
             "colorbar": {
              "outlinewidth": 0,
              "ticks": ""
             }
            },
            "type": "scattergeo"
           }
          ],
          "scattergl": [
           {
            "marker": {
             "colorbar": {
              "outlinewidth": 0,
              "ticks": ""
             }
            },
            "type": "scattergl"
           }
          ],
          "scattermapbox": [
           {
            "marker": {
             "colorbar": {
              "outlinewidth": 0,
              "ticks": ""
             }
            },
            "type": "scattermapbox"
           }
          ],
          "scatterpolar": [
           {
            "marker": {
             "colorbar": {
              "outlinewidth": 0,
              "ticks": ""
             }
            },
            "type": "scatterpolar"
           }
          ],
          "scatterpolargl": [
           {
            "marker": {
             "colorbar": {
              "outlinewidth": 0,
              "ticks": ""
             }
            },
            "type": "scatterpolargl"
           }
          ],
          "scatterternary": [
           {
            "marker": {
             "colorbar": {
              "outlinewidth": 0,
              "ticks": ""
             }
            },
            "type": "scatterternary"
           }
          ],
          "surface": [
           {
            "colorbar": {
             "outlinewidth": 0,
             "ticks": ""
            },
            "colorscale": [
             [
              0,
              "#0d0887"
             ],
             [
              0.1111111111111111,
              "#46039f"
             ],
             [
              0.2222222222222222,
              "#7201a8"
             ],
             [
              0.3333333333333333,
              "#9c179e"
             ],
             [
              0.4444444444444444,
              "#bd3786"
             ],
             [
              0.5555555555555556,
              "#d8576b"
             ],
             [
              0.6666666666666666,
              "#ed7953"
             ],
             [
              0.7777777777777778,
              "#fb9f3a"
             ],
             [
              0.8888888888888888,
              "#fdca26"
             ],
             [
              1,
              "#f0f921"
             ]
            ],
            "type": "surface"
           }
          ],
          "table": [
           {
            "cells": {
             "fill": {
              "color": "#EBF0F8"
             },
             "line": {
              "color": "white"
             }
            },
            "header": {
             "fill": {
              "color": "#C8D4E3"
             },
             "line": {
              "color": "white"
             }
            },
            "type": "table"
           }
          ]
         },
         "layout": {
          "annotationdefaults": {
           "arrowcolor": "#2a3f5f",
           "arrowhead": 0,
           "arrowwidth": 1
          },
          "autotypenumbers": "strict",
          "coloraxis": {
           "colorbar": {
            "outlinewidth": 0,
            "ticks": ""
           }
          },
          "colorscale": {
           "diverging": [
            [
             0,
             "#8e0152"
            ],
            [
             0.1,
             "#c51b7d"
            ],
            [
             0.2,
             "#de77ae"
            ],
            [
             0.3,
             "#f1b6da"
            ],
            [
             0.4,
             "#fde0ef"
            ],
            [
             0.5,
             "#f7f7f7"
            ],
            [
             0.6,
             "#e6f5d0"
            ],
            [
             0.7,
             "#b8e186"
            ],
            [
             0.8,
             "#7fbc41"
            ],
            [
             0.9,
             "#4d9221"
            ],
            [
             1,
             "#276419"
            ]
           ],
           "sequential": [
            [
             0,
             "#0d0887"
            ],
            [
             0.1111111111111111,
             "#46039f"
            ],
            [
             0.2222222222222222,
             "#7201a8"
            ],
            [
             0.3333333333333333,
             "#9c179e"
            ],
            [
             0.4444444444444444,
             "#bd3786"
            ],
            [
             0.5555555555555556,
             "#d8576b"
            ],
            [
             0.6666666666666666,
             "#ed7953"
            ],
            [
             0.7777777777777778,
             "#fb9f3a"
            ],
            [
             0.8888888888888888,
             "#fdca26"
            ],
            [
             1,
             "#f0f921"
            ]
           ],
           "sequentialminus": [
            [
             0,
             "#0d0887"
            ],
            [
             0.1111111111111111,
             "#46039f"
            ],
            [
             0.2222222222222222,
             "#7201a8"
            ],
            [
             0.3333333333333333,
             "#9c179e"
            ],
            [
             0.4444444444444444,
             "#bd3786"
            ],
            [
             0.5555555555555556,
             "#d8576b"
            ],
            [
             0.6666666666666666,
             "#ed7953"
            ],
            [
             0.7777777777777778,
             "#fb9f3a"
            ],
            [
             0.8888888888888888,
             "#fdca26"
            ],
            [
             1,
             "#f0f921"
            ]
           ]
          },
          "colorway": [
           "#636efa",
           "#EF553B",
           "#00cc96",
           "#ab63fa",
           "#FFA15A",
           "#19d3f3",
           "#FF6692",
           "#B6E880",
           "#FF97FF",
           "#FECB52"
          ],
          "font": {
           "color": "#2a3f5f"
          },
          "geo": {
           "bgcolor": "white",
           "lakecolor": "white",
           "landcolor": "#E5ECF6",
           "showlakes": true,
           "showland": true,
           "subunitcolor": "white"
          },
          "hoverlabel": {
           "align": "left"
          },
          "hovermode": "closest",
          "mapbox": {
           "style": "light"
          },
          "paper_bgcolor": "white",
          "plot_bgcolor": "#E5ECF6",
          "polar": {
           "angularaxis": {
            "gridcolor": "white",
            "linecolor": "white",
            "ticks": ""
           },
           "bgcolor": "#E5ECF6",
           "radialaxis": {
            "gridcolor": "white",
            "linecolor": "white",
            "ticks": ""
           }
          },
          "scene": {
           "xaxis": {
            "backgroundcolor": "#E5ECF6",
            "gridcolor": "white",
            "gridwidth": 2,
            "linecolor": "white",
            "showbackground": true,
            "ticks": "",
            "zerolinecolor": "white"
           },
           "yaxis": {
            "backgroundcolor": "#E5ECF6",
            "gridcolor": "white",
            "gridwidth": 2,
            "linecolor": "white",
            "showbackground": true,
            "ticks": "",
            "zerolinecolor": "white"
           },
           "zaxis": {
            "backgroundcolor": "#E5ECF6",
            "gridcolor": "white",
            "gridwidth": 2,
            "linecolor": "white",
            "showbackground": true,
            "ticks": "",
            "zerolinecolor": "white"
           }
          },
          "shapedefaults": {
           "line": {
            "color": "#2a3f5f"
           }
          },
          "ternary": {
           "aaxis": {
            "gridcolor": "white",
            "linecolor": "white",
            "ticks": ""
           },
           "baxis": {
            "gridcolor": "white",
            "linecolor": "white",
            "ticks": ""
           },
           "bgcolor": "#E5ECF6",
           "caxis": {
            "gridcolor": "white",
            "linecolor": "white",
            "ticks": ""
           }
          },
          "title": {
           "x": 0.05
          },
          "xaxis": {
           "automargin": true,
           "gridcolor": "white",
           "linecolor": "white",
           "ticks": "",
           "title": {
            "standoff": 15
           },
           "zerolinecolor": "white",
           "zerolinewidth": 2
          },
          "yaxis": {
           "automargin": true,
           "gridcolor": "white",
           "linecolor": "white",
           "ticks": "",
           "title": {
            "standoff": 15
           },
           "zerolinecolor": "white",
           "zerolinewidth": 2
          }
         }
        },
        "title": {
         "font": {
          "size": 30
         },
         "text": "Product sales by product line and by city",
         "x": 0.5
        },
        "xaxis": {
         "anchor": "y",
         "domain": [
          0,
          1
         ],
         "title": {
          "text": "Product line"
         }
        },
        "yaxis": {
         "anchor": "x",
         "domain": [
          0,
          1
         ],
         "title": {
          "text": "Sum of total"
         }
        }
       }
      },
      "text/html": [
       "<div>                            <div id=\"89cea98b-76d5-4088-b1f7-9240e4182102\" class=\"plotly-graph-div\" style=\"height:400px; width:100%;\"></div>            <script type=\"text/javascript\">                require([\"plotly\"], function(Plotly) {                    window.PLOTLYENV=window.PLOTLYENV || {};                                    if (document.getElementById(\"89cea98b-76d5-4088-b1f7-9240e4182102\")) {                    Plotly.newPlot(                        \"89cea98b-76d5-4088-b1f7-9240e4182102\",                        [{\"alignmentgroup\":\"True\",\"bingroup\":\"x\",\"histfunc\":\"sum\",\"hovertemplate\":\"City=Yangon<br>Product line=%{x}<br>sum of Total=%{y}<extra></extra>\",\"legendgroup\":\"Yangon\",\"marker\":{\"color\":\"#f6d346\",\"pattern\":{\"shape\":\"\"}},\"name\":\"Yangon\",\"offsetgroup\":\"Yangon\",\"orientation\":\"v\",\"showlegend\":true,\"x\":[\"Health and beauty\",\"Home and lifestyle\",\"Health and beauty\",\"Sports and travel\",\"Electronic accessories\",\"Health and beauty\",\"Electronic accessories\",\"Food and beverages\",\"Health and beauty\",\"Health and beauty\",\"Sports and travel\",\"Food and beverages\",\"Electronic accessories\",\"Sports and travel\",\"Home and lifestyle\",\"Fashion accessories\",\"Health and beauty\",\"Health and beauty\",\"Sports and travel\",\"Electronic accessories\",\"Food and beverages\",\"Home and lifestyle\",\"Health and beauty\",\"Home and lifestyle\",\"Sports and travel\",\"Health and beauty\",\"Sports and travel\",\"Health and beauty\",\"Home and lifestyle\",\"Fashion accessories\",\"Food and beverages\",\"Sports and travel\",\"Sports and travel\",\"Electronic accessories\",\"Food and beverages\",\"Food and beverages\",\"Electronic accessories\",\"Sports and travel\",\"Home and lifestyle\",\"Food and beverages\",\"Electronic accessories\",\"Home and lifestyle\",\"Sports and travel\",\"Sports and travel\",\"Electronic accessories\",\"Home and lifestyle\",\"Sports and travel\",\"Home and lifestyle\",\"Fashion accessories\",\"Health and beauty\",\"Fashion accessories\",\"Food and beverages\",\"Sports and travel\",\"Food and beverages\",\"Fashion accessories\",\"Food and beverages\",\"Sports and travel\",\"Health and beauty\",\"Home and lifestyle\",\"Food and beverages\",\"Food and beverages\",\"Sports and travel\",\"Sports and travel\",\"Home and lifestyle\",\"Electronic accessories\",\"Home and lifestyle\",\"Health and beauty\",\"Electronic accessories\",\"Home and lifestyle\",\"Electronic accessories\",\"Food and beverages\",\"Home and lifestyle\",\"Health and beauty\",\"Sports and travel\",\"Fashion accessories\",\"Food and beverages\",\"Health and beauty\",\"Home and lifestyle\",\"Home and lifestyle\",\"Fashion accessories\",\"Electronic accessories\",\"Home and lifestyle\",\"Home and lifestyle\",\"Electronic accessories\",\"Home and lifestyle\",\"Electronic accessories\",\"Electronic accessories\",\"Sports and travel\",\"Sports and travel\",\"Home and lifestyle\",\"Home and lifestyle\",\"Home and lifestyle\",\"Home and lifestyle\",\"Sports and travel\",\"Home and lifestyle\",\"Sports and travel\",\"Health and beauty\",\"Health and beauty\",\"Home and lifestyle\",\"Electronic accessories\",\"Food and beverages\",\"Home and lifestyle\",\"Home and lifestyle\",\"Electronic accessories\",\"Electronic accessories\",\"Sports and travel\",\"Home and lifestyle\",\"Electronic accessories\",\"Fashion accessories\",\"Food and beverages\",\"Health and beauty\",\"Health and beauty\",\"Fashion accessories\",\"Home and lifestyle\",\"Food and beverages\",\"Electronic accessories\",\"Food and beverages\",\"Fashion accessories\",\"Food and beverages\",\"Electronic accessories\",\"Fashion accessories\",\"Sports and travel\",\"Fashion accessories\",\"Electronic accessories\",\"Electronic accessories\",\"Electronic accessories\",\"Food and beverages\",\"Home and lifestyle\",\"Home and lifestyle\",\"Electronic accessories\",\"Home and lifestyle\",\"Fashion accessories\",\"Sports and travel\",\"Food and beverages\",\"Health and beauty\",\"Electronic accessories\",\"Sports and travel\",\"Health and beauty\",\"Health and beauty\",\"Food and beverages\",\"Sports and travel\",\"Food and beverages\",\"Home and lifestyle\",\"Health and beauty\",\"Sports and travel\",\"Home and lifestyle\",\"Electronic accessories\",\"Health and beauty\",\"Home and lifestyle\",\"Electronic accessories\",\"Home and lifestyle\",\"Home and lifestyle\",\"Sports and travel\",\"Food and beverages\",\"Health and beauty\",\"Electronic accessories\",\"Food and beverages\",\"Sports and travel\",\"Fashion accessories\",\"Electronic accessories\",\"Health and beauty\",\"Sports and travel\",\"Electronic accessories\",\"Sports and travel\",\"Fashion accessories\",\"Fashion accessories\",\"Sports and travel\",\"Electronic accessories\",\"Home and lifestyle\",\"Fashion accessories\",\"Electronic accessories\",\"Home and lifestyle\",\"Home and lifestyle\",\"Food and beverages\",\"Sports and travel\",\"Sports and travel\",\"Health and beauty\",\"Fashion accessories\",\"Home and lifestyle\",\"Home and lifestyle\",\"Fashion accessories\",\"Home and lifestyle\",\"Fashion accessories\",\"Sports and travel\",\"Electronic accessories\",\"Electronic accessories\",\"Food and beverages\",\"Home and lifestyle\",\"Electronic accessories\",\"Food and beverages\",\"Fashion accessories\",\"Food and beverages\",\"Sports and travel\",\"Health and beauty\",\"Health and beauty\",\"Health and beauty\",\"Food and beverages\",\"Sports and travel\",\"Health and beauty\",\"Sports and travel\",\"Sports and travel\",\"Food and beverages\",\"Home and lifestyle\",\"Fashion accessories\",\"Fashion accessories\",\"Electronic accessories\",\"Food and beverages\",\"Sports and travel\",\"Food and beverages\",\"Food and beverages\",\"Food and beverages\",\"Sports and travel\",\"Home and lifestyle\",\"Fashion accessories\",\"Sports and travel\",\"Electronic accessories\",\"Food and beverages\",\"Health and beauty\",\"Home and lifestyle\",\"Home and lifestyle\",\"Electronic accessories\",\"Fashion accessories\",\"Sports and travel\",\"Fashion accessories\",\"Fashion accessories\",\"Fashion accessories\",\"Electronic accessories\",\"Food and beverages\",\"Food and beverages\",\"Fashion accessories\",\"Home and lifestyle\",\"Food and beverages\",\"Health and beauty\",\"Home and lifestyle\",\"Sports and travel\",\"Electronic accessories\",\"Sports and travel\",\"Food and beverages\",\"Health and beauty\",\"Fashion accessories\",\"Electronic accessories\",\"Fashion accessories\",\"Fashion accessories\",\"Health and beauty\",\"Fashion accessories\",\"Home and lifestyle\",\"Sports and travel\",\"Home and lifestyle\",\"Food and beverages\",\"Electronic accessories\",\"Fashion accessories\",\"Home and lifestyle\",\"Food and beverages\",\"Food and beverages\",\"Fashion accessories\",\"Health and beauty\",\"Health and beauty\",\"Home and lifestyle\",\"Sports and travel\",\"Fashion accessories\",\"Electronic accessories\",\"Sports and travel\",\"Fashion accessories\",\"Electronic accessories\",\"Electronic accessories\",\"Sports and travel\",\"Fashion accessories\",\"Home and lifestyle\",\"Sports and travel\",\"Electronic accessories\",\"Electronic accessories\",\"Electronic accessories\",\"Electronic accessories\",\"Food and beverages\",\"Home and lifestyle\",\"Health and beauty\",\"Sports and travel\",\"Fashion accessories\",\"Electronic accessories\",\"Electronic accessories\",\"Health and beauty\",\"Fashion accessories\",\"Fashion accessories\",\"Fashion accessories\",\"Sports and travel\",\"Fashion accessories\",\"Electronic accessories\",\"Electronic accessories\",\"Fashion accessories\",\"Fashion accessories\",\"Fashion accessories\",\"Health and beauty\",\"Home and lifestyle\",\"Food and beverages\",\"Sports and travel\",\"Electronic accessories\",\"Sports and travel\",\"Food and beverages\",\"Sports and travel\",\"Home and lifestyle\",\"Electronic accessories\",\"Home and lifestyle\",\"Food and beverages\",\"Sports and travel\",\"Food and beverages\",\"Electronic accessories\",\"Sports and travel\",\"Food and beverages\",\"Health and beauty\",\"Food and beverages\",\"Food and beverages\",\"Home and lifestyle\",\"Fashion accessories\",\"Food and beverages\",\"Fashion accessories\",\"Health and beauty\",\"Food and beverages\",\"Sports and travel\",\"Health and beauty\",\"Food and beverages\",\"Home and lifestyle\",\"Health and beauty\",\"Health and beauty\",\"Electronic accessories\",\"Fashion accessories\",\"Food and beverages\",\"Electronic accessories\",\"Fashion accessories\",\"Home and lifestyle\",\"Home and lifestyle\",\"Health and beauty\",\"Home and lifestyle\",\"Food and beverages\",\"Health and beauty\",\"Sports and travel\",\"Food and beverages\",\"Electronic accessories\",\"Food and beverages\",\"Home and lifestyle\",\"Fashion accessories\"],\"xaxis\":\"x\",\"y\":[548.9715,340.5255,489.048,634.3785,433.692,76.146,246.4875,453.495,749.49,506.6355,457.443,172.2105,181.44,279.1845,441.756,184.107,235.2105,202.818,328.755,575.316,234.0975,93.114,752.64,759.675,166.005,166.635,827.085,19.2465,705.6315,189.0945,362.943,44.5935,161.553,102.018,166.1625,367.038,931.035,391.419,548.7615,115.08,836.304,688.6215,169.3125,580.419,138.1275,216.846,609.0,491.085,316.47,272.664,786.618,484.5225,66.8745,336.5565,1039.29,323.064,510.972,367.5525,319.788,186.228,465.444,162.75,90.699,77.7735,171.7275,26.5545,217.6335,247.8735,19.194,298.116,90.825,532.728,545.37,195.594,94.1745,235.683,125.517,263.13,399.756,94.185,326.424,99.75,494.76,69.6675,163.233,135.45,709.317,233.52,723.24,297.108,373.17,203.553,25.263,462.21,587.664,16.107,628.929,200.214,697.368,65.604,76.356,493.794,252.042,214.998,530.67,295.6905,745.836,83.412,172.011,74.7075,146.9475,96.138,324.2925,135.576,523.845,152.712,103.635,404.355,49.308,149.3625,721.98,140.6475,736.4385,75.5475,191.247,379.9215,680.064,461.286,276.948,203.175,352.2225,507.675,345.786,214.935,339.36,80.661,548.73,83.727,406.875,284.9175,282.492,72.3975,237.426,110.0925,81.396,427.812,185.367,390.7995,951.825,147.798,214.137,843.0345,140.385,333.9525,26.25,87.234,269.535,168.21,452.865,338.31,205.317,174.615,40.53,194.985,156.03,206.43,432.768,203.112,225.2775,398.958,731.6925,72.933,235.872,514.773,479.9025,926.9505,160.209,728.112,148.68,102.837,306.81,96.642,308.91,575.9775,416.178,142.002,262.458,228.123,469.413,852.705,621.243,74.4555,451.0275,269.934,326.256,217.182,164.871,226.065,76.755,47.859,236.88,164.43,147.672,394.3275,32.1405,30.408,708.225,365.904,620.739,225.792,96.1905,127.827,167.895,12.6945,673.995,246.6765,175.917,212.7825,182.952,764.19,49.4235,277.6725,146.6325,58.2225,204.246,588.42,477.54,308.574,305.55,45.108,667.38,211.365,510.615,458.6925,113.568,657.531,80.955,507.906,187.32,525.231,37.611,142.947,93.744,176.4,20.685,887.922,150.423,79.149,143.22,182.91,817.236,608.076,197.925,232.638,536.592,56.1225,233.1,72.009,397.992,32.151,548.163,432.9885,48.7305,680.61,97.881,257.145,462.672,325.374,195.678,210.966,422.73,99.9075,408.408,284.592,100.128,216.4365,92.442,130.032,779.31,88.704,95.865,54.999,202.335,163.611,82.887,22.386,295.407,76.923,624.33,77.805,206.808,503.7375,118.902,450.1035,26.796,250.7085,271.278,182.427,561.078,97.818,756.168,216.846,175.014,335.013,92.295,771.435,807.66,331.128,145.5825,84.7455,167.034,782.208,431.256,313.74,397.614,374.409,781.62,469.77,290.0835,279.384,479.64,266.6475,74.088,690.018,312.8895,932.337,43.869,16.275,314.685,255.1815,49.77,252.252,313.572,244.23,921.186,296.94,121.863,33.432,69.111,649.299],\"yaxis\":\"y\",\"type\":\"histogram\"},{\"alignmentgroup\":\"True\",\"bingroup\":\"x\",\"histfunc\":\"sum\",\"hovertemplate\":\"City=Naypyitaw<br>Product line=%{x}<br>sum of Total=%{y}<extra></extra>\",\"legendgroup\":\"Naypyitaw\",\"marker\":{\"color\":\"#35329b\",\"pattern\":{\"shape\":\"\"}},\"name\":\"Naypyitaw\",\"offsetgroup\":\"Naypyitaw\",\"orientation\":\"v\",\"showlegend\":true,\"x\":[\"Electronic accessories\",\"Electronic accessories\",\"Home and lifestyle\",\"Electronic accessories\",\"Food and beverages\",\"Sports and travel\",\"Health and beauty\",\"Home and lifestyle\",\"Food and beverages\",\"Health and beauty\",\"Fashion accessories\",\"Food and beverages\",\"Fashion accessories\",\"Electronic accessories\",\"Electronic accessories\",\"Sports and travel\",\"Home and lifestyle\",\"Health and beauty\",\"Food and beverages\",\"Fashion accessories\",\"Electronic accessories\",\"Electronic accessories\",\"Fashion accessories\",\"Food and beverages\",\"Health and beauty\",\"Health and beauty\",\"Food and beverages\",\"Food and beverages\",\"Sports and travel\",\"Sports and travel\",\"Fashion accessories\",\"Home and lifestyle\",\"Sports and travel\",\"Health and beauty\",\"Electronic accessories\",\"Fashion accessories\",\"Fashion accessories\",\"Electronic accessories\",\"Fashion accessories\",\"Food and beverages\",\"Electronic accessories\",\"Health and beauty\",\"Home and lifestyle\",\"Fashion accessories\",\"Sports and travel\",\"Home and lifestyle\",\"Fashion accessories\",\"Food and beverages\",\"Health and beauty\",\"Fashion accessories\",\"Sports and travel\",\"Health and beauty\",\"Health and beauty\",\"Food and beverages\",\"Health and beauty\",\"Health and beauty\",\"Sports and travel\",\"Food and beverages\",\"Sports and travel\",\"Food and beverages\",\"Sports and travel\",\"Home and lifestyle\",\"Electronic accessories\",\"Fashion accessories\",\"Health and beauty\",\"Fashion accessories\",\"Food and beverages\",\"Health and beauty\",\"Home and lifestyle\",\"Food and beverages\",\"Fashion accessories\",\"Health and beauty\",\"Health and beauty\",\"Food and beverages\",\"Sports and travel\",\"Electronic accessories\",\"Electronic accessories\",\"Home and lifestyle\",\"Food and beverages\",\"Electronic accessories\",\"Fashion accessories\",\"Sports and travel\",\"Electronic accessories\",\"Health and beauty\",\"Fashion accessories\",\"Fashion accessories\",\"Fashion accessories\",\"Sports and travel\",\"Electronic accessories\",\"Fashion accessories\",\"Home and lifestyle\",\"Health and beauty\",\"Home and lifestyle\",\"Fashion accessories\",\"Fashion accessories\",\"Home and lifestyle\",\"Home and lifestyle\",\"Sports and travel\",\"Electronic accessories\",\"Electronic accessories\",\"Electronic accessories\",\"Home and lifestyle\",\"Fashion accessories\",\"Food and beverages\",\"Fashion accessories\",\"Electronic accessories\",\"Food and beverages\",\"Food and beverages\",\"Electronic accessories\",\"Health and beauty\",\"Health and beauty\",\"Food and beverages\",\"Health and beauty\",\"Food and beverages\",\"Sports and travel\",\"Electronic accessories\",\"Food and beverages\",\"Home and lifestyle\",\"Fashion accessories\",\"Electronic accessories\",\"Fashion accessories\",\"Sports and travel\",\"Food and beverages\",\"Food and beverages\",\"Food and beverages\",\"Fashion accessories\",\"Electronic accessories\",\"Sports and travel\",\"Home and lifestyle\",\"Fashion accessories\",\"Sports and travel\",\"Fashion accessories\",\"Electronic accessories\",\"Food and beverages\",\"Food and beverages\",\"Fashion accessories\",\"Fashion accessories\",\"Food and beverages\",\"Home and lifestyle\",\"Home and lifestyle\",\"Fashion accessories\",\"Fashion accessories\",\"Home and lifestyle\",\"Health and beauty\",\"Food and beverages\",\"Electronic accessories\",\"Fashion accessories\",\"Fashion accessories\",\"Food and beverages\",\"Sports and travel\",\"Sports and travel\",\"Food and beverages\",\"Electronic accessories\",\"Food and beverages\",\"Fashion accessories\",\"Food and beverages\",\"Fashion accessories\",\"Electronic accessories\",\"Food and beverages\",\"Food and beverages\",\"Sports and travel\",\"Food and beverages\",\"Sports and travel\",\"Health and beauty\",\"Food and beverages\",\"Electronic accessories\",\"Home and lifestyle\",\"Electronic accessories\",\"Food and beverages\",\"Electronic accessories\",\"Sports and travel\",\"Home and lifestyle\",\"Home and lifestyle\",\"Electronic accessories\",\"Food and beverages\",\"Fashion accessories\",\"Home and lifestyle\",\"Home and lifestyle\",\"Sports and travel\",\"Fashion accessories\",\"Home and lifestyle\",\"Sports and travel\",\"Home and lifestyle\",\"Health and beauty\",\"Food and beverages\",\"Home and lifestyle\",\"Food and beverages\",\"Health and beauty\",\"Electronic accessories\",\"Electronic accessories\",\"Food and beverages\",\"Food and beverages\",\"Sports and travel\",\"Sports and travel\",\"Food and beverages\",\"Food and beverages\",\"Fashion accessories\",\"Fashion accessories\",\"Health and beauty\",\"Home and lifestyle\",\"Sports and travel\",\"Fashion accessories\",\"Electronic accessories\",\"Fashion accessories\",\"Food and beverages\",\"Fashion accessories\",\"Food and beverages\",\"Food and beverages\",\"Sports and travel\",\"Electronic accessories\",\"Fashion accessories\",\"Electronic accessories\",\"Electronic accessories\",\"Food and beverages\",\"Electronic accessories\",\"Health and beauty\",\"Sports and travel\",\"Electronic accessories\",\"Electronic accessories\",\"Sports and travel\",\"Food and beverages\",\"Sports and travel\",\"Health and beauty\",\"Health and beauty\",\"Health and beauty\",\"Fashion accessories\",\"Sports and travel\",\"Sports and travel\",\"Food and beverages\",\"Fashion accessories\",\"Food and beverages\",\"Home and lifestyle\",\"Fashion accessories\",\"Food and beverages\",\"Fashion accessories\",\"Home and lifestyle\",\"Electronic accessories\",\"Health and beauty\",\"Fashion accessories\",\"Sports and travel\",\"Food and beverages\",\"Health and beauty\",\"Home and lifestyle\",\"Fashion accessories\",\"Health and beauty\",\"Home and lifestyle\",\"Electronic accessories\",\"Home and lifestyle\",\"Food and beverages\",\"Sports and travel\",\"Food and beverages\",\"Home and lifestyle\",\"Health and beauty\",\"Fashion accessories\",\"Fashion accessories\",\"Health and beauty\",\"Sports and travel\",\"Food and beverages\",\"Food and beverages\",\"Health and beauty\",\"Sports and travel\",\"Health and beauty\",\"Home and lifestyle\",\"Health and beauty\",\"Electronic accessories\",\"Health and beauty\",\"Health and beauty\",\"Health and beauty\",\"Home and lifestyle\",\"Home and lifestyle\",\"Electronic accessories\",\"Fashion accessories\",\"Fashion accessories\",\"Sports and travel\",\"Fashion accessories\",\"Sports and travel\",\"Electronic accessories\",\"Electronic accessories\",\"Sports and travel\",\"Food and beverages\",\"Sports and travel\",\"Food and beverages\",\"Health and beauty\",\"Home and lifestyle\",\"Health and beauty\",\"Health and beauty\",\"Food and beverages\",\"Fashion accessories\",\"Home and lifestyle\",\"Fashion accessories\",\"Fashion accessories\",\"Fashion accessories\",\"Health and beauty\",\"Fashion accessories\",\"Fashion accessories\",\"Food and beverages\",\"Health and beauty\",\"Electronic accessories\",\"Health and beauty\",\"Home and lifestyle\",\"Health and beauty\",\"Electronic accessories\",\"Electronic accessories\",\"Sports and travel\",\"Home and lifestyle\",\"Home and lifestyle\",\"Sports and travel\",\"Sports and travel\",\"Fashion accessories\",\"Health and beauty\",\"Home and lifestyle\",\"Health and beauty\",\"Food and beverages\",\"Fashion accessories\",\"Electronic accessories\",\"Home and lifestyle\",\"Food and beverages\",\"Food and beverages\",\"Home and lifestyle\",\"Fashion accessories\",\"Electronic accessories\",\"Fashion accessories\",\"Food and beverages\",\"Health and beauty\",\"Electronic accessories\",\"Electronic accessories\",\"Electronic accessories\",\"Health and beauty\"],\"xaxis\":\"x\",\"y\":[80.22,627.6165,772.38,451.71,417.564,71.526,461.328,117.831,829.08,32.277,867.615,671.79,16.2015,722.232,192.843,77.931,351.099,70.287,939.54,652.26,478.233,437.325,463.428,822.255,106.995,624.897,161.7,337.512,256.7775,610.491,401.73,198.996,471.03,94.2375,78.435,51.1455,742.2975,218.0115,172.494,321.111,860.685,309.3615,763.4655,85.113,419.832,536.844,299.8485,575.736,512.19,284.193,942.9,950.25,720.3,31.9305,291.438,277.788,254.016,103.824,680.148,362.712,160.44,1003.59,175.14,165.4485,273.42,472.311,323.148,288.204,293.202,829.71,78.0045,91.77,174.3,374.7975,120.645,451.3635,629.8425,299.565,881.307,62.0025,13.167,183.036,155.652,91.4025,232.155,195.72,369.495,30.219,276.948,69.09,148.974,44.352,229.11,400.764,745.395,38.85,78.603,224.4375,204.6975,272.58,121.128,93.0405,209.622,51.0405,145.593,820.365,208.677,66.402,392.6475,218.0745,185.094,216.6885,41.391,395.892,77.175,150.0975,509.4075,749.7,1042.65,31.752,394.275,1002.12,793.548,209.559,173.208,343.056,484.974,150.78,441.693,265.104,701.8515,407.316,55.881,314.538,294.651,510.9615,253.512,248.409,194.124,14.679,718.7565,125.055,190.596,85.5855,121.59,264.7575,1020.705,17.094,90.867,937.818,348.306,71.568,343.224,91.56,13.419,290.43,144.081,488.985,37.6845,212.73,310.59,23.751,572.775,273.0525,22.659,103.782,527.751,353.094,554.148,344.4,388.29,24.108,127.26,132.762,568.512,33.495,145.74,100.485,429.1665,54.0435,206.7975,377.58,523.971,132.027,154.1295,122.5245,551.124,79.674,118.251,139.923,1034.46,936.6,517.965,543.753,133.434,85.743,195.258,625.905,293.139,178.164,440.937,193.4625,87.234,68.2395,814.38,381.3915,209.118,935.2665,84.9765,461.5275,273.798,48.51,743.82,609.168,63.2625,442.323,32.529,259.77,104.6745,125.979,914.55,207.48,300.573,282.576,618.975,310.716,153.048,663.2955,404.544,539.343,497.07,1023.75,507.444,72.429,131.208,317.226,733.6035,130.8825,829.08,856.4535,270.2595,239.4,175.0455,408.492,860.475,596.82,616.98,408.7335,89.0715,266.028,40.341,55.2825,597.0405,267.3405,239.589,631.1445,499.7265,55.041,137.865,480.0285,132.5625,183.12,369.684,53.34,603.876,57.6975,190.4805,287.91,63.9135,455.1225,253.68,495.3165,652.89,341.0925,333.984,10.6785,681.975,586.635,184.086,31.227,23.499,688.716,390.9465,90.5835,106.5015,131.922,76.5765,59.325,548.184,54.9675,85.512,102.396,439.215,485.5725,446.439,297.801,629.16,423.738,122.472,329.196,888.405,235.746,223.587,44.9925,338.2155,26.733,611.079,221.886,175.035,470.988,270.018,579.8415,360.927,943.299,176.925,188.0025,88.368,477.1305,165.9,96.579,304.983,180.873,250.278,734.706,708.3195,864.57,63.9975,42.3675],\"yaxis\":\"y\",\"type\":\"histogram\"},{\"alignmentgroup\":\"True\",\"bingroup\":\"x\",\"histfunc\":\"sum\",\"hovertemplate\":\"City=Mandalay<br>Product line=%{x}<br>sum of Total=%{y}<extra></extra>\",\"legendgroup\":\"Mandalay\",\"marker\":{\"color\":\"#c16479\",\"pattern\":{\"shape\":\"\"}},\"name\":\"Mandalay\",\"offsetgroup\":\"Mandalay\",\"orientation\":\"v\",\"showlegend\":true,\"x\":[\"Food and beverages\",\"Fashion accessories\",\"Electronic accessories\",\"Sports and travel\",\"Home and lifestyle\",\"Health and beauty\",\"Home and lifestyle\",\"Fashion accessories\",\"Food and beverages\",\"Fashion accessories\",\"Sports and travel\",\"Sports and travel\",\"Home and lifestyle\",\"Home and lifestyle\",\"Sports and travel\",\"Electronic accessories\",\"Health and beauty\",\"Food and beverages\",\"Electronic accessories\",\"Fashion accessories\",\"Home and lifestyle\",\"Sports and travel\",\"Health and beauty\",\"Fashion accessories\",\"Food and beverages\",\"Food and beverages\",\"Health and beauty\",\"Health and beauty\",\"Health and beauty\",\"Home and lifestyle\",\"Health and beauty\",\"Sports and travel\",\"Fashion accessories\",\"Fashion accessories\",\"Fashion accessories\",\"Home and lifestyle\",\"Sports and travel\",\"Fashion accessories\",\"Sports and travel\",\"Fashion accessories\",\"Sports and travel\",\"Electronic accessories\",\"Sports and travel\",\"Home and lifestyle\",\"Fashion accessories\",\"Electronic accessories\",\"Home and lifestyle\",\"Health and beauty\",\"Sports and travel\",\"Food and beverages\",\"Health and beauty\",\"Food and beverages\",\"Electronic accessories\",\"Food and beverages\",\"Food and beverages\",\"Home and lifestyle\",\"Home and lifestyle\",\"Home and lifestyle\",\"Fashion accessories\",\"Home and lifestyle\",\"Electronic accessories\",\"Health and beauty\",\"Home and lifestyle\",\"Fashion accessories\",\"Electronic accessories\",\"Home and lifestyle\",\"Sports and travel\",\"Sports and travel\",\"Sports and travel\",\"Fashion accessories\",\"Food and beverages\",\"Electronic accessories\",\"Food and beverages\",\"Health and beauty\",\"Electronic accessories\",\"Fashion accessories\",\"Electronic accessories\",\"Health and beauty\",\"Fashion accessories\",\"Electronic accessories\",\"Home and lifestyle\",\"Electronic accessories\",\"Food and beverages\",\"Food and beverages\",\"Fashion accessories\",\"Fashion accessories\",\"Sports and travel\",\"Food and beverages\",\"Sports and travel\",\"Health and beauty\",\"Fashion accessories\",\"Health and beauty\",\"Food and beverages\",\"Electronic accessories\",\"Health and beauty\",\"Health and beauty\",\"Electronic accessories\",\"Sports and travel\",\"Sports and travel\",\"Health and beauty\",\"Home and lifestyle\",\"Sports and travel\",\"Food and beverages\",\"Electronic accessories\",\"Health and beauty\",\"Health and beauty\",\"Health and beauty\",\"Fashion accessories\",\"Home and lifestyle\",\"Food and beverages\",\"Electronic accessories\",\"Sports and travel\",\"Electronic accessories\",\"Fashion accessories\",\"Home and lifestyle\",\"Electronic accessories\",\"Food and beverages\",\"Sports and travel\",\"Food and beverages\",\"Fashion accessories\",\"Home and lifestyle\",\"Health and beauty\",\"Electronic accessories\",\"Fashion accessories\",\"Fashion accessories\",\"Health and beauty\",\"Sports and travel\",\"Health and beauty\",\"Health and beauty\",\"Fashion accessories\",\"Fashion accessories\",\"Food and beverages\",\"Sports and travel\",\"Fashion accessories\",\"Fashion accessories\",\"Fashion accessories\",\"Sports and travel\",\"Health and beauty\",\"Health and beauty\",\"Sports and travel\",\"Electronic accessories\",\"Electronic accessories\",\"Fashion accessories\",\"Food and beverages\",\"Electronic accessories\",\"Food and beverages\",\"Sports and travel\",\"Health and beauty\",\"Sports and travel\",\"Home and lifestyle\",\"Sports and travel\",\"Fashion accessories\",\"Home and lifestyle\",\"Fashion accessories\",\"Health and beauty\",\"Fashion accessories\",\"Sports and travel\",\"Sports and travel\",\"Sports and travel\",\"Sports and travel\",\"Sports and travel\",\"Sports and travel\",\"Food and beverages\",\"Health and beauty\",\"Sports and travel\",\"Health and beauty\",\"Electronic accessories\",\"Fashion accessories\",\"Fashion accessories\",\"Food and beverages\",\"Electronic accessories\",\"Fashion accessories\",\"Sports and travel\",\"Food and beverages\",\"Home and lifestyle\",\"Sports and travel\",\"Fashion accessories\",\"Fashion accessories\",\"Health and beauty\",\"Home and lifestyle\",\"Fashion accessories\",\"Electronic accessories\",\"Electronic accessories\",\"Fashion accessories\",\"Fashion accessories\",\"Home and lifestyle\",\"Sports and travel\",\"Food and beverages\",\"Fashion accessories\",\"Food and beverages\",\"Health and beauty\",\"Fashion accessories\",\"Sports and travel\",\"Sports and travel\",\"Health and beauty\",\"Sports and travel\",\"Home and lifestyle\",\"Food and beverages\",\"Fashion accessories\",\"Sports and travel\",\"Home and lifestyle\",\"Fashion accessories\",\"Fashion accessories\",\"Food and beverages\",\"Health and beauty\",\"Home and lifestyle\",\"Food and beverages\",\"Health and beauty\",\"Food and beverages\",\"Fashion accessories\",\"Food and beverages\",\"Electronic accessories\",\"Fashion accessories\",\"Electronic accessories\",\"Health and beauty\",\"Sports and travel\",\"Fashion accessories\",\"Sports and travel\",\"Fashion accessories\",\"Food and beverages\",\"Health and beauty\",\"Sports and travel\",\"Food and beverages\",\"Health and beauty\",\"Fashion accessories\",\"Sports and travel\",\"Electronic accessories\",\"Sports and travel\",\"Sports and travel\",\"Home and lifestyle\",\"Sports and travel\",\"Home and lifestyle\",\"Food and beverages\",\"Fashion accessories\",\"Health and beauty\",\"Home and lifestyle\",\"Health and beauty\",\"Electronic accessories\",\"Fashion accessories\",\"Fashion accessories\",\"Home and lifestyle\",\"Food and beverages\",\"Sports and travel\",\"Home and lifestyle\",\"Electronic accessories\",\"Food and beverages\",\"Electronic accessories\",\"Fashion accessories\",\"Home and lifestyle\",\"Fashion accessories\",\"Home and lifestyle\",\"Electronic accessories\",\"Food and beverages\",\"Electronic accessories\",\"Home and lifestyle\",\"Sports and travel\",\"Electronic accessories\",\"Sports and travel\",\"Food and beverages\",\"Sports and travel\",\"Electronic accessories\",\"Home and lifestyle\",\"Fashion accessories\",\"Health and beauty\",\"Sports and travel\",\"Electronic accessories\",\"Health and beauty\",\"Health and beauty\",\"Food and beverages\",\"Health and beauty\",\"Food and beverages\",\"Electronic accessories\",\"Sports and travel\",\"Health and beauty\",\"Health and beauty\",\"Sports and travel\",\"Home and lifestyle\",\"Sports and travel\",\"Electronic accessories\",\"Electronic accessories\",\"Fashion accessories\",\"Food and beverages\",\"Health and beauty\",\"Home and lifestyle\",\"Home and lifestyle\",\"Sports and travel\",\"Electronic accessories\",\"Electronic accessories\",\"Electronic accessories\",\"Food and beverages\",\"Sports and travel\",\"Electronic accessories\",\"Electronic accessories\",\"Electronic accessories\",\"Health and beauty\",\"Home and lifestyle\",\"Health and beauty\",\"Home and lifestyle\",\"Food and beverages\",\"Home and lifestyle\",\"Electronic accessories\",\"Home and lifestyle\",\"Electronic accessories\",\"Sports and travel\",\"Electronic accessories\",\"Sports and travel\",\"Home and lifestyle\",\"Home and lifestyle\",\"Fashion accessories\",\"Food and beverages\",\"Health and beauty\",\"Home and lifestyle\",\"Food and beverages\",\"Home and lifestyle\",\"Electronic accessories\",\"Food and beverages\",\"Electronic accessories\",\"Electronic accessories\",\"Food and beverages\",\"Home and lifestyle\",\"Electronic accessories\",\"Fashion accessories\",\"Food and beverages\",\"Electronic accessories\",\"Food and beverages\",\"Fashion accessories\",\"Health and beauty\",\"Health and beauty\",\"Health and beauty\",\"Sports and travel\",\"Fashion accessories\",\"Home and lifestyle\"],\"xaxis\":\"x\",\"y\":[172.746,60.816,107.142,590.436,84.63,277.137,69.72,35.196,463.89,494.1825,737.7615,703.752,253.008,91.056,435.456,394.632,535.7205,189.0945,119.259,75.054,33.936,520.4115,318.108,614.943,152.838,304.542,485.037,608.202,922.635,521.01,223.0725,34.629,535.374,115.185,53.928,112.224,944.622,474.348,853.146,291.207,146.328,550.935,545.055,603.624,384.468,75.7785,263.97,918.729,588.357,418.95,357.588,420.2625,333.207,166.236,56.952,793.716,195.174,242.676,154.392,107.31,241.458,271.95,93.2925,95.6655,942.4485,484.89,146.223,217.6335,130.0425,796.908,180.621,285.705,456.288,655.5465,571.41,170.877,33.3585,794.6505,310.044,69.405,788.508,256.41,536.991,439.8975,137.004,160.86,57.1725,783.3,354.0075,628.173,352.5795,350.07,356.5485,423.15,190.155,40.9605,125.664,503.559,410.508,214.746,208.089,365.085,404.649,151.4835,411.3795,565.215,141.75,402.2655,255.15,374.388,86.625,78.7185,193.011,128.016,334.341,99.33,523.3725,79.611,133.917,398.475,128.4255,258.678,181.818,208.6875,288.582,359.205,45.927,100.9155,120.162,213.528,383.7645,65.7405,353.1675,145.068,702.219,49.812,742.812,20.1075,28.4235,41.076,470.673,138.663,155.19,731.43,833.595,767.025,233.226,609.588,360.885,633.99,207.858,431.445,734.076,72.87,212.688,209.769,637.728,103.0365,77.6685,195.951,92.8725,152.775,529.515,321.7725,666.939,288.015,143.9865,164.682,125.706,570.78,240.975,77.658,84.756,74.76,163.002,270.585,180.4005,513.2295,550.368,118.062,151.284,203.931,356.328,208.425,586.971,430.71,280.035,152.019,597.6285,253.26,145.971,75.936,198.639,304.92,46.683,343.413,133.35,121.569,293.643,457.38,695.2365,874.125,95.9175,165.648,867.09,314.055,251.7165,697.935,92.5575,165.123,311.1885,116.907,35.3115,397.215,351.603,352.674,252.756,135.3555,370.125,181.881,75.474,85.302,196.14,231.2415,175.917,470.988,41.454,36.5505,145.404,103.11,136.143,261.198,101.808,207.585,760.4415,835.2855,527.5095,180.6,110.124,187.866,138.978,98.028,732.27,383.523,557.718,56.406,769.104,684.915,116.1405,93.744,384.72,300.216,810.6,757.365,801.864,86.247,401.688,401.268,151.515,98.049,830.3715,1022.385,57.078,97.419,144.963,714.3255,18.6375,90.3,446.964,403.872,247.59,222.138,441.588,681.4395,262.794,99.54,299.3655,281.169,63.315,554.295,345.0195,177.408,362.817,106.596,375.3645,760.452,225.015,41.7375,101.64,348.705,335.895,486.444,148.995,317.835,832.944,193.074,435.12,514.605,91.8225,217.2555,82.719,103.131,57.876,92.7255,833.9625,53.151,629.496,397.845,56.469,222.012,125.7165,68.985,263.97,415.233,289.926,69.993,80.367,181.0725,888.615,271.2885,640.038,104.832,167.58,26.7225,71.1585,334.4775,30.996,520.8,633.108,804.3,183.645,1022.49],\"yaxis\":\"y\",\"type\":\"histogram\"}],                        {\"template\":{\"data\":{\"bar\":[{\"error_x\":{\"color\":\"#2a3f5f\"},\"error_y\":{\"color\":\"#2a3f5f\"},\"marker\":{\"line\":{\"color\":\"#E5ECF6\",\"width\":0.5},\"pattern\":{\"fillmode\":\"overlay\",\"size\":10,\"solidity\":0.2}},\"type\":\"bar\"}],\"barpolar\":[{\"marker\":{\"line\":{\"color\":\"#E5ECF6\",\"width\":0.5},\"pattern\":{\"fillmode\":\"overlay\",\"size\":10,\"solidity\":0.2}},\"type\":\"barpolar\"}],\"carpet\":[{\"aaxis\":{\"endlinecolor\":\"#2a3f5f\",\"gridcolor\":\"white\",\"linecolor\":\"white\",\"minorgridcolor\":\"white\",\"startlinecolor\":\"#2a3f5f\"},\"baxis\":{\"endlinecolor\":\"#2a3f5f\",\"gridcolor\":\"white\",\"linecolor\":\"white\",\"minorgridcolor\":\"white\",\"startlinecolor\":\"#2a3f5f\"},\"type\":\"carpet\"}],\"choropleth\":[{\"colorbar\":{\"outlinewidth\":0,\"ticks\":\"\"},\"type\":\"choropleth\"}],\"contour\":[{\"colorbar\":{\"outlinewidth\":0,\"ticks\":\"\"},\"colorscale\":[[0.0,\"#0d0887\"],[0.1111111111111111,\"#46039f\"],[0.2222222222222222,\"#7201a8\"],[0.3333333333333333,\"#9c179e\"],[0.4444444444444444,\"#bd3786\"],[0.5555555555555556,\"#d8576b\"],[0.6666666666666666,\"#ed7953\"],[0.7777777777777778,\"#fb9f3a\"],[0.8888888888888888,\"#fdca26\"],[1.0,\"#f0f921\"]],\"type\":\"contour\"}],\"contourcarpet\":[{\"colorbar\":{\"outlinewidth\":0,\"ticks\":\"\"},\"type\":\"contourcarpet\"}],\"heatmap\":[{\"colorbar\":{\"outlinewidth\":0,\"ticks\":\"\"},\"colorscale\":[[0.0,\"#0d0887\"],[0.1111111111111111,\"#46039f\"],[0.2222222222222222,\"#7201a8\"],[0.3333333333333333,\"#9c179e\"],[0.4444444444444444,\"#bd3786\"],[0.5555555555555556,\"#d8576b\"],[0.6666666666666666,\"#ed7953\"],[0.7777777777777778,\"#fb9f3a\"],[0.8888888888888888,\"#fdca26\"],[1.0,\"#f0f921\"]],\"type\":\"heatmap\"}],\"heatmapgl\":[{\"colorbar\":{\"outlinewidth\":0,\"ticks\":\"\"},\"colorscale\":[[0.0,\"#0d0887\"],[0.1111111111111111,\"#46039f\"],[0.2222222222222222,\"#7201a8\"],[0.3333333333333333,\"#9c179e\"],[0.4444444444444444,\"#bd3786\"],[0.5555555555555556,\"#d8576b\"],[0.6666666666666666,\"#ed7953\"],[0.7777777777777778,\"#fb9f3a\"],[0.8888888888888888,\"#fdca26\"],[1.0,\"#f0f921\"]],\"type\":\"heatmapgl\"}],\"histogram\":[{\"marker\":{\"pattern\":{\"fillmode\":\"overlay\",\"size\":10,\"solidity\":0.2}},\"type\":\"histogram\"}],\"histogram2d\":[{\"colorbar\":{\"outlinewidth\":0,\"ticks\":\"\"},\"colorscale\":[[0.0,\"#0d0887\"],[0.1111111111111111,\"#46039f\"],[0.2222222222222222,\"#7201a8\"],[0.3333333333333333,\"#9c179e\"],[0.4444444444444444,\"#bd3786\"],[0.5555555555555556,\"#d8576b\"],[0.6666666666666666,\"#ed7953\"],[0.7777777777777778,\"#fb9f3a\"],[0.8888888888888888,\"#fdca26\"],[1.0,\"#f0f921\"]],\"type\":\"histogram2d\"}],\"histogram2dcontour\":[{\"colorbar\":{\"outlinewidth\":0,\"ticks\":\"\"},\"colorscale\":[[0.0,\"#0d0887\"],[0.1111111111111111,\"#46039f\"],[0.2222222222222222,\"#7201a8\"],[0.3333333333333333,\"#9c179e\"],[0.4444444444444444,\"#bd3786\"],[0.5555555555555556,\"#d8576b\"],[0.6666666666666666,\"#ed7953\"],[0.7777777777777778,\"#fb9f3a\"],[0.8888888888888888,\"#fdca26\"],[1.0,\"#f0f921\"]],\"type\":\"histogram2dcontour\"}],\"mesh3d\":[{\"colorbar\":{\"outlinewidth\":0,\"ticks\":\"\"},\"type\":\"mesh3d\"}],\"parcoords\":[{\"line\":{\"colorbar\":{\"outlinewidth\":0,\"ticks\":\"\"}},\"type\":\"parcoords\"}],\"pie\":[{\"automargin\":true,\"type\":\"pie\"}],\"scatter\":[{\"marker\":{\"colorbar\":{\"outlinewidth\":0,\"ticks\":\"\"}},\"type\":\"scatter\"}],\"scatter3d\":[{\"line\":{\"colorbar\":{\"outlinewidth\":0,\"ticks\":\"\"}},\"marker\":{\"colorbar\":{\"outlinewidth\":0,\"ticks\":\"\"}},\"type\":\"scatter3d\"}],\"scattercarpet\":[{\"marker\":{\"colorbar\":{\"outlinewidth\":0,\"ticks\":\"\"}},\"type\":\"scattercarpet\"}],\"scattergeo\":[{\"marker\":{\"colorbar\":{\"outlinewidth\":0,\"ticks\":\"\"}},\"type\":\"scattergeo\"}],\"scattergl\":[{\"marker\":{\"colorbar\":{\"outlinewidth\":0,\"ticks\":\"\"}},\"type\":\"scattergl\"}],\"scattermapbox\":[{\"marker\":{\"colorbar\":{\"outlinewidth\":0,\"ticks\":\"\"}},\"type\":\"scattermapbox\"}],\"scatterpolar\":[{\"marker\":{\"colorbar\":{\"outlinewidth\":0,\"ticks\":\"\"}},\"type\":\"scatterpolar\"}],\"scatterpolargl\":[{\"marker\":{\"colorbar\":{\"outlinewidth\":0,\"ticks\":\"\"}},\"type\":\"scatterpolargl\"}],\"scatterternary\":[{\"marker\":{\"colorbar\":{\"outlinewidth\":0,\"ticks\":\"\"}},\"type\":\"scatterternary\"}],\"surface\":[{\"colorbar\":{\"outlinewidth\":0,\"ticks\":\"\"},\"colorscale\":[[0.0,\"#0d0887\"],[0.1111111111111111,\"#46039f\"],[0.2222222222222222,\"#7201a8\"],[0.3333333333333333,\"#9c179e\"],[0.4444444444444444,\"#bd3786\"],[0.5555555555555556,\"#d8576b\"],[0.6666666666666666,\"#ed7953\"],[0.7777777777777778,\"#fb9f3a\"],[0.8888888888888888,\"#fdca26\"],[1.0,\"#f0f921\"]],\"type\":\"surface\"}],\"table\":[{\"cells\":{\"fill\":{\"color\":\"#EBF0F8\"},\"line\":{\"color\":\"white\"}},\"header\":{\"fill\":{\"color\":\"#C8D4E3\"},\"line\":{\"color\":\"white\"}},\"type\":\"table\"}]},\"layout\":{\"annotationdefaults\":{\"arrowcolor\":\"#2a3f5f\",\"arrowhead\":0,\"arrowwidth\":1},\"autotypenumbers\":\"strict\",\"coloraxis\":{\"colorbar\":{\"outlinewidth\":0,\"ticks\":\"\"}},\"colorscale\":{\"diverging\":[[0,\"#8e0152\"],[0.1,\"#c51b7d\"],[0.2,\"#de77ae\"],[0.3,\"#f1b6da\"],[0.4,\"#fde0ef\"],[0.5,\"#f7f7f7\"],[0.6,\"#e6f5d0\"],[0.7,\"#b8e186\"],[0.8,\"#7fbc41\"],[0.9,\"#4d9221\"],[1,\"#276419\"]],\"sequential\":[[0.0,\"#0d0887\"],[0.1111111111111111,\"#46039f\"],[0.2222222222222222,\"#7201a8\"],[0.3333333333333333,\"#9c179e\"],[0.4444444444444444,\"#bd3786\"],[0.5555555555555556,\"#d8576b\"],[0.6666666666666666,\"#ed7953\"],[0.7777777777777778,\"#fb9f3a\"],[0.8888888888888888,\"#fdca26\"],[1.0,\"#f0f921\"]],\"sequentialminus\":[[0.0,\"#0d0887\"],[0.1111111111111111,\"#46039f\"],[0.2222222222222222,\"#7201a8\"],[0.3333333333333333,\"#9c179e\"],[0.4444444444444444,\"#bd3786\"],[0.5555555555555556,\"#d8576b\"],[0.6666666666666666,\"#ed7953\"],[0.7777777777777778,\"#fb9f3a\"],[0.8888888888888888,\"#fdca26\"],[1.0,\"#f0f921\"]]},\"colorway\":[\"#636efa\",\"#EF553B\",\"#00cc96\",\"#ab63fa\",\"#FFA15A\",\"#19d3f3\",\"#FF6692\",\"#B6E880\",\"#FF97FF\",\"#FECB52\"],\"font\":{\"color\":\"#2a3f5f\"},\"geo\":{\"bgcolor\":\"white\",\"lakecolor\":\"white\",\"landcolor\":\"#E5ECF6\",\"showlakes\":true,\"showland\":true,\"subunitcolor\":\"white\"},\"hoverlabel\":{\"align\":\"left\"},\"hovermode\":\"closest\",\"mapbox\":{\"style\":\"light\"},\"paper_bgcolor\":\"white\",\"plot_bgcolor\":\"#E5ECF6\",\"polar\":{\"angularaxis\":{\"gridcolor\":\"white\",\"linecolor\":\"white\",\"ticks\":\"\"},\"bgcolor\":\"#E5ECF6\",\"radialaxis\":{\"gridcolor\":\"white\",\"linecolor\":\"white\",\"ticks\":\"\"}},\"scene\":{\"xaxis\":{\"backgroundcolor\":\"#E5ECF6\",\"gridcolor\":\"white\",\"gridwidth\":2,\"linecolor\":\"white\",\"showbackground\":true,\"ticks\":\"\",\"zerolinecolor\":\"white\"},\"yaxis\":{\"backgroundcolor\":\"#E5ECF6\",\"gridcolor\":\"white\",\"gridwidth\":2,\"linecolor\":\"white\",\"showbackground\":true,\"ticks\":\"\",\"zerolinecolor\":\"white\"},\"zaxis\":{\"backgroundcolor\":\"#E5ECF6\",\"gridcolor\":\"white\",\"gridwidth\":2,\"linecolor\":\"white\",\"showbackground\":true,\"ticks\":\"\",\"zerolinecolor\":\"white\"}},\"shapedefaults\":{\"line\":{\"color\":\"#2a3f5f\"}},\"ternary\":{\"aaxis\":{\"gridcolor\":\"white\",\"linecolor\":\"white\",\"ticks\":\"\"},\"baxis\":{\"gridcolor\":\"white\",\"linecolor\":\"white\",\"ticks\":\"\"},\"bgcolor\":\"#E5ECF6\",\"caxis\":{\"gridcolor\":\"white\",\"linecolor\":\"white\",\"ticks\":\"\"}},\"title\":{\"x\":0.05},\"xaxis\":{\"automargin\":true,\"gridcolor\":\"white\",\"linecolor\":\"white\",\"ticks\":\"\",\"title\":{\"standoff\":15},\"zerolinecolor\":\"white\",\"zerolinewidth\":2},\"yaxis\":{\"automargin\":true,\"gridcolor\":\"white\",\"linecolor\":\"white\",\"ticks\":\"\",\"title\":{\"standoff\":15},\"zerolinecolor\":\"white\",\"zerolinewidth\":2}}},\"xaxis\":{\"anchor\":\"y\",\"domain\":[0.0,1.0],\"title\":{\"text\":\"Product line\"}},\"yaxis\":{\"anchor\":\"x\",\"domain\":[0.0,1.0],\"title\":{\"text\":\"Sum of total\"}},\"legend\":{\"title\":{\"text\":\"City\"},\"tracegroupgap\":0},\"margin\":{\"t\":60},\"barmode\":\"group\",\"height\":400,\"title\":{\"font\":{\"size\":30},\"text\":\"Product sales by product line and by city\",\"x\":0.5},\"paper_bgcolor\":\"rgb(229, 237, 247)\",\"plot_bgcolor\":\"rgb(229, 237, 247)\"},                        {\"responsive\": true}                    ).then(function(){\n",
       "                            \n",
       "var gd = document.getElementById('89cea98b-76d5-4088-b1f7-9240e4182102');\n",
       "var x = new MutationObserver(function (mutations, observer) {{\n",
       "        var display = window.getComputedStyle(gd).display;\n",
       "        if (!display || display === 'none') {{\n",
       "            console.log([gd, 'removed!']);\n",
       "            Plotly.purge(gd);\n",
       "            observer.disconnect();\n",
       "        }}\n",
       "}});\n",
       "\n",
       "// Listen for the removal of the full notebook cells\n",
       "var notebookContainer = gd.closest('#notebook-container');\n",
       "if (notebookContainer) {{\n",
       "    x.observe(notebookContainer, {childList: true});\n",
       "}}\n",
       "\n",
       "// Listen for the clearing of the current output cell\n",
       "var outputEl = gd.closest('.output');\n",
       "if (outputEl) {{\n",
       "    x.observe(outputEl, {childList: true});\n",
       "}}\n",
       "\n",
       "                        })                };                });            </script>        </div>"
      ]
     },
     "metadata": {},
     "output_type": "display_data"
    }
   ],
   "source": [
    "fig = px.histogram(data, \n",
    "                   x=\"Product line\",\n",
    "                   y=\"Total\",\n",
    "                   color='City',\n",
    "                   barmode='group',\n",
    "                   histfunc='sum',\n",
    "                   color_discrete_sequence =['#f6d346','#35329b','#c16479']\n",
    ")\n",
    "\n",
    "fig.update_xaxes(title_text=\"Product line\")\n",
    "fig.update_yaxes(title_text=\"Sum of total\")\n",
    "\n",
    "fig.update_layout(template=\"plotly\", height=400)\n",
    "\n",
    "fig.update(\n",
    "    layout_title_text=\"Product sales by product line and by city\",\n",
    "    layout_title_font_size=30,\n",
    "    layout_title_x=0.5,\n",
    "    layout_paper_bgcolor='rgb(229, 237, 247)',\n",
    "    layout_plot_bgcolor='rgb(229, 237, 247)',\n",
    ")\n",
    "\n",
    "fig.show()"
   ]
  },
  {
   "cell_type": "markdown",
   "id": "a13f39d1",
   "metadata": {},
   "source": [
    "### Product according to the Gender : --"
   ]
  },
  {
   "cell_type": "code",
   "execution_count": 71,
   "id": "0ea56369",
   "metadata": {},
   "outputs": [
    {
     "data": {
      "application/vnd.plotly.v1+json": {
       "config": {
        "plotlyServerURL": "https://plot.ly"
       },
       "data": [
        {
         "alignmentgroup": "True",
         "bingroup": "x",
         "histfunc": "sum",
         "hovertemplate": "Gender=Female<br>Product line=%{x}<br>sum of Total=%{y}<extra></extra>",
         "legendgroup": "Female",
         "marker": {
          "color": "#f6d346",
          "pattern": {
           "shape": ""
          }
         },
         "name": "Female",
         "offsetgroup": "Female",
         "orientation": "v",
         "showlegend": true,
         "type": "histogram",
         "x": [
          "Health and beauty",
          "Electronic accessories",
          "Electronic accessories",
          "Home and lifestyle",
          "Health and beauty",
          "Food and beverages",
          "Fashion accessories",
          "Electronic accessories",
          "Health and beauty",
          "Sports and travel",
          "Health and beauty",
          "Home and lifestyle",
          "Home and lifestyle",
          "Fashion accessories",
          "Food and beverages",
          "Food and beverages",
          "Sports and travel",
          "Electronic accessories",
          "Health and beauty",
          "Home and lifestyle",
          "Sports and travel",
          "Food and beverages",
          "Electronic accessories",
          "Food and beverages",
          "Fashion accessories",
          "Food and beverages",
          "Fashion accessories",
          "Electronic accessories",
          "Home and lifestyle",
          "Sports and travel",
          "Sports and travel",
          "Health and beauty",
          "Fashion accessories",
          "Health and beauty",
          "Food and beverages",
          "Electronic accessories",
          "Electronic accessories",
          "Fashion accessories",
          "Food and beverages",
          "Health and beauty",
          "Health and beauty",
          "Food and beverages",
          "Food and beverages",
          "Sports and travel",
          "Health and beauty",
          "Home and lifestyle",
          "Sports and travel",
          "Sports and travel",
          "Electronic accessories",
          "Electronic accessories",
          "Food and beverages",
          "Sports and travel",
          "Health and beauty",
          "Fashion accessories",
          "Home and lifestyle",
          "Fashion accessories",
          "Food and beverages",
          "Electronic accessories",
          "Fashion accessories",
          "Home and lifestyle",
          "Sports and travel",
          "Fashion accessories",
          "Food and beverages",
          "Sports and travel",
          "Fashion accessories",
          "Sports and travel",
          "Sports and travel",
          "Health and beauty",
          "Electronic accessories",
          "Home and lifestyle",
          "Sports and travel",
          "Health and beauty",
          "Food and beverages",
          "Home and lifestyle",
          "Health and beauty",
          "Fashion accessories",
          "Fashion accessories",
          "Food and beverages",
          "Sports and travel",
          "Food and beverages",
          "Fashion accessories",
          "Sports and travel",
          "Home and lifestyle",
          "Home and lifestyle",
          "Home and lifestyle",
          "Fashion accessories",
          "Food and beverages",
          "Fashion accessories",
          "Home and lifestyle",
          "Food and beverages",
          "Sports and travel",
          "Electronic accessories",
          "Health and beauty",
          "Electronic accessories",
          "Home and lifestyle",
          "Fashion accessories",
          "Electronic accessories",
          "Food and beverages",
          "Sports and travel",
          "Sports and travel",
          "Electronic accessories",
          "Food and beverages",
          "Fashion accessories",
          "Sports and travel",
          "Electronic accessories",
          "Home and lifestyle",
          "Fashion accessories",
          "Electronic accessories",
          "Health and beauty",
          "Sports and travel",
          "Fashion accessories",
          "Electronic accessories",
          "Electronic accessories",
          "Sports and travel",
          "Electronic accessories",
          "Fashion accessories",
          "Fashion accessories",
          "Sports and travel",
          "Sports and travel",
          "Food and beverages",
          "Home and lifestyle",
          "Sports and travel",
          "Health and beauty",
          "Home and lifestyle",
          "Home and lifestyle",
          "Health and beauty",
          "Home and lifestyle",
          "Fashion accessories",
          "Home and lifestyle",
          "Sports and travel",
          "Health and beauty",
          "Sports and travel",
          "Food and beverages",
          "Home and lifestyle",
          "Electronic accessories",
          "Food and beverages",
          "Electronic accessories",
          "Home and lifestyle",
          "Electronic accessories",
          "Electronic accessories",
          "Sports and travel",
          "Home and lifestyle",
          "Electronic accessories",
          "Fashion accessories",
          "Food and beverages",
          "Health and beauty",
          "Electronic accessories",
          "Food and beverages",
          "Health and beauty",
          "Food and beverages",
          "Health and beauty",
          "Fashion accessories",
          "Electronic accessories",
          "Sports and travel",
          "Electronic accessories",
          "Food and beverages",
          "Health and beauty",
          "Health and beauty",
          "Food and beverages",
          "Fashion accessories",
          "Home and lifestyle",
          "Health and beauty",
          "Fashion accessories",
          "Fashion accessories",
          "Electronic accessories",
          "Food and beverages",
          "Fashion accessories",
          "Sports and travel",
          "Food and beverages",
          "Food and beverages",
          "Fashion accessories",
          "Electronic accessories",
          "Sports and travel",
          "Electronic accessories",
          "Fashion accessories",
          "Home and lifestyle",
          "Home and lifestyle",
          "Fashion accessories",
          "Home and lifestyle",
          "Electronic accessories",
          "Electronic accessories",
          "Food and beverages",
          "Food and beverages",
          "Food and beverages",
          "Health and beauty",
          "Fashion accessories",
          "Fashion accessories",
          "Fashion accessories",
          "Sports and travel",
          "Health and beauty",
          "Health and beauty",
          "Food and beverages",
          "Health and beauty",
          "Food and beverages",
          "Fashion accessories",
          "Fashion accessories",
          "Fashion accessories",
          "Home and lifestyle",
          "Fashion accessories",
          "Health and beauty",
          "Home and lifestyle",
          "Health and beauty",
          "Health and beauty",
          "Electronic accessories",
          "Food and beverages",
          "Electronic accessories",
          "Fashion accessories",
          "Food and beverages",
          "Home and lifestyle",
          "Electronic accessories",
          "Fashion accessories",
          "Electronic accessories",
          "Sports and travel",
          "Home and lifestyle",
          "Sports and travel",
          "Health and beauty",
          "Health and beauty",
          "Sports and travel",
          "Electronic accessories",
          "Food and beverages",
          "Fashion accessories",
          "Food and beverages",
          "Electronic accessories",
          "Food and beverages",
          "Sports and travel",
          "Food and beverages",
          "Sports and travel",
          "Health and beauty",
          "Electronic accessories",
          "Home and lifestyle",
          "Sports and travel",
          "Electronic accessories",
          "Sports and travel",
          "Electronic accessories",
          "Sports and travel",
          "Sports and travel",
          "Fashion accessories",
          "Home and lifestyle",
          "Fashion accessories",
          "Fashion accessories",
          "Health and beauty",
          "Home and lifestyle",
          "Electronic accessories",
          "Food and beverages",
          "Sports and travel",
          "Sports and travel",
          "Fashion accessories",
          "Sports and travel",
          "Sports and travel",
          "Food and beverages",
          "Home and lifestyle",
          "Sports and travel",
          "Home and lifestyle",
          "Fashion accessories",
          "Fashion accessories",
          "Electronic accessories",
          "Home and lifestyle",
          "Home and lifestyle",
          "Sports and travel",
          "Food and beverages",
          "Food and beverages",
          "Home and lifestyle",
          "Fashion accessories",
          "Fashion accessories",
          "Food and beverages",
          "Sports and travel",
          "Food and beverages",
          "Fashion accessories",
          "Sports and travel",
          "Electronic accessories",
          "Fashion accessories",
          "Health and beauty",
          "Fashion accessories",
          "Food and beverages",
          "Home and lifestyle",
          "Electronic accessories",
          "Food and beverages",
          "Sports and travel",
          "Fashion accessories",
          "Fashion accessories",
          "Sports and travel",
          "Home and lifestyle",
          "Health and beauty",
          "Health and beauty",
          "Fashion accessories",
          "Fashion accessories",
          "Food and beverages",
          "Sports and travel",
          "Home and lifestyle",
          "Sports and travel",
          "Sports and travel",
          "Sports and travel",
          "Fashion accessories",
          "Home and lifestyle",
          "Fashion accessories",
          "Sports and travel",
          "Fashion accessories",
          "Fashion accessories",
          "Food and beverages",
          "Electronic accessories",
          "Food and beverages",
          "Sports and travel",
          "Fashion accessories",
          "Food and beverages",
          "Food and beverages",
          "Home and lifestyle",
          "Fashion accessories",
          "Food and beverages",
          "Fashion accessories",
          "Electronic accessories",
          "Food and beverages",
          "Food and beverages",
          "Electronic accessories",
          "Food and beverages",
          "Sports and travel",
          "Health and beauty",
          "Electronic accessories",
          "Electronic accessories",
          "Fashion accessories",
          "Sports and travel",
          "Sports and travel",
          "Fashion accessories",
          "Food and beverages",
          "Sports and travel",
          "Fashion accessories",
          "Health and beauty",
          "Health and beauty",
          "Sports and travel",
          "Health and beauty",
          "Electronic accessories",
          "Sports and travel",
          "Food and beverages",
          "Electronic accessories",
          "Sports and travel",
          "Fashion accessories",
          "Sports and travel",
          "Home and lifestyle",
          "Sports and travel",
          "Food and beverages",
          "Sports and travel",
          "Fashion accessories",
          "Food and beverages",
          "Home and lifestyle",
          "Sports and travel",
          "Fashion accessories",
          "Fashion accessories",
          "Home and lifestyle",
          "Electronic accessories",
          "Home and lifestyle",
          "Electronic accessories",
          "Health and beauty",
          "Health and beauty",
          "Fashion accessories",
          "Fashion accessories",
          "Fashion accessories",
          "Sports and travel",
          "Food and beverages",
          "Health and beauty",
          "Home and lifestyle",
          "Fashion accessories",
          "Home and lifestyle",
          "Sports and travel",
          "Sports and travel",
          "Food and beverages",
          "Home and lifestyle",
          "Home and lifestyle",
          "Fashion accessories",
          "Food and beverages",
          "Electronic accessories",
          "Fashion accessories",
          "Fashion accessories",
          "Electronic accessories",
          "Home and lifestyle",
          "Food and beverages",
          "Food and beverages",
          "Fashion accessories",
          "Health and beauty",
          "Home and lifestyle",
          "Fashion accessories",
          "Electronic accessories",
          "Home and lifestyle",
          "Sports and travel",
          "Health and beauty",
          "Sports and travel",
          "Food and beverages",
          "Food and beverages",
          "Sports and travel",
          "Fashion accessories",
          "Home and lifestyle",
          "Health and beauty",
          "Health and beauty",
          "Home and lifestyle",
          "Electronic accessories",
          "Home and lifestyle",
          "Sports and travel",
          "Electronic accessories",
          "Fashion accessories",
          "Electronic accessories",
          "Home and lifestyle",
          "Sports and travel",
          "Electronic accessories",
          "Health and beauty",
          "Fashion accessories",
          "Electronic accessories",
          "Sports and travel",
          "Electronic accessories",
          "Food and beverages",
          "Fashion accessories",
          "Home and lifestyle",
          "Health and beauty",
          "Sports and travel",
          "Sports and travel",
          "Health and beauty",
          "Electronic accessories",
          "Sports and travel",
          "Home and lifestyle",
          "Sports and travel",
          "Sports and travel",
          "Food and beverages",
          "Sports and travel",
          "Food and beverages",
          "Fashion accessories",
          "Fashion accessories",
          "Electronic accessories",
          "Health and beauty",
          "Fashion accessories",
          "Home and lifestyle",
          "Food and beverages",
          "Home and lifestyle",
          "Home and lifestyle",
          "Home and lifestyle",
          "Electronic accessories",
          "Health and beauty",
          "Electronic accessories",
          "Electronic accessories",
          "Electronic accessories",
          "Food and beverages",
          "Fashion accessories",
          "Home and lifestyle",
          "Food and beverages",
          "Electronic accessories",
          "Fashion accessories",
          "Health and beauty",
          "Electronic accessories",
          "Fashion accessories",
          "Food and beverages",
          "Electronic accessories",
          "Health and beauty",
          "Health and beauty",
          "Home and lifestyle",
          "Health and beauty",
          "Food and beverages",
          "Home and lifestyle",
          "Food and beverages",
          "Electronic accessories",
          "Home and lifestyle",
          "Food and beverages",
          "Electronic accessories",
          "Fashion accessories",
          "Electronic accessories",
          "Home and lifestyle",
          "Home and lifestyle",
          "Home and lifestyle",
          "Sports and travel",
          "Sports and travel",
          "Electronic accessories",
          "Health and beauty",
          "Electronic accessories",
          "Fashion accessories",
          "Food and beverages",
          "Home and lifestyle",
          "Health and beauty",
          "Sports and travel",
          "Health and beauty",
          "Food and beverages",
          "Home and lifestyle",
          "Electronic accessories",
          "Food and beverages",
          "Home and lifestyle",
          "Food and beverages",
          "Food and beverages",
          "Fashion accessories",
          "Home and lifestyle",
          "Food and beverages",
          "Fashion accessories",
          "Electronic accessories",
          "Home and lifestyle",
          "Health and beauty",
          "Electronic accessories",
          "Food and beverages",
          "Food and beverages",
          "Electronic accessories",
          "Food and beverages",
          "Sports and travel",
          "Fashion accessories",
          "Health and beauty",
          "Food and beverages",
          "Sports and travel",
          "Electronic accessories",
          "Home and lifestyle",
          "Fashion accessories"
         ],
         "xaxis": "x",
         "y": [
          548.9715,
          80.22,
          433.692,
          772.38,
          76.146,
          172.746,
          60.816,
          246.4875,
          749.49,
          590.436,
          506.6355,
          84.63,
          441.756,
          184.107,
          463.89,
          417.564,
          71.526,
          575.316,
          461.328,
          91.056,
          435.456,
          829.08,
          394.632,
          189.0945,
          867.615,
          234.0975,
          75.054,
          722.232,
          759.675,
          77.931,
          520.4115,
          70.287,
          614.943,
          19.2465,
          152.838,
          478.233,
          437.325,
          189.0945,
          822.255,
          106.995,
          624.897,
          304.542,
          337.512,
          610.491,
          485.037,
          198.996,
          471.03,
          161.553,
          78.435,
          218.0115,
          321.111,
          34.629,
          309.3615,
          535.374,
          763.4655,
          85.113,
          115.08,
          836.304,
          474.348,
          688.6215,
          169.3125,
          299.8485,
          575.736,
          853.146,
          291.207,
          580.419,
          146.328,
          512.19,
          138.1275,
          216.846,
          942.9,
          720.3,
          31.9305,
          491.085,
          291.438,
          316.47,
          384.468,
          103.824,
          680.148,
          362.712,
          165.4485,
          90.699,
          793.716,
          293.202,
          242.676,
          154.392,
          829.71,
          78.0045,
          26.5545,
          374.7975,
          120.645,
          241.458,
          217.6335,
          629.8425,
          299.565,
          95.6655,
          942.4485,
          881.307,
          217.6335,
          130.0425,
          298.116,
          180.621,
          13.167,
          183.036,
          571.41,
          532.728,
          170.877,
          33.3585,
          794.6505,
          195.594,
          232.155,
          69.405,
          256.41,
          30.219,
          709.317,
          69.09,
          160.86,
          233.52,
          723.24,
          783.3,
          373.17,
          354.0075,
          44.352,
          203.553,
          25.263,
          628.173,
          229.11,
          400.764,
          587.664,
          16.107,
          200.214,
          224.4375,
          356.5485,
          697.368,
          65.604,
          76.356,
          272.58,
          93.0405,
          214.998,
          125.664,
          295.6905,
          745.836,
          83.412,
          172.011,
          74.7075,
          146.9475,
          820.365,
          66.402,
          218.0745,
          216.6885,
          41.391,
          324.2925,
          149.3625,
          365.085,
          150.0975,
          404.649,
          411.3795,
          565.215,
          509.4075,
          736.4385,
          749.7,
          141.75,
          1042.65,
          402.2655,
          31.752,
          374.388,
          394.275,
          1002.12,
          793.548,
          173.208,
          343.056,
          484.974,
          150.78,
          193.011,
          128.016,
          441.693,
          352.2225,
          507.675,
          334.341,
          99.33,
          55.881,
          523.3725,
          314.538,
          214.935,
          339.36,
          510.9615,
          253.512,
          398.475,
          548.73,
          83.727,
          406.875,
          284.9175,
          258.678,
          248.409,
          208.6875,
          718.7565,
          288.582,
          237.426,
          125.055,
          359.205,
          190.596,
          85.5855,
          120.162,
          185.367,
          121.59,
          264.7575,
          1020.705,
          65.7405,
          951.825,
          147.798,
          49.812,
          343.224,
          742.812,
          843.0345,
          140.385,
          20.1075,
          28.4235,
          41.076,
          470.673,
          333.9525,
          155.19,
          731.43,
          488.985,
          767.025,
          310.59,
          23.751,
          572.775,
          273.0525,
          103.782,
          527.751,
          168.21,
          338.31,
          174.615,
          344.4,
          388.29,
          207.858,
          431.445,
          734.076,
          72.87,
          206.43,
          212.688,
          127.26,
          132.762,
          568.512,
          103.0365,
          432.768,
          33.495,
          195.951,
          152.775,
          529.515,
          100.485,
          666.939,
          225.2775,
          398.958,
          54.0435,
          143.9865,
          523.971,
          235.872,
          479.9025,
          570.78,
          154.1295,
          148.68,
          77.658,
          306.81,
          551.124,
          84.756,
          74.76,
          308.91,
          270.585,
          416.178,
          513.2295,
          550.368,
          151.284,
          1034.46,
          228.123,
          356.328,
          852.705,
          517.965,
          621.243,
          586.971,
          543.753,
          430.71,
          269.934,
          326.256,
          195.258,
          75.936,
          164.871,
          226.065,
          178.164,
          47.859,
          236.88,
          440.937,
          193.4625,
          147.672,
          68.2395,
          343.413,
          381.3915,
          394.3275,
          209.118,
          30.408,
          935.2665,
          365.904,
          273.798,
          225.792,
          96.1905,
          695.2365,
          874.125,
          165.648,
          12.6945,
          48.51,
          92.5575,
          311.1885,
          743.82,
          609.168,
          32.529,
          351.603,
          49.4235,
          104.6745,
          277.6725,
          146.6325,
          135.3555,
          370.125,
          914.55,
          207.48,
          204.246,
          75.474,
          300.573,
          85.302,
          231.2415,
          477.54,
          470.988,
          308.574,
          41.454,
          36.5505,
          310.716,
          145.404,
          103.11,
          136.143,
          211.365,
          663.2955,
          539.343,
          497.07,
          458.6925,
          113.568,
          507.444,
          207.585,
          835.2855,
          180.6,
          317.226,
          733.6035,
          130.8825,
          187.32,
          525.231,
          110.124,
          187.866,
          856.4535,
          270.2595,
          239.4,
          383.523,
          93.744,
          596.82,
          150.423,
          266.028,
          40.341,
          55.2825,
          116.1405,
          93.744,
          143.22,
          182.91,
          267.3405,
          817.236,
          300.216,
          608.076,
          232.638,
          810.6,
          536.592,
          56.1225,
          801.864,
          239.589,
          401.688,
          72.009,
          401.268,
          631.1445,
          499.7265,
          55.041,
          151.515,
          397.992,
          32.151,
          369.684,
          53.34,
          57.6975,
          1022.385,
          97.881,
          63.9135,
          257.145,
          253.68,
          462.672,
          714.3255,
          325.374,
          195.678,
          210.966,
          18.6375,
          652.89,
          422.73,
          341.0925,
          408.408,
          446.964,
          333.984,
          100.128,
          216.4365,
          441.588,
          92.442,
          681.4395,
          779.31,
          99.54,
          299.3655,
          184.086,
          82.887,
          31.227,
          23.499,
          688.716,
          624.33,
          206.808,
          554.295,
          503.7375,
          345.0195,
          118.902,
          450.1035,
          90.5835,
          106.596,
          375.3645,
          250.7085,
          131.922,
          225.015,
          756.168,
          101.64,
          348.705,
          85.512,
          216.846,
          175.014,
          771.435,
          102.396,
          439.215,
          486.444,
          485.5725,
          297.801,
          423.738,
          145.5825,
          122.472,
          329.196,
          435.12,
          167.034,
          514.605,
          91.8225,
          235.746,
          782.208,
          313.74,
          223.587,
          397.614,
          82.719,
          338.2155,
          103.131,
          26.733,
          611.079,
          221.886,
          57.876,
          374.409,
          833.9625,
          175.035,
          781.62,
          397.845,
          579.8415,
          469.77,
          290.0835,
          360.927,
          479.64,
          690.018,
          222.012,
          68.985,
          263.97,
          88.368,
          312.8895,
          165.9,
          932.337,
          16.275,
          80.367,
          314.685,
          49.77,
          181.0725,
          888.615,
          313.572,
          26.7225,
          71.1585,
          921.186,
          334.4775,
          30.996,
          296.94,
          804.3,
          63.9975,
          1022.49,
          649.299
         ],
         "yaxis": "y"
        },
        {
         "alignmentgroup": "True",
         "bingroup": "x",
         "histfunc": "sum",
         "hovertemplate": "Gender=Male<br>Product line=%{x}<br>sum of Total=%{y}<extra></extra>",
         "legendgroup": "Male",
         "marker": {
          "color": "#35329b",
          "pattern": {
           "shape": ""
          }
         },
         "name": "Male",
         "offsetgroup": "Male",
         "orientation": "v",
         "showlegend": true,
         "type": "histogram",
         "x": [
          "Home and lifestyle",
          "Health and beauty",
          "Sports and travel",
          "Electronic accessories",
          "Electronic accessories",
          "Food and beverages",
          "Sports and travel",
          "Food and beverages",
          "Electronic accessories",
          "Health and beauty",
          "Home and lifestyle",
          "Electronic accessories",
          "Sports and travel",
          "Fashion accessories",
          "Health and beauty",
          "Fashion accessories",
          "Sports and travel",
          "Sports and travel",
          "Health and beauty",
          "Sports and travel",
          "Home and lifestyle",
          "Home and lifestyle",
          "Health and beauty",
          "Health and beauty",
          "Electronic accessories",
          "Food and beverages",
          "Fashion accessories",
          "Home and lifestyle",
          "Home and lifestyle",
          "Health and beauty",
          "Electronic accessories",
          "Home and lifestyle",
          "Sports and travel",
          "Health and beauty",
          "Health and beauty",
          "Sports and travel",
          "Food and beverages",
          "Fashion accessories",
          "Home and lifestyle",
          "Fashion accessories",
          "Food and beverages",
          "Sports and travel",
          "Fashion accessories",
          "Food and beverages",
          "Sports and travel",
          "Health and beauty",
          "Health and beauty",
          "Electronic accessories",
          "Health and beauty",
          "Food and beverages",
          "Home and lifestyle",
          "Fashion accessories",
          "Fashion accessories",
          "Food and beverages",
          "Health and beauty",
          "Electronic accessories",
          "Fashion accessories",
          "Sports and travel",
          "Electronic accessories",
          "Home and lifestyle",
          "Fashion accessories",
          "Fashion accessories",
          "Home and lifestyle",
          "Sports and travel",
          "Sports and travel",
          "Home and lifestyle",
          "Electronic accessories",
          "Fashion accessories",
          "Sports and travel",
          "Sports and travel",
          "Health and beauty",
          "Health and beauty",
          "Home and lifestyle",
          "Health and beauty",
          "Sports and travel",
          "Fashion accessories",
          "Food and beverages",
          "Electronic accessories",
          "Home and lifestyle",
          "Health and beauty",
          "Sports and travel",
          "Sports and travel",
          "Food and beverages",
          "Sports and travel",
          "Food and beverages",
          "Health and beauty",
          "Home and lifestyle",
          "Fashion accessories",
          "Food and beverages",
          "Sports and travel",
          "Health and beauty",
          "Food and beverages",
          "Electronic accessories",
          "Electronic accessories",
          "Food and beverages",
          "Home and lifestyle",
          "Food and beverages",
          "Food and beverages",
          "Health and beauty",
          "Fashion accessories",
          "Food and beverages",
          "Sports and travel",
          "Health and beauty",
          "Food and beverages",
          "Home and lifestyle",
          "Home and lifestyle",
          "Home and lifestyle",
          "Electronic accessories",
          "Health and beauty",
          "Health and beauty",
          "Electronic accessories",
          "Health and beauty",
          "Home and lifestyle",
          "Electronic accessories",
          "Home and lifestyle",
          "Sports and travel",
          "Home and lifestyle",
          "Fashion accessories",
          "Electronic accessories",
          "Food and beverages",
          "Electronic accessories",
          "Food and beverages",
          "Health and beauty",
          "Electronic accessories",
          "Fashion accessories",
          "Health and beauty",
          "Health and beauty",
          "Fashion accessories",
          "Food and beverages",
          "Health and beauty",
          "Fashion accessories",
          "Home and lifestyle",
          "Home and lifestyle",
          "Home and lifestyle",
          "Fashion accessories",
          "Electronic accessories",
          "Food and beverages",
          "Food and beverages",
          "Fashion accessories",
          "Home and lifestyle",
          "Home and lifestyle",
          "Fashion accessories",
          "Electronic accessories",
          "Home and lifestyle",
          "Electronic accessories",
          "Electronic accessories",
          "Sports and travel",
          "Home and lifestyle",
          "Home and lifestyle",
          "Fashion accessories",
          "Fashion accessories",
          "Sports and travel",
          "Home and lifestyle",
          "Health and beauty",
          "Health and beauty",
          "Home and lifestyle",
          "Electronic accessories",
          "Electronic accessories",
          "Health and beauty",
          "Electronic accessories",
          "Home and lifestyle",
          "Home and lifestyle",
          "Fashion accessories",
          "Health and beauty",
          "Food and beverages",
          "Electronic accessories",
          "Sports and travel",
          "Fashion accessories",
          "Food and beverages",
          "Electronic accessories",
          "Health and beauty",
          "Health and beauty",
          "Home and lifestyle",
          "Sports and travel",
          "Food and beverages",
          "Food and beverages",
          "Health and beauty",
          "Electronic accessories",
          "Home and lifestyle",
          "Food and beverages",
          "Fashion accessories",
          "Food and beverages",
          "Sports and travel",
          "Fashion accessories",
          "Electronic accessories",
          "Sports and travel",
          "Electronic accessories",
          "Electronic accessories",
          "Electronic accessories",
          "Home and lifestyle",
          "Electronic accessories",
          "Sports and travel",
          "Food and beverages",
          "Food and beverages",
          "Home and lifestyle",
          "Home and lifestyle",
          "Electronic accessories",
          "Fashion accessories",
          "Sports and travel",
          "Fashion accessories",
          "Sports and travel",
          "Sports and travel",
          "Food and beverages",
          "Food and beverages",
          "Electronic accessories",
          "Home and lifestyle",
          "Electronic accessories",
          "Home and lifestyle",
          "Home and lifestyle",
          "Sports and travel",
          "Food and beverages",
          "Sports and travel",
          "Health and beauty",
          "Sports and travel",
          "Home and lifestyle",
          "Health and beauty",
          "Fashion accessories",
          "Fashion accessories",
          "Fashion accessories",
          "Health and beauty",
          "Sports and travel",
          "Fashion accessories",
          "Food and beverages",
          "Fashion accessories",
          "Sports and travel",
          "Sports and travel",
          "Home and lifestyle",
          "Food and beverages",
          "Food and beverages",
          "Fashion accessories",
          "Food and beverages",
          "Fashion accessories",
          "Electronic accessories",
          "Health and beauty",
          "Electronic accessories",
          "Electronic accessories",
          "Food and beverages",
          "Food and beverages",
          "Food and beverages",
          "Sports and travel",
          "Food and beverages",
          "Fashion accessories",
          "Health and beauty",
          "Health and beauty",
          "Electronic accessories",
          "Sports and travel",
          "Electronic accessories",
          "Food and beverages",
          "Sports and travel",
          "Home and lifestyle",
          "Fashion accessories",
          "Home and lifestyle",
          "Fashion accessories",
          "Sports and travel",
          "Sports and travel",
          "Home and lifestyle",
          "Sports and travel",
          "Electronic accessories",
          "Health and beauty",
          "Electronic accessories",
          "Sports and travel",
          "Health and beauty",
          "Home and lifestyle",
          "Home and lifestyle",
          "Sports and travel",
          "Health and beauty",
          "Food and beverages",
          "Fashion accessories",
          "Fashion accessories",
          "Sports and travel",
          "Health and beauty",
          "Fashion accessories",
          "Electronic accessories",
          "Home and lifestyle",
          "Home and lifestyle",
          "Home and lifestyle",
          "Health and beauty",
          "Electronic accessories",
          "Home and lifestyle",
          "Sports and travel",
          "Fashion accessories",
          "Electronic accessories",
          "Electronic accessories",
          "Home and lifestyle",
          "Food and beverages",
          "Electronic accessories",
          "Food and beverages",
          "Electronic accessories",
          "Fashion accessories",
          "Sports and travel",
          "Food and beverages",
          "Food and beverages",
          "Sports and travel",
          "Fashion accessories",
          "Food and beverages",
          "Food and beverages",
          "Health and beauty",
          "Food and beverages",
          "Sports and travel",
          "Health and beauty",
          "Fashion accessories",
          "Health and beauty",
          "Health and beauty",
          "Sports and travel",
          "Health and beauty",
          "Food and beverages",
          "Electronic accessories",
          "Food and beverages",
          "Home and lifestyle",
          "Fashion accessories",
          "Food and beverages",
          "Fashion accessories",
          "Sports and travel",
          "Food and beverages",
          "Sports and travel",
          "Electronic accessories",
          "Food and beverages",
          "Fashion accessories",
          "Sports and travel",
          "Health and beauty",
          "Home and lifestyle",
          "Sports and travel",
          "Electronic accessories",
          "Food and beverages",
          "Home and lifestyle",
          "Food and beverages",
          "Health and beauty",
          "Health and beauty",
          "Fashion accessories",
          "Electronic accessories",
          "Electronic accessories",
          "Home and lifestyle",
          "Health and beauty",
          "Fashion accessories",
          "Electronic accessories",
          "Electronic accessories",
          "Home and lifestyle",
          "Sports and travel",
          "Fashion accessories",
          "Fashion accessories",
          "Sports and travel",
          "Food and beverages",
          "Fashion accessories",
          "Food and beverages",
          "Health and beauty",
          "Fashion accessories",
          "Health and beauty",
          "Food and beverages",
          "Fashion accessories",
          "Home and lifestyle",
          "Sports and travel",
          "Food and beverages",
          "Health and beauty",
          "Home and lifestyle",
          "Electronic accessories",
          "Home and lifestyle",
          "Food and beverages",
          "Health and beauty",
          "Health and beauty",
          "Food and beverages",
          "Fashion accessories",
          "Sports and travel",
          "Food and beverages",
          "Fashion accessories",
          "Electronic accessories",
          "Fashion accessories",
          "Home and lifestyle",
          "Food and beverages",
          "Home and lifestyle",
          "Sports and travel",
          "Fashion accessories",
          "Health and beauty",
          "Fashion accessories",
          "Electronic accessories",
          "Food and beverages",
          "Health and beauty",
          "Electronic accessories",
          "Electronic accessories",
          "Home and lifestyle",
          "Home and lifestyle",
          "Food and beverages",
          "Home and lifestyle",
          "Fashion accessories",
          "Health and beauty",
          "Home and lifestyle",
          "Food and beverages",
          "Electronic accessories",
          "Health and beauty",
          "Sports and travel",
          "Food and beverages",
          "Health and beauty",
          "Sports and travel",
          "Sports and travel",
          "Electronic accessories",
          "Health and beauty",
          "Electronic accessories",
          "Electronic accessories",
          "Health and beauty",
          "Sports and travel",
          "Fashion accessories",
          "Health and beauty",
          "Electronic accessories",
          "Fashion accessories",
          "Health and beauty",
          "Home and lifestyle",
          "Sports and travel",
          "Fashion accessories",
          "Health and beauty",
          "Electronic accessories",
          "Food and beverages",
          "Health and beauty",
          "Food and beverages",
          "Electronic accessories",
          "Sports and travel",
          "Fashion accessories",
          "Electronic accessories",
          "Electronic accessories",
          "Health and beauty",
          "Health and beauty",
          "Fashion accessories",
          "Fashion accessories",
          "Sports and travel",
          "Electronic accessories",
          "Fashion accessories",
          "Electronic accessories",
          "Fashion accessories",
          "Electronic accessories",
          "Electronic accessories",
          "Fashion accessories",
          "Health and beauty",
          "Food and beverages",
          "Health and beauty",
          "Sports and travel",
          "Health and beauty",
          "Sports and travel",
          "Food and beverages",
          "Sports and travel",
          "Food and beverages",
          "Fashion accessories",
          "Sports and travel",
          "Home and lifestyle",
          "Home and lifestyle",
          "Fashion accessories",
          "Electronic accessories",
          "Sports and travel",
          "Sports and travel",
          "Food and beverages",
          "Sports and travel",
          "Electronic accessories",
          "Electronic accessories",
          "Health and beauty",
          "Fashion accessories",
          "Health and beauty",
          "Food and beverages",
          "Home and lifestyle",
          "Food and beverages",
          "Health and beauty",
          "Fashion accessories",
          "Sports and travel",
          "Home and lifestyle",
          "Sports and travel",
          "Sports and travel",
          "Home and lifestyle",
          "Health and beauty",
          "Home and lifestyle",
          "Food and beverages",
          "Fashion accessories",
          "Health and beauty",
          "Health and beauty",
          "Electronic accessories",
          "Fashion accessories",
          "Home and lifestyle",
          "Health and beauty",
          "Home and lifestyle",
          "Food and beverages",
          "Electronic accessories",
          "Fashion accessories",
          "Electronic accessories",
          "Electronic accessories",
          "Food and beverages",
          "Home and lifestyle",
          "Home and lifestyle",
          "Electronic accessories",
          "Home and lifestyle",
          "Fashion accessories",
          "Fashion accessories",
          "Food and beverages",
          "Food and beverages",
          "Health and beauty",
          "Health and beauty",
          "Electronic accessories",
          "Health and beauty",
          "Electronic accessories",
          "Health and beauty",
          "Electronic accessories",
          "Fashion accessories",
          "Health and beauty",
          "Food and beverages",
          "Home and lifestyle"
         ],
         "xaxis": "x",
         "y": [
          340.5255,
          489.048,
          634.3785,
          627.6165,
          107.142,
          453.495,
          457.443,
          172.2105,
          451.71,
          277.137,
          69.72,
          181.44,
          279.1845,
          35.196,
          235.2105,
          494.1825,
          737.7615,
          703.752,
          202.818,
          328.755,
          253.008,
          117.831,
          32.277,
          535.7205,
          119.259,
          671.79,
          16.2015,
          33.936,
          93.114,
          752.64,
          192.843,
          351.099,
          166.005,
          318.108,
          166.635,
          827.085,
          939.54,
          652.26,
          705.6315,
          463.428,
          161.7,
          256.7775,
          401.73,
          362.943,
          44.5935,
          608.202,
          94.2375,
          102.018,
          922.635,
          166.1625,
          521.01,
          51.1455,
          742.2975,
          367.038,
          223.0725,
          931.035,
          172.494,
          391.419,
          860.685,
          548.7615,
          115.185,
          53.928,
          112.224,
          419.832,
          944.622,
          536.844,
          550.935,
          284.193,
          545.055,
          609,
          950.25,
          277.788,
          603.624,
          272.664,
          254.016,
          786.618,
          484.5225,
          75.7785,
          263.97,
          918.729,
          588.357,
          66.8745,
          336.5565,
          160.44,
          418.95,
          357.588,
          1003.59,
          1039.29,
          323.064,
          510.972,
          367.5525,
          420.2625,
          175.14,
          333.207,
          166.236,
          319.788,
          186.228,
          465.444,
          273.42,
          472.311,
          323.148,
          162.75,
          288.204,
          56.952,
          195.174,
          77.7735,
          107.31,
          171.7275,
          91.77,
          174.3,
          451.3635,
          271.95,
          93.2925,
          247.8735,
          484.89,
          146.223,
          19.194,
          796.908,
          285.705,
          456.288,
          62.0025,
          90.825,
          655.5465,
          155.652,
          310.044,
          545.37,
          91.4025,
          94.1745,
          235.683,
          125.517,
          195.72,
          263.13,
          788.508,
          399.756,
          94.185,
          326.424,
          536.991,
          439.8975,
          369.495,
          99.75,
          494.76,
          137.004,
          69.6675,
          163.233,
          135.45,
          276.948,
          57.1725,
          148.974,
          297.108,
          352.5795,
          745.395,
          462.21,
          38.85,
          628.929,
          350.07,
          78.603,
          423.15,
          204.6975,
          190.155,
          121.128,
          493.794,
          252.042,
          209.622,
          40.9605,
          51.0405,
          530.67,
          503.559,
          145.593,
          208.677,
          392.6475,
          185.094,
          96.138,
          135.576,
          410.508,
          523.845,
          395.892,
          214.746,
          152.712,
          208.089,
          103.635,
          404.355,
          49.308,
          77.175,
          721.98,
          151.4835,
          140.6475,
          75.5475,
          191.247,
          379.9215,
          255.15,
          86.625,
          78.7185,
          680.064,
          209.559,
          461.286,
          276.948,
          203.175,
          265.104,
          701.8515,
          407.316,
          345.786,
          79.611,
          294.651,
          133.917,
          80.661,
          128.4255,
          181.818,
          194.124,
          14.679,
          282.492,
          72.3975,
          45.927,
          110.0925,
          81.396,
          427.812,
          100.9155,
          213.528,
          17.094,
          383.7645,
          390.7995,
          353.1675,
          145.068,
          90.867,
          702.219,
          937.818,
          348.306,
          214.137,
          71.568,
          91.56,
          13.419,
          290.43,
          144.081,
          138.663,
          26.25,
          87.234,
          833.595,
          37.6845,
          212.73,
          269.535,
          233.226,
          22.659,
          452.865,
          609.588,
          205.317,
          353.094,
          360.885,
          40.53,
          554.148,
          194.985,
          633.99,
          156.03,
          24.108,
          209.769,
          637.728,
          77.6685,
          145.74,
          92.8725,
          203.112,
          321.7725,
          731.6925,
          429.1665,
          288.015,
          206.7975,
          72.933,
          377.58,
          132.027,
          514.773,
          164.682,
          125.706,
          926.9505,
          160.209,
          728.112,
          240.975,
          122.5245,
          102.837,
          96.642,
          79.674,
          118.251,
          163.002,
          575.9775,
          180.4005,
          139.923,
          142.002,
          118.062,
          262.458,
          203.931,
          936.6,
          469.413,
          208.425,
          280.035,
          74.4555,
          152.019,
          451.0275,
          597.6285,
          253.26,
          133.434,
          145.971,
          85.743,
          198.639,
          217.182,
          625.905,
          76.755,
          293.139,
          304.92,
          46.683,
          164.43,
          87.234,
          814.38,
          133.35,
          32.1405,
          121.569,
          293.643,
          84.9765,
          708.225,
          457.38,
          461.5275,
          620.739,
          95.9175,
          127.827,
          867.09,
          167.895,
          673.995,
          246.6765,
          175.917,
          314.055,
          251.7165,
          697.935,
          212.7825,
          165.123,
          116.907,
          63.2625,
          182.952,
          442.323,
          35.3115,
          259.77,
          397.215,
          764.19,
          352.674,
          252.756,
          58.2225,
          125.979,
          181.881,
          588.42,
          196.14,
          282.576,
          175.917,
          618.975,
          305.55,
          45.108,
          667.38,
          153.048,
          404.544,
          510.615,
          261.198,
          657.531,
          1023.75,
          101.808,
          760.4415,
          527.5095,
          72.429,
          131.208,
          80.955,
          507.906,
          829.08,
          37.611,
          142.947,
          138.978,
          98.028,
          175.0455,
          732.27,
          408.492,
          176.4,
          20.685,
          557.718,
          56.406,
          860.475,
          616.98,
          769.104,
          887.922,
          408.7335,
          89.0715,
          79.149,
          684.915,
          597.0405,
          384.72,
          197.925,
          757.365,
          233.1,
          86.247,
          137.865,
          480.0285,
          98.049,
          132.5625,
          830.3715,
          183.12,
          548.163,
          603.876,
          190.4805,
          432.9885,
          48.7305,
          287.91,
          680.61,
          57.078,
          97.419,
          455.1225,
          144.963,
          495.3165,
          90.3,
          99.9075,
          284.592,
          403.872,
          247.59,
          222.138,
          10.6785,
          130.032,
          681.975,
          88.704,
          262.794,
          95.865,
          54.999,
          202.335,
          281.169,
          586.635,
          163.611,
          63.315,
          22.386,
          295.407,
          76.923,
          77.805,
          390.9465,
          177.408,
          362.817,
          26.796,
          106.5015,
          760.452,
          76.5765,
          271.278,
          182.427,
          59.325,
          561.078,
          97.818,
          548.184,
          54.9675,
          41.7375,
          335.895,
          335.013,
          92.295,
          807.66,
          148.995,
          317.835,
          832.944,
          446.439,
          629.16,
          331.128,
          193.074,
          84.7455,
          888.405,
          431.256,
          44.9925,
          217.2555,
          92.7255,
          53.151,
          629.496,
          470.988,
          270.018,
          279.384,
          943.299,
          266.6475,
          74.088,
          176.925,
          56.469,
          188.0025,
          125.7165,
          415.233,
          477.1305,
          289.926,
          96.579,
          43.869,
          304.983,
          69.993,
          255.1815,
          271.2885,
          640.038,
          252.252,
          180.873,
          104.832,
          167.58,
          250.278,
          244.23,
          734.706,
          708.3195,
          520.8,
          864.57,
          633.108,
          121.863,
          183.645,
          42.3675,
          33.432,
          69.111
         ],
         "yaxis": "y"
        }
       ],
       "layout": {
        "barmode": "group",
        "height": 400,
        "legend": {
         "title": {
          "text": "Gender"
         },
         "tracegroupgap": 0
        },
        "margin": {
         "t": 60
        },
        "paper_bgcolor": "rgb(229, 237, 247)",
        "plot_bgcolor": "rgb(229, 237, 247)",
        "template": {
         "data": {
          "bar": [
           {
            "error_x": {
             "color": "#2a3f5f"
            },
            "error_y": {
             "color": "#2a3f5f"
            },
            "marker": {
             "line": {
              "color": "#E5ECF6",
              "width": 0.5
             },
             "pattern": {
              "fillmode": "overlay",
              "size": 10,
              "solidity": 0.2
             }
            },
            "type": "bar"
           }
          ],
          "barpolar": [
           {
            "marker": {
             "line": {
              "color": "#E5ECF6",
              "width": 0.5
             },
             "pattern": {
              "fillmode": "overlay",
              "size": 10,
              "solidity": 0.2
             }
            },
            "type": "barpolar"
           }
          ],
          "carpet": [
           {
            "aaxis": {
             "endlinecolor": "#2a3f5f",
             "gridcolor": "white",
             "linecolor": "white",
             "minorgridcolor": "white",
             "startlinecolor": "#2a3f5f"
            },
            "baxis": {
             "endlinecolor": "#2a3f5f",
             "gridcolor": "white",
             "linecolor": "white",
             "minorgridcolor": "white",
             "startlinecolor": "#2a3f5f"
            },
            "type": "carpet"
           }
          ],
          "choropleth": [
           {
            "colorbar": {
             "outlinewidth": 0,
             "ticks": ""
            },
            "type": "choropleth"
           }
          ],
          "contour": [
           {
            "colorbar": {
             "outlinewidth": 0,
             "ticks": ""
            },
            "colorscale": [
             [
              0,
              "#0d0887"
             ],
             [
              0.1111111111111111,
              "#46039f"
             ],
             [
              0.2222222222222222,
              "#7201a8"
             ],
             [
              0.3333333333333333,
              "#9c179e"
             ],
             [
              0.4444444444444444,
              "#bd3786"
             ],
             [
              0.5555555555555556,
              "#d8576b"
             ],
             [
              0.6666666666666666,
              "#ed7953"
             ],
             [
              0.7777777777777778,
              "#fb9f3a"
             ],
             [
              0.8888888888888888,
              "#fdca26"
             ],
             [
              1,
              "#f0f921"
             ]
            ],
            "type": "contour"
           }
          ],
          "contourcarpet": [
           {
            "colorbar": {
             "outlinewidth": 0,
             "ticks": ""
            },
            "type": "contourcarpet"
           }
          ],
          "heatmap": [
           {
            "colorbar": {
             "outlinewidth": 0,
             "ticks": ""
            },
            "colorscale": [
             [
              0,
              "#0d0887"
             ],
             [
              0.1111111111111111,
              "#46039f"
             ],
             [
              0.2222222222222222,
              "#7201a8"
             ],
             [
              0.3333333333333333,
              "#9c179e"
             ],
             [
              0.4444444444444444,
              "#bd3786"
             ],
             [
              0.5555555555555556,
              "#d8576b"
             ],
             [
              0.6666666666666666,
              "#ed7953"
             ],
             [
              0.7777777777777778,
              "#fb9f3a"
             ],
             [
              0.8888888888888888,
              "#fdca26"
             ],
             [
              1,
              "#f0f921"
             ]
            ],
            "type": "heatmap"
           }
          ],
          "heatmapgl": [
           {
            "colorbar": {
             "outlinewidth": 0,
             "ticks": ""
            },
            "colorscale": [
             [
              0,
              "#0d0887"
             ],
             [
              0.1111111111111111,
              "#46039f"
             ],
             [
              0.2222222222222222,
              "#7201a8"
             ],
             [
              0.3333333333333333,
              "#9c179e"
             ],
             [
              0.4444444444444444,
              "#bd3786"
             ],
             [
              0.5555555555555556,
              "#d8576b"
             ],
             [
              0.6666666666666666,
              "#ed7953"
             ],
             [
              0.7777777777777778,
              "#fb9f3a"
             ],
             [
              0.8888888888888888,
              "#fdca26"
             ],
             [
              1,
              "#f0f921"
             ]
            ],
            "type": "heatmapgl"
           }
          ],
          "histogram": [
           {
            "marker": {
             "pattern": {
              "fillmode": "overlay",
              "size": 10,
              "solidity": 0.2
             }
            },
            "type": "histogram"
           }
          ],
          "histogram2d": [
           {
            "colorbar": {
             "outlinewidth": 0,
             "ticks": ""
            },
            "colorscale": [
             [
              0,
              "#0d0887"
             ],
             [
              0.1111111111111111,
              "#46039f"
             ],
             [
              0.2222222222222222,
              "#7201a8"
             ],
             [
              0.3333333333333333,
              "#9c179e"
             ],
             [
              0.4444444444444444,
              "#bd3786"
             ],
             [
              0.5555555555555556,
              "#d8576b"
             ],
             [
              0.6666666666666666,
              "#ed7953"
             ],
             [
              0.7777777777777778,
              "#fb9f3a"
             ],
             [
              0.8888888888888888,
              "#fdca26"
             ],
             [
              1,
              "#f0f921"
             ]
            ],
            "type": "histogram2d"
           }
          ],
          "histogram2dcontour": [
           {
            "colorbar": {
             "outlinewidth": 0,
             "ticks": ""
            },
            "colorscale": [
             [
              0,
              "#0d0887"
             ],
             [
              0.1111111111111111,
              "#46039f"
             ],
             [
              0.2222222222222222,
              "#7201a8"
             ],
             [
              0.3333333333333333,
              "#9c179e"
             ],
             [
              0.4444444444444444,
              "#bd3786"
             ],
             [
              0.5555555555555556,
              "#d8576b"
             ],
             [
              0.6666666666666666,
              "#ed7953"
             ],
             [
              0.7777777777777778,
              "#fb9f3a"
             ],
             [
              0.8888888888888888,
              "#fdca26"
             ],
             [
              1,
              "#f0f921"
             ]
            ],
            "type": "histogram2dcontour"
           }
          ],
          "mesh3d": [
           {
            "colorbar": {
             "outlinewidth": 0,
             "ticks": ""
            },
            "type": "mesh3d"
           }
          ],
          "parcoords": [
           {
            "line": {
             "colorbar": {
              "outlinewidth": 0,
              "ticks": ""
             }
            },
            "type": "parcoords"
           }
          ],
          "pie": [
           {
            "automargin": true,
            "type": "pie"
           }
          ],
          "scatter": [
           {
            "marker": {
             "colorbar": {
              "outlinewidth": 0,
              "ticks": ""
             }
            },
            "type": "scatter"
           }
          ],
          "scatter3d": [
           {
            "line": {
             "colorbar": {
              "outlinewidth": 0,
              "ticks": ""
             }
            },
            "marker": {
             "colorbar": {
              "outlinewidth": 0,
              "ticks": ""
             }
            },
            "type": "scatter3d"
           }
          ],
          "scattercarpet": [
           {
            "marker": {
             "colorbar": {
              "outlinewidth": 0,
              "ticks": ""
             }
            },
            "type": "scattercarpet"
           }
          ],
          "scattergeo": [
           {
            "marker": {
             "colorbar": {
              "outlinewidth": 0,
              "ticks": ""
             }
            },
            "type": "scattergeo"
           }
          ],
          "scattergl": [
           {
            "marker": {
             "colorbar": {
              "outlinewidth": 0,
              "ticks": ""
             }
            },
            "type": "scattergl"
           }
          ],
          "scattermapbox": [
           {
            "marker": {
             "colorbar": {
              "outlinewidth": 0,
              "ticks": ""
             }
            },
            "type": "scattermapbox"
           }
          ],
          "scatterpolar": [
           {
            "marker": {
             "colorbar": {
              "outlinewidth": 0,
              "ticks": ""
             }
            },
            "type": "scatterpolar"
           }
          ],
          "scatterpolargl": [
           {
            "marker": {
             "colorbar": {
              "outlinewidth": 0,
              "ticks": ""
             }
            },
            "type": "scatterpolargl"
           }
          ],
          "scatterternary": [
           {
            "marker": {
             "colorbar": {
              "outlinewidth": 0,
              "ticks": ""
             }
            },
            "type": "scatterternary"
           }
          ],
          "surface": [
           {
            "colorbar": {
             "outlinewidth": 0,
             "ticks": ""
            },
            "colorscale": [
             [
              0,
              "#0d0887"
             ],
             [
              0.1111111111111111,
              "#46039f"
             ],
             [
              0.2222222222222222,
              "#7201a8"
             ],
             [
              0.3333333333333333,
              "#9c179e"
             ],
             [
              0.4444444444444444,
              "#bd3786"
             ],
             [
              0.5555555555555556,
              "#d8576b"
             ],
             [
              0.6666666666666666,
              "#ed7953"
             ],
             [
              0.7777777777777778,
              "#fb9f3a"
             ],
             [
              0.8888888888888888,
              "#fdca26"
             ],
             [
              1,
              "#f0f921"
             ]
            ],
            "type": "surface"
           }
          ],
          "table": [
           {
            "cells": {
             "fill": {
              "color": "#EBF0F8"
             },
             "line": {
              "color": "white"
             }
            },
            "header": {
             "fill": {
              "color": "#C8D4E3"
             },
             "line": {
              "color": "white"
             }
            },
            "type": "table"
           }
          ]
         },
         "layout": {
          "annotationdefaults": {
           "arrowcolor": "#2a3f5f",
           "arrowhead": 0,
           "arrowwidth": 1
          },
          "autotypenumbers": "strict",
          "coloraxis": {
           "colorbar": {
            "outlinewidth": 0,
            "ticks": ""
           }
          },
          "colorscale": {
           "diverging": [
            [
             0,
             "#8e0152"
            ],
            [
             0.1,
             "#c51b7d"
            ],
            [
             0.2,
             "#de77ae"
            ],
            [
             0.3,
             "#f1b6da"
            ],
            [
             0.4,
             "#fde0ef"
            ],
            [
             0.5,
             "#f7f7f7"
            ],
            [
             0.6,
             "#e6f5d0"
            ],
            [
             0.7,
             "#b8e186"
            ],
            [
             0.8,
             "#7fbc41"
            ],
            [
             0.9,
             "#4d9221"
            ],
            [
             1,
             "#276419"
            ]
           ],
           "sequential": [
            [
             0,
             "#0d0887"
            ],
            [
             0.1111111111111111,
             "#46039f"
            ],
            [
             0.2222222222222222,
             "#7201a8"
            ],
            [
             0.3333333333333333,
             "#9c179e"
            ],
            [
             0.4444444444444444,
             "#bd3786"
            ],
            [
             0.5555555555555556,
             "#d8576b"
            ],
            [
             0.6666666666666666,
             "#ed7953"
            ],
            [
             0.7777777777777778,
             "#fb9f3a"
            ],
            [
             0.8888888888888888,
             "#fdca26"
            ],
            [
             1,
             "#f0f921"
            ]
           ],
           "sequentialminus": [
            [
             0,
             "#0d0887"
            ],
            [
             0.1111111111111111,
             "#46039f"
            ],
            [
             0.2222222222222222,
             "#7201a8"
            ],
            [
             0.3333333333333333,
             "#9c179e"
            ],
            [
             0.4444444444444444,
             "#bd3786"
            ],
            [
             0.5555555555555556,
             "#d8576b"
            ],
            [
             0.6666666666666666,
             "#ed7953"
            ],
            [
             0.7777777777777778,
             "#fb9f3a"
            ],
            [
             0.8888888888888888,
             "#fdca26"
            ],
            [
             1,
             "#f0f921"
            ]
           ]
          },
          "colorway": [
           "#636efa",
           "#EF553B",
           "#00cc96",
           "#ab63fa",
           "#FFA15A",
           "#19d3f3",
           "#FF6692",
           "#B6E880",
           "#FF97FF",
           "#FECB52"
          ],
          "font": {
           "color": "#2a3f5f"
          },
          "geo": {
           "bgcolor": "white",
           "lakecolor": "white",
           "landcolor": "#E5ECF6",
           "showlakes": true,
           "showland": true,
           "subunitcolor": "white"
          },
          "hoverlabel": {
           "align": "left"
          },
          "hovermode": "closest",
          "mapbox": {
           "style": "light"
          },
          "paper_bgcolor": "white",
          "plot_bgcolor": "#E5ECF6",
          "polar": {
           "angularaxis": {
            "gridcolor": "white",
            "linecolor": "white",
            "ticks": ""
           },
           "bgcolor": "#E5ECF6",
           "radialaxis": {
            "gridcolor": "white",
            "linecolor": "white",
            "ticks": ""
           }
          },
          "scene": {
           "xaxis": {
            "backgroundcolor": "#E5ECF6",
            "gridcolor": "white",
            "gridwidth": 2,
            "linecolor": "white",
            "showbackground": true,
            "ticks": "",
            "zerolinecolor": "white"
           },
           "yaxis": {
            "backgroundcolor": "#E5ECF6",
            "gridcolor": "white",
            "gridwidth": 2,
            "linecolor": "white",
            "showbackground": true,
            "ticks": "",
            "zerolinecolor": "white"
           },
           "zaxis": {
            "backgroundcolor": "#E5ECF6",
            "gridcolor": "white",
            "gridwidth": 2,
            "linecolor": "white",
            "showbackground": true,
            "ticks": "",
            "zerolinecolor": "white"
           }
          },
          "shapedefaults": {
           "line": {
            "color": "#2a3f5f"
           }
          },
          "ternary": {
           "aaxis": {
            "gridcolor": "white",
            "linecolor": "white",
            "ticks": ""
           },
           "baxis": {
            "gridcolor": "white",
            "linecolor": "white",
            "ticks": ""
           },
           "bgcolor": "#E5ECF6",
           "caxis": {
            "gridcolor": "white",
            "linecolor": "white",
            "ticks": ""
           }
          },
          "title": {
           "x": 0.05
          },
          "xaxis": {
           "automargin": true,
           "gridcolor": "white",
           "linecolor": "white",
           "ticks": "",
           "title": {
            "standoff": 15
           },
           "zerolinecolor": "white",
           "zerolinewidth": 2
          },
          "yaxis": {
           "automargin": true,
           "gridcolor": "white",
           "linecolor": "white",
           "ticks": "",
           "title": {
            "standoff": 15
           },
           "zerolinecolor": "white",
           "zerolinewidth": 2
          }
         }
        },
        "title": {
         "font": {
          "size": 30
         },
         "text": "Product sales by product line and by gender",
         "x": 0.5
        },
        "xaxis": {
         "anchor": "y",
         "domain": [
          0,
          1
         ],
         "title": {
          "text": "Product line"
         }
        },
        "yaxis": {
         "anchor": "x",
         "domain": [
          0,
          1
         ],
         "title": {
          "text": "Sum of total"
         }
        }
       }
      },
      "text/html": [
       "<div>                            <div id=\"b3f840f2-e395-4386-b4e4-2aaa637fbd5e\" class=\"plotly-graph-div\" style=\"height:400px; width:100%;\"></div>            <script type=\"text/javascript\">                require([\"plotly\"], function(Plotly) {                    window.PLOTLYENV=window.PLOTLYENV || {};                                    if (document.getElementById(\"b3f840f2-e395-4386-b4e4-2aaa637fbd5e\")) {                    Plotly.newPlot(                        \"b3f840f2-e395-4386-b4e4-2aaa637fbd5e\",                        [{\"alignmentgroup\":\"True\",\"bingroup\":\"x\",\"histfunc\":\"sum\",\"hovertemplate\":\"Gender=Female<br>Product line=%{x}<br>sum of Total=%{y}<extra></extra>\",\"legendgroup\":\"Female\",\"marker\":{\"color\":\"#f6d346\",\"pattern\":{\"shape\":\"\"}},\"name\":\"Female\",\"offsetgroup\":\"Female\",\"orientation\":\"v\",\"showlegend\":true,\"x\":[\"Health and beauty\",\"Electronic accessories\",\"Electronic accessories\",\"Home and lifestyle\",\"Health and beauty\",\"Food and beverages\",\"Fashion accessories\",\"Electronic accessories\",\"Health and beauty\",\"Sports and travel\",\"Health and beauty\",\"Home and lifestyle\",\"Home and lifestyle\",\"Fashion accessories\",\"Food and beverages\",\"Food and beverages\",\"Sports and travel\",\"Electronic accessories\",\"Health and beauty\",\"Home and lifestyle\",\"Sports and travel\",\"Food and beverages\",\"Electronic accessories\",\"Food and beverages\",\"Fashion accessories\",\"Food and beverages\",\"Fashion accessories\",\"Electronic accessories\",\"Home and lifestyle\",\"Sports and travel\",\"Sports and travel\",\"Health and beauty\",\"Fashion accessories\",\"Health and beauty\",\"Food and beverages\",\"Electronic accessories\",\"Electronic accessories\",\"Fashion accessories\",\"Food and beverages\",\"Health and beauty\",\"Health and beauty\",\"Food and beverages\",\"Food and beverages\",\"Sports and travel\",\"Health and beauty\",\"Home and lifestyle\",\"Sports and travel\",\"Sports and travel\",\"Electronic accessories\",\"Electronic accessories\",\"Food and beverages\",\"Sports and travel\",\"Health and beauty\",\"Fashion accessories\",\"Home and lifestyle\",\"Fashion accessories\",\"Food and beverages\",\"Electronic accessories\",\"Fashion accessories\",\"Home and lifestyle\",\"Sports and travel\",\"Fashion accessories\",\"Food and beverages\",\"Sports and travel\",\"Fashion accessories\",\"Sports and travel\",\"Sports and travel\",\"Health and beauty\",\"Electronic accessories\",\"Home and lifestyle\",\"Sports and travel\",\"Health and beauty\",\"Food and beverages\",\"Home and lifestyle\",\"Health and beauty\",\"Fashion accessories\",\"Fashion accessories\",\"Food and beverages\",\"Sports and travel\",\"Food and beverages\",\"Fashion accessories\",\"Sports and travel\",\"Home and lifestyle\",\"Home and lifestyle\",\"Home and lifestyle\",\"Fashion accessories\",\"Food and beverages\",\"Fashion accessories\",\"Home and lifestyle\",\"Food and beverages\",\"Sports and travel\",\"Electronic accessories\",\"Health and beauty\",\"Electronic accessories\",\"Home and lifestyle\",\"Fashion accessories\",\"Electronic accessories\",\"Food and beverages\",\"Sports and travel\",\"Sports and travel\",\"Electronic accessories\",\"Food and beverages\",\"Fashion accessories\",\"Sports and travel\",\"Electronic accessories\",\"Home and lifestyle\",\"Fashion accessories\",\"Electronic accessories\",\"Health and beauty\",\"Sports and travel\",\"Fashion accessories\",\"Electronic accessories\",\"Electronic accessories\",\"Sports and travel\",\"Electronic accessories\",\"Fashion accessories\",\"Fashion accessories\",\"Sports and travel\",\"Sports and travel\",\"Food and beverages\",\"Home and lifestyle\",\"Sports and travel\",\"Health and beauty\",\"Home and lifestyle\",\"Home and lifestyle\",\"Health and beauty\",\"Home and lifestyle\",\"Fashion accessories\",\"Home and lifestyle\",\"Sports and travel\",\"Health and beauty\",\"Sports and travel\",\"Food and beverages\",\"Home and lifestyle\",\"Electronic accessories\",\"Food and beverages\",\"Electronic accessories\",\"Home and lifestyle\",\"Electronic accessories\",\"Electronic accessories\",\"Sports and travel\",\"Home and lifestyle\",\"Electronic accessories\",\"Fashion accessories\",\"Food and beverages\",\"Health and beauty\",\"Electronic accessories\",\"Food and beverages\",\"Health and beauty\",\"Food and beverages\",\"Health and beauty\",\"Fashion accessories\",\"Electronic accessories\",\"Sports and travel\",\"Electronic accessories\",\"Food and beverages\",\"Health and beauty\",\"Health and beauty\",\"Food and beverages\",\"Fashion accessories\",\"Home and lifestyle\",\"Health and beauty\",\"Fashion accessories\",\"Fashion accessories\",\"Electronic accessories\",\"Food and beverages\",\"Fashion accessories\",\"Sports and travel\",\"Food and beverages\",\"Food and beverages\",\"Fashion accessories\",\"Electronic accessories\",\"Sports and travel\",\"Electronic accessories\",\"Fashion accessories\",\"Home and lifestyle\",\"Home and lifestyle\",\"Fashion accessories\",\"Home and lifestyle\",\"Electronic accessories\",\"Electronic accessories\",\"Food and beverages\",\"Food and beverages\",\"Food and beverages\",\"Health and beauty\",\"Fashion accessories\",\"Fashion accessories\",\"Fashion accessories\",\"Sports and travel\",\"Health and beauty\",\"Health and beauty\",\"Food and beverages\",\"Health and beauty\",\"Food and beverages\",\"Fashion accessories\",\"Fashion accessories\",\"Fashion accessories\",\"Home and lifestyle\",\"Fashion accessories\",\"Health and beauty\",\"Home and lifestyle\",\"Health and beauty\",\"Health and beauty\",\"Electronic accessories\",\"Food and beverages\",\"Electronic accessories\",\"Fashion accessories\",\"Food and beverages\",\"Home and lifestyle\",\"Electronic accessories\",\"Fashion accessories\",\"Electronic accessories\",\"Sports and travel\",\"Home and lifestyle\",\"Sports and travel\",\"Health and beauty\",\"Health and beauty\",\"Sports and travel\",\"Electronic accessories\",\"Food and beverages\",\"Fashion accessories\",\"Food and beverages\",\"Electronic accessories\",\"Food and beverages\",\"Sports and travel\",\"Food and beverages\",\"Sports and travel\",\"Health and beauty\",\"Electronic accessories\",\"Home and lifestyle\",\"Sports and travel\",\"Electronic accessories\",\"Sports and travel\",\"Electronic accessories\",\"Sports and travel\",\"Sports and travel\",\"Fashion accessories\",\"Home and lifestyle\",\"Fashion accessories\",\"Fashion accessories\",\"Health and beauty\",\"Home and lifestyle\",\"Electronic accessories\",\"Food and beverages\",\"Sports and travel\",\"Sports and travel\",\"Fashion accessories\",\"Sports and travel\",\"Sports and travel\",\"Food and beverages\",\"Home and lifestyle\",\"Sports and travel\",\"Home and lifestyle\",\"Fashion accessories\",\"Fashion accessories\",\"Electronic accessories\",\"Home and lifestyle\",\"Home and lifestyle\",\"Sports and travel\",\"Food and beverages\",\"Food and beverages\",\"Home and lifestyle\",\"Fashion accessories\",\"Fashion accessories\",\"Food and beverages\",\"Sports and travel\",\"Food and beverages\",\"Fashion accessories\",\"Sports and travel\",\"Electronic accessories\",\"Fashion accessories\",\"Health and beauty\",\"Fashion accessories\",\"Food and beverages\",\"Home and lifestyle\",\"Electronic accessories\",\"Food and beverages\",\"Sports and travel\",\"Fashion accessories\",\"Fashion accessories\",\"Sports and travel\",\"Home and lifestyle\",\"Health and beauty\",\"Health and beauty\",\"Fashion accessories\",\"Fashion accessories\",\"Food and beverages\",\"Sports and travel\",\"Home and lifestyle\",\"Sports and travel\",\"Sports and travel\",\"Sports and travel\",\"Fashion accessories\",\"Home and lifestyle\",\"Fashion accessories\",\"Sports and travel\",\"Fashion accessories\",\"Fashion accessories\",\"Food and beverages\",\"Electronic accessories\",\"Food and beverages\",\"Sports and travel\",\"Fashion accessories\",\"Food and beverages\",\"Food and beverages\",\"Home and lifestyle\",\"Fashion accessories\",\"Food and beverages\",\"Fashion accessories\",\"Electronic accessories\",\"Food and beverages\",\"Food and beverages\",\"Electronic accessories\",\"Food and beverages\",\"Sports and travel\",\"Health and beauty\",\"Electronic accessories\",\"Electronic accessories\",\"Fashion accessories\",\"Sports and travel\",\"Sports and travel\",\"Fashion accessories\",\"Food and beverages\",\"Sports and travel\",\"Fashion accessories\",\"Health and beauty\",\"Health and beauty\",\"Sports and travel\",\"Health and beauty\",\"Electronic accessories\",\"Sports and travel\",\"Food and beverages\",\"Electronic accessories\",\"Sports and travel\",\"Fashion accessories\",\"Sports and travel\",\"Home and lifestyle\",\"Sports and travel\",\"Food and beverages\",\"Sports and travel\",\"Fashion accessories\",\"Food and beverages\",\"Home and lifestyle\",\"Sports and travel\",\"Fashion accessories\",\"Fashion accessories\",\"Home and lifestyle\",\"Electronic accessories\",\"Home and lifestyle\",\"Electronic accessories\",\"Health and beauty\",\"Health and beauty\",\"Fashion accessories\",\"Fashion accessories\",\"Fashion accessories\",\"Sports and travel\",\"Food and beverages\",\"Health and beauty\",\"Home and lifestyle\",\"Fashion accessories\",\"Home and lifestyle\",\"Sports and travel\",\"Sports and travel\",\"Food and beverages\",\"Home and lifestyle\",\"Home and lifestyle\",\"Fashion accessories\",\"Food and beverages\",\"Electronic accessories\",\"Fashion accessories\",\"Fashion accessories\",\"Electronic accessories\",\"Home and lifestyle\",\"Food and beverages\",\"Food and beverages\",\"Fashion accessories\",\"Health and beauty\",\"Home and lifestyle\",\"Fashion accessories\",\"Electronic accessories\",\"Home and lifestyle\",\"Sports and travel\",\"Health and beauty\",\"Sports and travel\",\"Food and beverages\",\"Food and beverages\",\"Sports and travel\",\"Fashion accessories\",\"Home and lifestyle\",\"Health and beauty\",\"Health and beauty\",\"Home and lifestyle\",\"Electronic accessories\",\"Home and lifestyle\",\"Sports and travel\",\"Electronic accessories\",\"Fashion accessories\",\"Electronic accessories\",\"Home and lifestyle\",\"Sports and travel\",\"Electronic accessories\",\"Health and beauty\",\"Fashion accessories\",\"Electronic accessories\",\"Sports and travel\",\"Electronic accessories\",\"Food and beverages\",\"Fashion accessories\",\"Home and lifestyle\",\"Health and beauty\",\"Sports and travel\",\"Sports and travel\",\"Health and beauty\",\"Electronic accessories\",\"Sports and travel\",\"Home and lifestyle\",\"Sports and travel\",\"Sports and travel\",\"Food and beverages\",\"Sports and travel\",\"Food and beverages\",\"Fashion accessories\",\"Fashion accessories\",\"Electronic accessories\",\"Health and beauty\",\"Fashion accessories\",\"Home and lifestyle\",\"Food and beverages\",\"Home and lifestyle\",\"Home and lifestyle\",\"Home and lifestyle\",\"Electronic accessories\",\"Health and beauty\",\"Electronic accessories\",\"Electronic accessories\",\"Electronic accessories\",\"Food and beverages\",\"Fashion accessories\",\"Home and lifestyle\",\"Food and beverages\",\"Electronic accessories\",\"Fashion accessories\",\"Health and beauty\",\"Electronic accessories\",\"Fashion accessories\",\"Food and beverages\",\"Electronic accessories\",\"Health and beauty\",\"Health and beauty\",\"Home and lifestyle\",\"Health and beauty\",\"Food and beverages\",\"Home and lifestyle\",\"Food and beverages\",\"Electronic accessories\",\"Home and lifestyle\",\"Food and beverages\",\"Electronic accessories\",\"Fashion accessories\",\"Electronic accessories\",\"Home and lifestyle\",\"Home and lifestyle\",\"Home and lifestyle\",\"Sports and travel\",\"Sports and travel\",\"Electronic accessories\",\"Health and beauty\",\"Electronic accessories\",\"Fashion accessories\",\"Food and beverages\",\"Home and lifestyle\",\"Health and beauty\",\"Sports and travel\",\"Health and beauty\",\"Food and beverages\",\"Home and lifestyle\",\"Electronic accessories\",\"Food and beverages\",\"Home and lifestyle\",\"Food and beverages\",\"Food and beverages\",\"Fashion accessories\",\"Home and lifestyle\",\"Food and beverages\",\"Fashion accessories\",\"Electronic accessories\",\"Home and lifestyle\",\"Health and beauty\",\"Electronic accessories\",\"Food and beverages\",\"Food and beverages\",\"Electronic accessories\",\"Food and beverages\",\"Sports and travel\",\"Fashion accessories\",\"Health and beauty\",\"Food and beverages\",\"Sports and travel\",\"Electronic accessories\",\"Home and lifestyle\",\"Fashion accessories\"],\"xaxis\":\"x\",\"y\":[548.9715,80.22,433.692,772.38,76.146,172.746,60.816,246.4875,749.49,590.436,506.6355,84.63,441.756,184.107,463.89,417.564,71.526,575.316,461.328,91.056,435.456,829.08,394.632,189.0945,867.615,234.0975,75.054,722.232,759.675,77.931,520.4115,70.287,614.943,19.2465,152.838,478.233,437.325,189.0945,822.255,106.995,624.897,304.542,337.512,610.491,485.037,198.996,471.03,161.553,78.435,218.0115,321.111,34.629,309.3615,535.374,763.4655,85.113,115.08,836.304,474.348,688.6215,169.3125,299.8485,575.736,853.146,291.207,580.419,146.328,512.19,138.1275,216.846,942.9,720.3,31.9305,491.085,291.438,316.47,384.468,103.824,680.148,362.712,165.4485,90.699,793.716,293.202,242.676,154.392,829.71,78.0045,26.5545,374.7975,120.645,241.458,217.6335,629.8425,299.565,95.6655,942.4485,881.307,217.6335,130.0425,298.116,180.621,13.167,183.036,571.41,532.728,170.877,33.3585,794.6505,195.594,232.155,69.405,256.41,30.219,709.317,69.09,160.86,233.52,723.24,783.3,373.17,354.0075,44.352,203.553,25.263,628.173,229.11,400.764,587.664,16.107,200.214,224.4375,356.5485,697.368,65.604,76.356,272.58,93.0405,214.998,125.664,295.6905,745.836,83.412,172.011,74.7075,146.9475,820.365,66.402,218.0745,216.6885,41.391,324.2925,149.3625,365.085,150.0975,404.649,411.3795,565.215,509.4075,736.4385,749.7,141.75,1042.65,402.2655,31.752,374.388,394.275,1002.12,793.548,173.208,343.056,484.974,150.78,193.011,128.016,441.693,352.2225,507.675,334.341,99.33,55.881,523.3725,314.538,214.935,339.36,510.9615,253.512,398.475,548.73,83.727,406.875,284.9175,258.678,248.409,208.6875,718.7565,288.582,237.426,125.055,359.205,190.596,85.5855,120.162,185.367,121.59,264.7575,1020.705,65.7405,951.825,147.798,49.812,343.224,742.812,843.0345,140.385,20.1075,28.4235,41.076,470.673,333.9525,155.19,731.43,488.985,767.025,310.59,23.751,572.775,273.0525,103.782,527.751,168.21,338.31,174.615,344.4,388.29,207.858,431.445,734.076,72.87,206.43,212.688,127.26,132.762,568.512,103.0365,432.768,33.495,195.951,152.775,529.515,100.485,666.939,225.2775,398.958,54.0435,143.9865,523.971,235.872,479.9025,570.78,154.1295,148.68,77.658,306.81,551.124,84.756,74.76,308.91,270.585,416.178,513.2295,550.368,151.284,1034.46,228.123,356.328,852.705,517.965,621.243,586.971,543.753,430.71,269.934,326.256,195.258,75.936,164.871,226.065,178.164,47.859,236.88,440.937,193.4625,147.672,68.2395,343.413,381.3915,394.3275,209.118,30.408,935.2665,365.904,273.798,225.792,96.1905,695.2365,874.125,165.648,12.6945,48.51,92.5575,311.1885,743.82,609.168,32.529,351.603,49.4235,104.6745,277.6725,146.6325,135.3555,370.125,914.55,207.48,204.246,75.474,300.573,85.302,231.2415,477.54,470.988,308.574,41.454,36.5505,310.716,145.404,103.11,136.143,211.365,663.2955,539.343,497.07,458.6925,113.568,507.444,207.585,835.2855,180.6,317.226,733.6035,130.8825,187.32,525.231,110.124,187.866,856.4535,270.2595,239.4,383.523,93.744,596.82,150.423,266.028,40.341,55.2825,116.1405,93.744,143.22,182.91,267.3405,817.236,300.216,608.076,232.638,810.6,536.592,56.1225,801.864,239.589,401.688,72.009,401.268,631.1445,499.7265,55.041,151.515,397.992,32.151,369.684,53.34,57.6975,1022.385,97.881,63.9135,257.145,253.68,462.672,714.3255,325.374,195.678,210.966,18.6375,652.89,422.73,341.0925,408.408,446.964,333.984,100.128,216.4365,441.588,92.442,681.4395,779.31,99.54,299.3655,184.086,82.887,31.227,23.499,688.716,624.33,206.808,554.295,503.7375,345.0195,118.902,450.1035,90.5835,106.596,375.3645,250.7085,131.922,225.015,756.168,101.64,348.705,85.512,216.846,175.014,771.435,102.396,439.215,486.444,485.5725,297.801,423.738,145.5825,122.472,329.196,435.12,167.034,514.605,91.8225,235.746,782.208,313.74,223.587,397.614,82.719,338.2155,103.131,26.733,611.079,221.886,57.876,374.409,833.9625,175.035,781.62,397.845,579.8415,469.77,290.0835,360.927,479.64,690.018,222.012,68.985,263.97,88.368,312.8895,165.9,932.337,16.275,80.367,314.685,49.77,181.0725,888.615,313.572,26.7225,71.1585,921.186,334.4775,30.996,296.94,804.3,63.9975,1022.49,649.299],\"yaxis\":\"y\",\"type\":\"histogram\"},{\"alignmentgroup\":\"True\",\"bingroup\":\"x\",\"histfunc\":\"sum\",\"hovertemplate\":\"Gender=Male<br>Product line=%{x}<br>sum of Total=%{y}<extra></extra>\",\"legendgroup\":\"Male\",\"marker\":{\"color\":\"#35329b\",\"pattern\":{\"shape\":\"\"}},\"name\":\"Male\",\"offsetgroup\":\"Male\",\"orientation\":\"v\",\"showlegend\":true,\"x\":[\"Home and lifestyle\",\"Health and beauty\",\"Sports and travel\",\"Electronic accessories\",\"Electronic accessories\",\"Food and beverages\",\"Sports and travel\",\"Food and beverages\",\"Electronic accessories\",\"Health and beauty\",\"Home and lifestyle\",\"Electronic accessories\",\"Sports and travel\",\"Fashion accessories\",\"Health and beauty\",\"Fashion accessories\",\"Sports and travel\",\"Sports and travel\",\"Health and beauty\",\"Sports and travel\",\"Home and lifestyle\",\"Home and lifestyle\",\"Health and beauty\",\"Health and beauty\",\"Electronic accessories\",\"Food and beverages\",\"Fashion accessories\",\"Home and lifestyle\",\"Home and lifestyle\",\"Health and beauty\",\"Electronic accessories\",\"Home and lifestyle\",\"Sports and travel\",\"Health and beauty\",\"Health and beauty\",\"Sports and travel\",\"Food and beverages\",\"Fashion accessories\",\"Home and lifestyle\",\"Fashion accessories\",\"Food and beverages\",\"Sports and travel\",\"Fashion accessories\",\"Food and beverages\",\"Sports and travel\",\"Health and beauty\",\"Health and beauty\",\"Electronic accessories\",\"Health and beauty\",\"Food and beverages\",\"Home and lifestyle\",\"Fashion accessories\",\"Fashion accessories\",\"Food and beverages\",\"Health and beauty\",\"Electronic accessories\",\"Fashion accessories\",\"Sports and travel\",\"Electronic accessories\",\"Home and lifestyle\",\"Fashion accessories\",\"Fashion accessories\",\"Home and lifestyle\",\"Sports and travel\",\"Sports and travel\",\"Home and lifestyle\",\"Electronic accessories\",\"Fashion accessories\",\"Sports and travel\",\"Sports and travel\",\"Health and beauty\",\"Health and beauty\",\"Home and lifestyle\",\"Health and beauty\",\"Sports and travel\",\"Fashion accessories\",\"Food and beverages\",\"Electronic accessories\",\"Home and lifestyle\",\"Health and beauty\",\"Sports and travel\",\"Sports and travel\",\"Food and beverages\",\"Sports and travel\",\"Food and beverages\",\"Health and beauty\",\"Home and lifestyle\",\"Fashion accessories\",\"Food and beverages\",\"Sports and travel\",\"Health and beauty\",\"Food and beverages\",\"Electronic accessories\",\"Electronic accessories\",\"Food and beverages\",\"Home and lifestyle\",\"Food and beverages\",\"Food and beverages\",\"Health and beauty\",\"Fashion accessories\",\"Food and beverages\",\"Sports and travel\",\"Health and beauty\",\"Food and beverages\",\"Home and lifestyle\",\"Home and lifestyle\",\"Home and lifestyle\",\"Electronic accessories\",\"Health and beauty\",\"Health and beauty\",\"Electronic accessories\",\"Health and beauty\",\"Home and lifestyle\",\"Electronic accessories\",\"Home and lifestyle\",\"Sports and travel\",\"Home and lifestyle\",\"Fashion accessories\",\"Electronic accessories\",\"Food and beverages\",\"Electronic accessories\",\"Food and beverages\",\"Health and beauty\",\"Electronic accessories\",\"Fashion accessories\",\"Health and beauty\",\"Health and beauty\",\"Fashion accessories\",\"Food and beverages\",\"Health and beauty\",\"Fashion accessories\",\"Home and lifestyle\",\"Home and lifestyle\",\"Home and lifestyle\",\"Fashion accessories\",\"Electronic accessories\",\"Food and beverages\",\"Food and beverages\",\"Fashion accessories\",\"Home and lifestyle\",\"Home and lifestyle\",\"Fashion accessories\",\"Electronic accessories\",\"Home and lifestyle\",\"Electronic accessories\",\"Electronic accessories\",\"Sports and travel\",\"Home and lifestyle\",\"Home and lifestyle\",\"Fashion accessories\",\"Fashion accessories\",\"Sports and travel\",\"Home and lifestyle\",\"Health and beauty\",\"Health and beauty\",\"Home and lifestyle\",\"Electronic accessories\",\"Electronic accessories\",\"Health and beauty\",\"Electronic accessories\",\"Home and lifestyle\",\"Home and lifestyle\",\"Fashion accessories\",\"Health and beauty\",\"Food and beverages\",\"Electronic accessories\",\"Sports and travel\",\"Fashion accessories\",\"Food and beverages\",\"Electronic accessories\",\"Health and beauty\",\"Health and beauty\",\"Home and lifestyle\",\"Sports and travel\",\"Food and beverages\",\"Food and beverages\",\"Health and beauty\",\"Electronic accessories\",\"Home and lifestyle\",\"Food and beverages\",\"Fashion accessories\",\"Food and beverages\",\"Sports and travel\",\"Fashion accessories\",\"Electronic accessories\",\"Sports and travel\",\"Electronic accessories\",\"Electronic accessories\",\"Electronic accessories\",\"Home and lifestyle\",\"Electronic accessories\",\"Sports and travel\",\"Food and beverages\",\"Food and beverages\",\"Home and lifestyle\",\"Home and lifestyle\",\"Electronic accessories\",\"Fashion accessories\",\"Sports and travel\",\"Fashion accessories\",\"Sports and travel\",\"Sports and travel\",\"Food and beverages\",\"Food and beverages\",\"Electronic accessories\",\"Home and lifestyle\",\"Electronic accessories\",\"Home and lifestyle\",\"Home and lifestyle\",\"Sports and travel\",\"Food and beverages\",\"Sports and travel\",\"Health and beauty\",\"Sports and travel\",\"Home and lifestyle\",\"Health and beauty\",\"Fashion accessories\",\"Fashion accessories\",\"Fashion accessories\",\"Health and beauty\",\"Sports and travel\",\"Fashion accessories\",\"Food and beverages\",\"Fashion accessories\",\"Sports and travel\",\"Sports and travel\",\"Home and lifestyle\",\"Food and beverages\",\"Food and beverages\",\"Fashion accessories\",\"Food and beverages\",\"Fashion accessories\",\"Electronic accessories\",\"Health and beauty\",\"Electronic accessories\",\"Electronic accessories\",\"Food and beverages\",\"Food and beverages\",\"Food and beverages\",\"Sports and travel\",\"Food and beverages\",\"Fashion accessories\",\"Health and beauty\",\"Health and beauty\",\"Electronic accessories\",\"Sports and travel\",\"Electronic accessories\",\"Food and beverages\",\"Sports and travel\",\"Home and lifestyle\",\"Fashion accessories\",\"Home and lifestyle\",\"Fashion accessories\",\"Sports and travel\",\"Sports and travel\",\"Home and lifestyle\",\"Sports and travel\",\"Electronic accessories\",\"Health and beauty\",\"Electronic accessories\",\"Sports and travel\",\"Health and beauty\",\"Home and lifestyle\",\"Home and lifestyle\",\"Sports and travel\",\"Health and beauty\",\"Food and beverages\",\"Fashion accessories\",\"Fashion accessories\",\"Sports and travel\",\"Health and beauty\",\"Fashion accessories\",\"Electronic accessories\",\"Home and lifestyle\",\"Home and lifestyle\",\"Home and lifestyle\",\"Health and beauty\",\"Electronic accessories\",\"Home and lifestyle\",\"Sports and travel\",\"Fashion accessories\",\"Electronic accessories\",\"Electronic accessories\",\"Home and lifestyle\",\"Food and beverages\",\"Electronic accessories\",\"Food and beverages\",\"Electronic accessories\",\"Fashion accessories\",\"Sports and travel\",\"Food and beverages\",\"Food and beverages\",\"Sports and travel\",\"Fashion accessories\",\"Food and beverages\",\"Food and beverages\",\"Health and beauty\",\"Food and beverages\",\"Sports and travel\",\"Health and beauty\",\"Fashion accessories\",\"Health and beauty\",\"Health and beauty\",\"Sports and travel\",\"Health and beauty\",\"Food and beverages\",\"Electronic accessories\",\"Food and beverages\",\"Home and lifestyle\",\"Fashion accessories\",\"Food and beverages\",\"Fashion accessories\",\"Sports and travel\",\"Food and beverages\",\"Sports and travel\",\"Electronic accessories\",\"Food and beverages\",\"Fashion accessories\",\"Sports and travel\",\"Health and beauty\",\"Home and lifestyle\",\"Sports and travel\",\"Electronic accessories\",\"Food and beverages\",\"Home and lifestyle\",\"Food and beverages\",\"Health and beauty\",\"Health and beauty\",\"Fashion accessories\",\"Electronic accessories\",\"Electronic accessories\",\"Home and lifestyle\",\"Health and beauty\",\"Fashion accessories\",\"Electronic accessories\",\"Electronic accessories\",\"Home and lifestyle\",\"Sports and travel\",\"Fashion accessories\",\"Fashion accessories\",\"Sports and travel\",\"Food and beverages\",\"Fashion accessories\",\"Food and beverages\",\"Health and beauty\",\"Fashion accessories\",\"Health and beauty\",\"Food and beverages\",\"Fashion accessories\",\"Home and lifestyle\",\"Sports and travel\",\"Food and beverages\",\"Health and beauty\",\"Home and lifestyle\",\"Electronic accessories\",\"Home and lifestyle\",\"Food and beverages\",\"Health and beauty\",\"Health and beauty\",\"Food and beverages\",\"Fashion accessories\",\"Sports and travel\",\"Food and beverages\",\"Fashion accessories\",\"Electronic accessories\",\"Fashion accessories\",\"Home and lifestyle\",\"Food and beverages\",\"Home and lifestyle\",\"Sports and travel\",\"Fashion accessories\",\"Health and beauty\",\"Fashion accessories\",\"Electronic accessories\",\"Food and beverages\",\"Health and beauty\",\"Electronic accessories\",\"Electronic accessories\",\"Home and lifestyle\",\"Home and lifestyle\",\"Food and beverages\",\"Home and lifestyle\",\"Fashion accessories\",\"Health and beauty\",\"Home and lifestyle\",\"Food and beverages\",\"Electronic accessories\",\"Health and beauty\",\"Sports and travel\",\"Food and beverages\",\"Health and beauty\",\"Sports and travel\",\"Sports and travel\",\"Electronic accessories\",\"Health and beauty\",\"Electronic accessories\",\"Electronic accessories\",\"Health and beauty\",\"Sports and travel\",\"Fashion accessories\",\"Health and beauty\",\"Electronic accessories\",\"Fashion accessories\",\"Health and beauty\",\"Home and lifestyle\",\"Sports and travel\",\"Fashion accessories\",\"Health and beauty\",\"Electronic accessories\",\"Food and beverages\",\"Health and beauty\",\"Food and beverages\",\"Electronic accessories\",\"Sports and travel\",\"Fashion accessories\",\"Electronic accessories\",\"Electronic accessories\",\"Health and beauty\",\"Health and beauty\",\"Fashion accessories\",\"Fashion accessories\",\"Sports and travel\",\"Electronic accessories\",\"Fashion accessories\",\"Electronic accessories\",\"Fashion accessories\",\"Electronic accessories\",\"Electronic accessories\",\"Fashion accessories\",\"Health and beauty\",\"Food and beverages\",\"Health and beauty\",\"Sports and travel\",\"Health and beauty\",\"Sports and travel\",\"Food and beverages\",\"Sports and travel\",\"Food and beverages\",\"Fashion accessories\",\"Sports and travel\",\"Home and lifestyle\",\"Home and lifestyle\",\"Fashion accessories\",\"Electronic accessories\",\"Sports and travel\",\"Sports and travel\",\"Food and beverages\",\"Sports and travel\",\"Electronic accessories\",\"Electronic accessories\",\"Health and beauty\",\"Fashion accessories\",\"Health and beauty\",\"Food and beverages\",\"Home and lifestyle\",\"Food and beverages\",\"Health and beauty\",\"Fashion accessories\",\"Sports and travel\",\"Home and lifestyle\",\"Sports and travel\",\"Sports and travel\",\"Home and lifestyle\",\"Health and beauty\",\"Home and lifestyle\",\"Food and beverages\",\"Fashion accessories\",\"Health and beauty\",\"Health and beauty\",\"Electronic accessories\",\"Fashion accessories\",\"Home and lifestyle\",\"Health and beauty\",\"Home and lifestyle\",\"Food and beverages\",\"Electronic accessories\",\"Fashion accessories\",\"Electronic accessories\",\"Electronic accessories\",\"Food and beverages\",\"Home and lifestyle\",\"Home and lifestyle\",\"Electronic accessories\",\"Home and lifestyle\",\"Fashion accessories\",\"Fashion accessories\",\"Food and beverages\",\"Food and beverages\",\"Health and beauty\",\"Health and beauty\",\"Electronic accessories\",\"Health and beauty\",\"Electronic accessories\",\"Health and beauty\",\"Electronic accessories\",\"Fashion accessories\",\"Health and beauty\",\"Food and beverages\",\"Home and lifestyle\"],\"xaxis\":\"x\",\"y\":[340.5255,489.048,634.3785,627.6165,107.142,453.495,457.443,172.2105,451.71,277.137,69.72,181.44,279.1845,35.196,235.2105,494.1825,737.7615,703.752,202.818,328.755,253.008,117.831,32.277,535.7205,119.259,671.79,16.2015,33.936,93.114,752.64,192.843,351.099,166.005,318.108,166.635,827.085,939.54,652.26,705.6315,463.428,161.7,256.7775,401.73,362.943,44.5935,608.202,94.2375,102.018,922.635,166.1625,521.01,51.1455,742.2975,367.038,223.0725,931.035,172.494,391.419,860.685,548.7615,115.185,53.928,112.224,419.832,944.622,536.844,550.935,284.193,545.055,609.0,950.25,277.788,603.624,272.664,254.016,786.618,484.5225,75.7785,263.97,918.729,588.357,66.8745,336.5565,160.44,418.95,357.588,1003.59,1039.29,323.064,510.972,367.5525,420.2625,175.14,333.207,166.236,319.788,186.228,465.444,273.42,472.311,323.148,162.75,288.204,56.952,195.174,77.7735,107.31,171.7275,91.77,174.3,451.3635,271.95,93.2925,247.8735,484.89,146.223,19.194,796.908,285.705,456.288,62.0025,90.825,655.5465,155.652,310.044,545.37,91.4025,94.1745,235.683,125.517,195.72,263.13,788.508,399.756,94.185,326.424,536.991,439.8975,369.495,99.75,494.76,137.004,69.6675,163.233,135.45,276.948,57.1725,148.974,297.108,352.5795,745.395,462.21,38.85,628.929,350.07,78.603,423.15,204.6975,190.155,121.128,493.794,252.042,209.622,40.9605,51.0405,530.67,503.559,145.593,208.677,392.6475,185.094,96.138,135.576,410.508,523.845,395.892,214.746,152.712,208.089,103.635,404.355,49.308,77.175,721.98,151.4835,140.6475,75.5475,191.247,379.9215,255.15,86.625,78.7185,680.064,209.559,461.286,276.948,203.175,265.104,701.8515,407.316,345.786,79.611,294.651,133.917,80.661,128.4255,181.818,194.124,14.679,282.492,72.3975,45.927,110.0925,81.396,427.812,100.9155,213.528,17.094,383.7645,390.7995,353.1675,145.068,90.867,702.219,937.818,348.306,214.137,71.568,91.56,13.419,290.43,144.081,138.663,26.25,87.234,833.595,37.6845,212.73,269.535,233.226,22.659,452.865,609.588,205.317,353.094,360.885,40.53,554.148,194.985,633.99,156.03,24.108,209.769,637.728,77.6685,145.74,92.8725,203.112,321.7725,731.6925,429.1665,288.015,206.7975,72.933,377.58,132.027,514.773,164.682,125.706,926.9505,160.209,728.112,240.975,122.5245,102.837,96.642,79.674,118.251,163.002,575.9775,180.4005,139.923,142.002,118.062,262.458,203.931,936.6,469.413,208.425,280.035,74.4555,152.019,451.0275,597.6285,253.26,133.434,145.971,85.743,198.639,217.182,625.905,76.755,293.139,304.92,46.683,164.43,87.234,814.38,133.35,32.1405,121.569,293.643,84.9765,708.225,457.38,461.5275,620.739,95.9175,127.827,867.09,167.895,673.995,246.6765,175.917,314.055,251.7165,697.935,212.7825,165.123,116.907,63.2625,182.952,442.323,35.3115,259.77,397.215,764.19,352.674,252.756,58.2225,125.979,181.881,588.42,196.14,282.576,175.917,618.975,305.55,45.108,667.38,153.048,404.544,510.615,261.198,657.531,1023.75,101.808,760.4415,527.5095,72.429,131.208,80.955,507.906,829.08,37.611,142.947,138.978,98.028,175.0455,732.27,408.492,176.4,20.685,557.718,56.406,860.475,616.98,769.104,887.922,408.7335,89.0715,79.149,684.915,597.0405,384.72,197.925,757.365,233.1,86.247,137.865,480.0285,98.049,132.5625,830.3715,183.12,548.163,603.876,190.4805,432.9885,48.7305,287.91,680.61,57.078,97.419,455.1225,144.963,495.3165,90.3,99.9075,284.592,403.872,247.59,222.138,10.6785,130.032,681.975,88.704,262.794,95.865,54.999,202.335,281.169,586.635,163.611,63.315,22.386,295.407,76.923,77.805,390.9465,177.408,362.817,26.796,106.5015,760.452,76.5765,271.278,182.427,59.325,561.078,97.818,548.184,54.9675,41.7375,335.895,335.013,92.295,807.66,148.995,317.835,832.944,446.439,629.16,331.128,193.074,84.7455,888.405,431.256,44.9925,217.2555,92.7255,53.151,629.496,470.988,270.018,279.384,943.299,266.6475,74.088,176.925,56.469,188.0025,125.7165,415.233,477.1305,289.926,96.579,43.869,304.983,69.993,255.1815,271.2885,640.038,252.252,180.873,104.832,167.58,250.278,244.23,734.706,708.3195,520.8,864.57,633.108,121.863,183.645,42.3675,33.432,69.111],\"yaxis\":\"y\",\"type\":\"histogram\"}],                        {\"template\":{\"data\":{\"bar\":[{\"error_x\":{\"color\":\"#2a3f5f\"},\"error_y\":{\"color\":\"#2a3f5f\"},\"marker\":{\"line\":{\"color\":\"#E5ECF6\",\"width\":0.5},\"pattern\":{\"fillmode\":\"overlay\",\"size\":10,\"solidity\":0.2}},\"type\":\"bar\"}],\"barpolar\":[{\"marker\":{\"line\":{\"color\":\"#E5ECF6\",\"width\":0.5},\"pattern\":{\"fillmode\":\"overlay\",\"size\":10,\"solidity\":0.2}},\"type\":\"barpolar\"}],\"carpet\":[{\"aaxis\":{\"endlinecolor\":\"#2a3f5f\",\"gridcolor\":\"white\",\"linecolor\":\"white\",\"minorgridcolor\":\"white\",\"startlinecolor\":\"#2a3f5f\"},\"baxis\":{\"endlinecolor\":\"#2a3f5f\",\"gridcolor\":\"white\",\"linecolor\":\"white\",\"minorgridcolor\":\"white\",\"startlinecolor\":\"#2a3f5f\"},\"type\":\"carpet\"}],\"choropleth\":[{\"colorbar\":{\"outlinewidth\":0,\"ticks\":\"\"},\"type\":\"choropleth\"}],\"contour\":[{\"colorbar\":{\"outlinewidth\":0,\"ticks\":\"\"},\"colorscale\":[[0.0,\"#0d0887\"],[0.1111111111111111,\"#46039f\"],[0.2222222222222222,\"#7201a8\"],[0.3333333333333333,\"#9c179e\"],[0.4444444444444444,\"#bd3786\"],[0.5555555555555556,\"#d8576b\"],[0.6666666666666666,\"#ed7953\"],[0.7777777777777778,\"#fb9f3a\"],[0.8888888888888888,\"#fdca26\"],[1.0,\"#f0f921\"]],\"type\":\"contour\"}],\"contourcarpet\":[{\"colorbar\":{\"outlinewidth\":0,\"ticks\":\"\"},\"type\":\"contourcarpet\"}],\"heatmap\":[{\"colorbar\":{\"outlinewidth\":0,\"ticks\":\"\"},\"colorscale\":[[0.0,\"#0d0887\"],[0.1111111111111111,\"#46039f\"],[0.2222222222222222,\"#7201a8\"],[0.3333333333333333,\"#9c179e\"],[0.4444444444444444,\"#bd3786\"],[0.5555555555555556,\"#d8576b\"],[0.6666666666666666,\"#ed7953\"],[0.7777777777777778,\"#fb9f3a\"],[0.8888888888888888,\"#fdca26\"],[1.0,\"#f0f921\"]],\"type\":\"heatmap\"}],\"heatmapgl\":[{\"colorbar\":{\"outlinewidth\":0,\"ticks\":\"\"},\"colorscale\":[[0.0,\"#0d0887\"],[0.1111111111111111,\"#46039f\"],[0.2222222222222222,\"#7201a8\"],[0.3333333333333333,\"#9c179e\"],[0.4444444444444444,\"#bd3786\"],[0.5555555555555556,\"#d8576b\"],[0.6666666666666666,\"#ed7953\"],[0.7777777777777778,\"#fb9f3a\"],[0.8888888888888888,\"#fdca26\"],[1.0,\"#f0f921\"]],\"type\":\"heatmapgl\"}],\"histogram\":[{\"marker\":{\"pattern\":{\"fillmode\":\"overlay\",\"size\":10,\"solidity\":0.2}},\"type\":\"histogram\"}],\"histogram2d\":[{\"colorbar\":{\"outlinewidth\":0,\"ticks\":\"\"},\"colorscale\":[[0.0,\"#0d0887\"],[0.1111111111111111,\"#46039f\"],[0.2222222222222222,\"#7201a8\"],[0.3333333333333333,\"#9c179e\"],[0.4444444444444444,\"#bd3786\"],[0.5555555555555556,\"#d8576b\"],[0.6666666666666666,\"#ed7953\"],[0.7777777777777778,\"#fb9f3a\"],[0.8888888888888888,\"#fdca26\"],[1.0,\"#f0f921\"]],\"type\":\"histogram2d\"}],\"histogram2dcontour\":[{\"colorbar\":{\"outlinewidth\":0,\"ticks\":\"\"},\"colorscale\":[[0.0,\"#0d0887\"],[0.1111111111111111,\"#46039f\"],[0.2222222222222222,\"#7201a8\"],[0.3333333333333333,\"#9c179e\"],[0.4444444444444444,\"#bd3786\"],[0.5555555555555556,\"#d8576b\"],[0.6666666666666666,\"#ed7953\"],[0.7777777777777778,\"#fb9f3a\"],[0.8888888888888888,\"#fdca26\"],[1.0,\"#f0f921\"]],\"type\":\"histogram2dcontour\"}],\"mesh3d\":[{\"colorbar\":{\"outlinewidth\":0,\"ticks\":\"\"},\"type\":\"mesh3d\"}],\"parcoords\":[{\"line\":{\"colorbar\":{\"outlinewidth\":0,\"ticks\":\"\"}},\"type\":\"parcoords\"}],\"pie\":[{\"automargin\":true,\"type\":\"pie\"}],\"scatter\":[{\"marker\":{\"colorbar\":{\"outlinewidth\":0,\"ticks\":\"\"}},\"type\":\"scatter\"}],\"scatter3d\":[{\"line\":{\"colorbar\":{\"outlinewidth\":0,\"ticks\":\"\"}},\"marker\":{\"colorbar\":{\"outlinewidth\":0,\"ticks\":\"\"}},\"type\":\"scatter3d\"}],\"scattercarpet\":[{\"marker\":{\"colorbar\":{\"outlinewidth\":0,\"ticks\":\"\"}},\"type\":\"scattercarpet\"}],\"scattergeo\":[{\"marker\":{\"colorbar\":{\"outlinewidth\":0,\"ticks\":\"\"}},\"type\":\"scattergeo\"}],\"scattergl\":[{\"marker\":{\"colorbar\":{\"outlinewidth\":0,\"ticks\":\"\"}},\"type\":\"scattergl\"}],\"scattermapbox\":[{\"marker\":{\"colorbar\":{\"outlinewidth\":0,\"ticks\":\"\"}},\"type\":\"scattermapbox\"}],\"scatterpolar\":[{\"marker\":{\"colorbar\":{\"outlinewidth\":0,\"ticks\":\"\"}},\"type\":\"scatterpolar\"}],\"scatterpolargl\":[{\"marker\":{\"colorbar\":{\"outlinewidth\":0,\"ticks\":\"\"}},\"type\":\"scatterpolargl\"}],\"scatterternary\":[{\"marker\":{\"colorbar\":{\"outlinewidth\":0,\"ticks\":\"\"}},\"type\":\"scatterternary\"}],\"surface\":[{\"colorbar\":{\"outlinewidth\":0,\"ticks\":\"\"},\"colorscale\":[[0.0,\"#0d0887\"],[0.1111111111111111,\"#46039f\"],[0.2222222222222222,\"#7201a8\"],[0.3333333333333333,\"#9c179e\"],[0.4444444444444444,\"#bd3786\"],[0.5555555555555556,\"#d8576b\"],[0.6666666666666666,\"#ed7953\"],[0.7777777777777778,\"#fb9f3a\"],[0.8888888888888888,\"#fdca26\"],[1.0,\"#f0f921\"]],\"type\":\"surface\"}],\"table\":[{\"cells\":{\"fill\":{\"color\":\"#EBF0F8\"},\"line\":{\"color\":\"white\"}},\"header\":{\"fill\":{\"color\":\"#C8D4E3\"},\"line\":{\"color\":\"white\"}},\"type\":\"table\"}]},\"layout\":{\"annotationdefaults\":{\"arrowcolor\":\"#2a3f5f\",\"arrowhead\":0,\"arrowwidth\":1},\"autotypenumbers\":\"strict\",\"coloraxis\":{\"colorbar\":{\"outlinewidth\":0,\"ticks\":\"\"}},\"colorscale\":{\"diverging\":[[0,\"#8e0152\"],[0.1,\"#c51b7d\"],[0.2,\"#de77ae\"],[0.3,\"#f1b6da\"],[0.4,\"#fde0ef\"],[0.5,\"#f7f7f7\"],[0.6,\"#e6f5d0\"],[0.7,\"#b8e186\"],[0.8,\"#7fbc41\"],[0.9,\"#4d9221\"],[1,\"#276419\"]],\"sequential\":[[0.0,\"#0d0887\"],[0.1111111111111111,\"#46039f\"],[0.2222222222222222,\"#7201a8\"],[0.3333333333333333,\"#9c179e\"],[0.4444444444444444,\"#bd3786\"],[0.5555555555555556,\"#d8576b\"],[0.6666666666666666,\"#ed7953\"],[0.7777777777777778,\"#fb9f3a\"],[0.8888888888888888,\"#fdca26\"],[1.0,\"#f0f921\"]],\"sequentialminus\":[[0.0,\"#0d0887\"],[0.1111111111111111,\"#46039f\"],[0.2222222222222222,\"#7201a8\"],[0.3333333333333333,\"#9c179e\"],[0.4444444444444444,\"#bd3786\"],[0.5555555555555556,\"#d8576b\"],[0.6666666666666666,\"#ed7953\"],[0.7777777777777778,\"#fb9f3a\"],[0.8888888888888888,\"#fdca26\"],[1.0,\"#f0f921\"]]},\"colorway\":[\"#636efa\",\"#EF553B\",\"#00cc96\",\"#ab63fa\",\"#FFA15A\",\"#19d3f3\",\"#FF6692\",\"#B6E880\",\"#FF97FF\",\"#FECB52\"],\"font\":{\"color\":\"#2a3f5f\"},\"geo\":{\"bgcolor\":\"white\",\"lakecolor\":\"white\",\"landcolor\":\"#E5ECF6\",\"showlakes\":true,\"showland\":true,\"subunitcolor\":\"white\"},\"hoverlabel\":{\"align\":\"left\"},\"hovermode\":\"closest\",\"mapbox\":{\"style\":\"light\"},\"paper_bgcolor\":\"white\",\"plot_bgcolor\":\"#E5ECF6\",\"polar\":{\"angularaxis\":{\"gridcolor\":\"white\",\"linecolor\":\"white\",\"ticks\":\"\"},\"bgcolor\":\"#E5ECF6\",\"radialaxis\":{\"gridcolor\":\"white\",\"linecolor\":\"white\",\"ticks\":\"\"}},\"scene\":{\"xaxis\":{\"backgroundcolor\":\"#E5ECF6\",\"gridcolor\":\"white\",\"gridwidth\":2,\"linecolor\":\"white\",\"showbackground\":true,\"ticks\":\"\",\"zerolinecolor\":\"white\"},\"yaxis\":{\"backgroundcolor\":\"#E5ECF6\",\"gridcolor\":\"white\",\"gridwidth\":2,\"linecolor\":\"white\",\"showbackground\":true,\"ticks\":\"\",\"zerolinecolor\":\"white\"},\"zaxis\":{\"backgroundcolor\":\"#E5ECF6\",\"gridcolor\":\"white\",\"gridwidth\":2,\"linecolor\":\"white\",\"showbackground\":true,\"ticks\":\"\",\"zerolinecolor\":\"white\"}},\"shapedefaults\":{\"line\":{\"color\":\"#2a3f5f\"}},\"ternary\":{\"aaxis\":{\"gridcolor\":\"white\",\"linecolor\":\"white\",\"ticks\":\"\"},\"baxis\":{\"gridcolor\":\"white\",\"linecolor\":\"white\",\"ticks\":\"\"},\"bgcolor\":\"#E5ECF6\",\"caxis\":{\"gridcolor\":\"white\",\"linecolor\":\"white\",\"ticks\":\"\"}},\"title\":{\"x\":0.05},\"xaxis\":{\"automargin\":true,\"gridcolor\":\"white\",\"linecolor\":\"white\",\"ticks\":\"\",\"title\":{\"standoff\":15},\"zerolinecolor\":\"white\",\"zerolinewidth\":2},\"yaxis\":{\"automargin\":true,\"gridcolor\":\"white\",\"linecolor\":\"white\",\"ticks\":\"\",\"title\":{\"standoff\":15},\"zerolinecolor\":\"white\",\"zerolinewidth\":2}}},\"xaxis\":{\"anchor\":\"y\",\"domain\":[0.0,1.0],\"title\":{\"text\":\"Product line\"}},\"yaxis\":{\"anchor\":\"x\",\"domain\":[0.0,1.0],\"title\":{\"text\":\"Sum of total\"}},\"legend\":{\"title\":{\"text\":\"Gender\"},\"tracegroupgap\":0},\"margin\":{\"t\":60},\"barmode\":\"group\",\"height\":400,\"title\":{\"font\":{\"size\":30},\"text\":\"Product sales by product line and by gender\",\"x\":0.5},\"paper_bgcolor\":\"rgb(229, 237, 247)\",\"plot_bgcolor\":\"rgb(229, 237, 247)\"},                        {\"responsive\": true}                    ).then(function(){\n",
       "                            \n",
       "var gd = document.getElementById('b3f840f2-e395-4386-b4e4-2aaa637fbd5e');\n",
       "var x = new MutationObserver(function (mutations, observer) {{\n",
       "        var display = window.getComputedStyle(gd).display;\n",
       "        if (!display || display === 'none') {{\n",
       "            console.log([gd, 'removed!']);\n",
       "            Plotly.purge(gd);\n",
       "            observer.disconnect();\n",
       "        }}\n",
       "}});\n",
       "\n",
       "// Listen for the removal of the full notebook cells\n",
       "var notebookContainer = gd.closest('#notebook-container');\n",
       "if (notebookContainer) {{\n",
       "    x.observe(notebookContainer, {childList: true});\n",
       "}}\n",
       "\n",
       "// Listen for the clearing of the current output cell\n",
       "var outputEl = gd.closest('.output');\n",
       "if (outputEl) {{\n",
       "    x.observe(outputEl, {childList: true});\n",
       "}}\n",
       "\n",
       "                        })                };                });            </script>        </div>"
      ]
     },
     "metadata": {},
     "output_type": "display_data"
    }
   ],
   "source": [
    "fig = px.histogram(data, \n",
    "                   x=\"Product line\",\n",
    "                   y=\"Total\",\n",
    "                   color='Gender',\n",
    "                   barmode='group',\n",
    "                   histfunc='sum',\n",
    "                   color_discrete_sequence =['#f6d346','#35329b']\n",
    ")\n",
    "\n",
    "fig.update_xaxes(title_text=\"Product line\")\n",
    "fig.update_yaxes(title_text=\"Sum of total\")\n",
    "\n",
    "fig.update_layout(template=\"plotly\", height=400)\n",
    "\n",
    "fig.update(\n",
    "    layout_title_text=\"Product sales by product line and by gender\",\n",
    "    layout_title_font_size=30,\n",
    "    layout_title_x=0.5,\n",
    "    layout_paper_bgcolor='rgb(229, 237, 247)',\n",
    "    layout_plot_bgcolor='rgb(229, 237, 247)',\n",
    ")\n",
    "\n",
    "fig.show()"
   ]
  },
  {
   "cell_type": "markdown",
   "id": "676c458b",
   "metadata": {},
   "source": [
    "### Conclusion : --\n",
    "   - We observe here Females are buying more products than the Males .\n",
    "     -In health & beauty sector the Mandalay city did the hidhest product sale and the Yangon city did the lowest product sales       In home & lifestyle sector the Yangon city did the highest sale and the Naypyitaw city did the lowest sale ,\n",
    "      In sports & travel sector the Mandalay city did the max sale and the Naypyitaw city did the lowest sale ,\n",
    "      In electronic accessories sector the Naypyitaw city did the max sale and the Mandalay city did the lowest sale ,\n",
    "      In food & beverages sector the Naypyitaw city did the max sale and the Mandalay city did the lowest sale ,\n",
    "      In fashion accessories sector the Naypyitaw city did the max sale and the Yangon city did the lowest sale \n",
    "    - We have three payment methods and the percentage of usage is like Cash 34.4% , Ewallet 34.5% , Credit card 31.1% .\n",
    "    - The people who have taken the Membership they are taking the product more than \n",
    "      the Normal people are taking the product comparatively less . "
   ]
  },
  {
   "cell_type": "code",
   "execution_count": null,
   "id": "116c94c2",
   "metadata": {},
   "outputs": [],
   "source": []
  }
 ],
 "metadata": {
  "kernelspec": {
   "display_name": "Python 3 (ipykernel)",
   "language": "python",
   "name": "python3"
  },
  "language_info": {
   "codemirror_mode": {
    "name": "ipython",
    "version": 3
   },
   "file_extension": ".py",
   "mimetype": "text/x-python",
   "name": "python",
   "nbconvert_exporter": "python",
   "pygments_lexer": "ipython3",
   "version": "3.9.12"
  }
 },
 "nbformat": 4,
 "nbformat_minor": 5
}
